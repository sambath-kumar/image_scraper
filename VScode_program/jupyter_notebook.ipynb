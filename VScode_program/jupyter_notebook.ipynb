{
 "cells": [
  {
   "cell_type": "code",
   "execution_count": 23,
   "metadata": {},
   "outputs": [
    {
     "name": "stdout",
     "output_type": "stream",
     "text": [
      "sambath kumar\n"
     ]
    }
   ],
   "source": [
    "# pip install ipykernel \n",
    "# write the above statement in cmd window to make vscode compatible to jupyter notebook\n",
    "print(\"sambath kumar\")"
   ]
  },
  {
   "cell_type": "code",
   "execution_count": 24,
   "metadata": {},
   "outputs": [],
   "source": [
    "from src.loan import Loan"
   ]
  },
  {
   "cell_type": "code",
   "execution_count": 25,
   "metadata": {},
   "outputs": [
    {
     "name": "stdout",
     "output_type": "stream",
     "text": [
      "The account holder Kumar with account number 2\n",
      "He is loan status =Yes and cibil score is 750\n"
     ]
    }
   ],
   "source": [
    "kumar = Loan(2,\"Kumar\",\"Yes\", 750)\n",
    "kumar.status()\n"
   ]
  },
  {
   "cell_type": "code",
   "execution_count": 26,
   "metadata": {},
   "outputs": [],
   "source": [
    "import numpy\n",
    "import pandas"
   ]
  },
  {
   "cell_type": "code",
   "execution_count": 27,
   "metadata": {},
   "outputs": [],
   "source": [
    "# Postional and keyword arguments\n",
    "l1 = list((1,2,3,4))\n",
    "d1 = {\"1\":\"sambath\", \"2\":\"kumanan\"}   \n",
    "\n",
    "def disp(*args,**kwargs):   # *args, *kwargs should be strings\n",
    "    print(args)\n",
    "    print(kwargs)"
   ]
  },
  {
   "cell_type": "code",
   "execution_count": 28,
   "metadata": {},
   "outputs": [
    {
     "name": "stdout",
     "output_type": "stream",
     "text": [
      "([1, 2, 3, 4], {'1': 'sambath', '2': 'kumanan'})\n",
      "{}\n"
     ]
    }
   ],
   "source": [
    "disp(l1,d1)   # by default positional arguments taken "
   ]
  },
  {
   "cell_type": "code",
   "execution_count": 29,
   "metadata": {},
   "outputs": [
    {
     "name": "stdout",
     "output_type": "stream",
     "text": [
      "(1, 2, 3, 4)\n",
      "{'1': 'sambath', '2': 'kumanan'}\n"
     ]
    }
   ],
   "source": [
    "disp(*l1,**d1)"
   ]
  },
  {
   "cell_type": "code",
   "execution_count": 30,
   "metadata": {},
   "outputs": [],
   "source": [
    "# Revision class\n",
    "# user defined function\n",
    "\n",
    "def upper1(text):\n",
    "    return text.upper()"
   ]
  },
  {
   "cell_type": "code",
   "execution_count": 31,
   "metadata": {},
   "outputs": [
    {
     "name": "stdout",
     "output_type": "stream",
     "text": [
      "HAI HOW ARE YOU\n"
     ]
    }
   ],
   "source": [
    "t1 = upper1(\"Hai how are you\")\n",
    "print(t1)\n"
   ]
  },
  {
   "cell_type": "code",
   "execution_count": 32,
   "metadata": {},
   "outputs": [],
   "source": [
    "t2=t1"
   ]
  },
  {
   "cell_type": "code",
   "execution_count": 33,
   "metadata": {},
   "outputs": [
    {
     "name": "stdout",
     "output_type": "stream",
     "text": [
      "HAI HOW ARE YOU\n"
     ]
    }
   ],
   "source": [
    "print(t2)"
   ]
  },
  {
   "cell_type": "code",
   "execution_count": 34,
   "metadata": {},
   "outputs": [],
   "source": [
    "# Nested function structure\n",
    "def func1(): # function definition\n",
    "    def func2(): \n",
    "        return \n",
    "    return"
   ]
  },
  {
   "cell_type": "code",
   "execution_count": 35,
   "metadata": {},
   "outputs": [],
   "source": [
    "def add1(x):\n",
    "    def add2(y):\n",
    "        print (x+y)\n",
    "    return add2"
   ]
  },
  {
   "cell_type": "code",
   "execution_count": 36,
   "metadata": {},
   "outputs": [],
   "source": [
    "# Real time, we don't use functional approach. \n",
    "# Class : Blue print, generic. It has variables(instatnces) and methods \n",
    "# Object : Entity of a class, specific entity\n",
    "# Method : can access with help of \".\" operator\n",
    "\n",
    "# Four pillars of OOP: encapsulation, inheritance, polymorpsm, abstraction\n",
    "# encapsulation : data security, no one access internal information of a class \n",
    "# inheritance : reusability of a code\n",
    "# polymorpsm : single entity in multiple places"
   ]
  },
  {
   "cell_type": "code",
   "execution_count": 37,
   "metadata": {},
   "outputs": [],
   "source": [
    "class emp:\n",
    "    def __init__(self):\n",
    "        print(\"welcome\")\n",
    "    def test(text):\n",
    "        print(\"python\")\n",
    "    def demo(self):\n",
    "        print(\"OOP concept\")"
   ]
  },
  {
   "cell_type": "code",
   "execution_count": 38,
   "metadata": {},
   "outputs": [
    {
     "name": "stdout",
     "output_type": "stream",
     "text": [
      "welcome\n"
     ]
    }
   ],
   "source": [
    "sambath = emp()"
   ]
  },
  {
   "cell_type": "code",
   "execution_count": 39,
   "metadata": {},
   "outputs": [
    {
     "name": "stdout",
     "output_type": "stream",
     "text": [
      "OOP concept\n"
     ]
    }
   ],
   "source": [
    "sambath.demo()"
   ]
  },
  {
   "cell_type": "code",
   "execution_count": 40,
   "metadata": {},
   "outputs": [
    {
     "name": "stdout",
     "output_type": "stream",
     "text": [
      "python\n"
     ]
    }
   ],
   "source": [
    "sambath.test()"
   ]
  },
  {
   "cell_type": "code",
   "execution_count": 41,
   "metadata": {},
   "outputs": [],
   "source": [
    "class emp1:\n",
    "    def __init__(self):\n",
    "        print(\"welcome\")\n",
    "    def test():    # self missing, it is not a instance or class method\n",
    "        print(\"python\")\n",
    "    def demo(self):\n",
    "        print(\"OOP concept\")"
   ]
  },
  {
   "cell_type": "code",
   "execution_count": 42,
   "metadata": {},
   "outputs": [
    {
     "name": "stdout",
     "output_type": "stream",
     "text": [
      "welcome\n"
     ]
    }
   ],
   "source": [
    "kumar = emp1()"
   ]
  },
  {
   "cell_type": "code",
   "execution_count": 43,
   "metadata": {},
   "outputs": [
    {
     "ename": "TypeError",
     "evalue": "test() takes 0 positional arguments but 1 was given",
     "output_type": "error",
     "traceback": [
      "\u001b[1;31m---------------------------------------------------------------------------\u001b[0m",
      "\u001b[1;31mTypeError\u001b[0m                                 Traceback (most recent call last)",
      "Cell \u001b[1;32mIn[43], line 1\u001b[0m\n\u001b[1;32m----> 1\u001b[0m kumar\u001b[39m.\u001b[39;49mtest()   \u001b[39m# it is generic method, so it does not run inside a class\u001b[39;00m\n",
      "\u001b[1;31mTypeError\u001b[0m: test() takes 0 positional arguments but 1 was given"
     ]
    }
   ],
   "source": [
    "kumar.test()   # it is generic method, so it does not run inside a class"
   ]
  },
  {
   "cell_type": "code",
   "execution_count": null,
   "metadata": {},
   "outputs": [],
   "source": [
    "class emp1:\n",
    "    def __init__(self):\n",
    "        print(\"welcome\")\n",
    "    def test(self):    \n",
    "        print(f\"python class is available in the location {id(self)}\")\n",
    "    def demo(self):\n",
    "        print(f\"OOP concept available in the location {id(self)}\")"
   ]
  },
  {
   "cell_type": "code",
   "execution_count": null,
   "metadata": {},
   "outputs": [
    {
     "name": "stdout",
     "output_type": "stream",
     "text": [
      "welcome\n"
     ]
    }
   ],
   "source": [
    "kumanan = emp1()\n"
   ]
  },
  {
   "cell_type": "code",
   "execution_count": null,
   "metadata": {},
   "outputs": [
    {
     "name": "stdout",
     "output_type": "stream",
     "text": [
      "python class is available in the location 2080610922256\n"
     ]
    }
   ],
   "source": [
    "kumanan.test()   # getting address of the object\n",
    "# self holding the memory refernce"
   ]
  },
  {
   "cell_type": "code",
   "execution_count": null,
   "metadata": {},
   "outputs": [
    {
     "name": "stdout",
     "output_type": "stream",
     "text": [
      "welcome\n",
      "python class is available in the location 2080610524656\n",
      "OOP concept available in the location 2080610524656\n"
     ]
    }
   ],
   "source": [
    "kani = emp1()\n",
    "kani.test()\n",
    "kani.demo()"
   ]
  },
  {
   "cell_type": "code",
   "execution_count": null,
   "metadata": {},
   "outputs": [],
   "source": [
    "class emp:\n",
    "    def __init__(self):\n",
    "        self.name = \"sambath kumar\"\n",
    "        self.age = 35"
   ]
  },
  {
   "cell_type": "code",
   "execution_count": null,
   "metadata": {},
   "outputs": [],
   "source": [
    "sam = emp()"
   ]
  },
  {
   "cell_type": "code",
   "execution_count": null,
   "metadata": {},
   "outputs": [
    {
     "name": "stdout",
     "output_type": "stream",
     "text": [
      "35\n",
      "sambath kumar\n"
     ]
    }
   ],
   "source": [
    "print(sam.age)  # access instance variable from a class\n",
    "print(sam.name)"
   ]
  },
  {
   "cell_type": "code",
   "execution_count": null,
   "metadata": {},
   "outputs": [],
   "source": [
    "class emp:\n",
    "    def __init__(self,a,b,c):\n",
    "        self.name = a\n",
    "        self.age = b\n",
    "        self.work = c\n",
    "\n",
    "    def show(self):     # encapsulation: access instances using methods\n",
    "        print(f\"{self.name} is {self.age} years old and doing {self.work} work\")"
   ]
  },
  {
   "cell_type": "code",
   "execution_count": null,
   "metadata": {},
   "outputs": [],
   "source": [
    "sam = emp(\"sambath kumar\", 35, \"Teacher\")"
   ]
  },
  {
   "cell_type": "code",
   "execution_count": null,
   "metadata": {},
   "outputs": [
    {
     "name": "stdout",
     "output_type": "stream",
     "text": [
      "sambath kumar is 35 years old and doing Teacher work\n"
     ]
    }
   ],
   "source": [
    "  # access instance variables using methods: encapsulation\n",
    "  sam.show()"
   ]
  },
  {
   "cell_type": "code",
   "execution_count": null,
   "metadata": {},
   "outputs": [
    {
     "data": {
      "text/plain": [
       "'sambath kumar'"
      ]
     },
     "execution_count": 42,
     "metadata": {},
     "output_type": "execute_result"
    }
   ],
   "source": [
    "sam.name   # variables are public. so it can access outside a class\n",
    "# if variables are private then it can't access outside a class"
   ]
  },
  {
   "cell_type": "code",
   "execution_count": null,
   "metadata": {},
   "outputs": [],
   "source": [
    "class emp:\n",
    "    def __init__(self,a,b,c):\n",
    "        self.name = a\n",
    "        self.age = b\n",
    "        self.work = c\n",
    "\n",
    "    def show(self):    \n",
    "        print(f\"{self.name} is {self.age} years old and doing {self.work} work\")\n",
    "\n",
    "    def update(self, salary):\n",
    "        print(f\"{self.name} is getting {salary} as a salary\")"
   ]
  },
  {
   "cell_type": "code",
   "execution_count": null,
   "metadata": {},
   "outputs": [],
   "source": [
    "sam1 = emp(\"sambath\", 35, \"employee\")"
   ]
  },
  {
   "cell_type": "code",
   "execution_count": null,
   "metadata": {},
   "outputs": [
    {
     "name": "stdout",
     "output_type": "stream",
     "text": [
      "sambath is 35 years old and doing employee work\n"
     ]
    }
   ],
   "source": [
    "sam1.show()"
   ]
  },
  {
   "cell_type": "code",
   "execution_count": null,
   "metadata": {},
   "outputs": [
    {
     "name": "stdout",
     "output_type": "stream",
     "text": [
      "sambath is getting 450000 as a salary\n"
     ]
    }
   ],
   "source": [
    "sam1.update(450000)"
   ]
  },
  {
   "cell_type": "code",
   "execution_count": null,
   "metadata": {},
   "outputs": [],
   "source": [
    "import math\n",
    "class circle:\n",
    "    def __init__(self,r):\n",
    "        self.r = r\n",
    "        print(\"Radius of a circle:\", self.r)\n",
    "    def area(self):\n",
    "        self.a = math.pi*(self.r**2)\n",
    "    def circum(self):\n",
    "        self.c = 2*math.pi*self.r\n",
    "    def disp(self):\n",
    "        print(f\"area of a circle: {self.a}\")\n",
    "        print(f\"circumeference of a circle: {self.c}\")"
   ]
  },
  {
   "cell_type": "code",
   "execution_count": null,
   "metadata": {},
   "outputs": [
    {
     "name": "stdout",
     "output_type": "stream",
     "text": [
      "Radius of a circle: 10\n"
     ]
    }
   ],
   "source": [
    "cir = circle(10)\n"
   ]
  },
  {
   "cell_type": "code",
   "execution_count": null,
   "metadata": {},
   "outputs": [],
   "source": [
    "cir.area()\n",
    "cir.circum()"
   ]
  },
  {
   "cell_type": "code",
   "execution_count": null,
   "metadata": {},
   "outputs": [
    {
     "name": "stdout",
     "output_type": "stream",
     "text": [
      "area of a circle: 314.1592653589793\n",
      "circumeference of a circle: 62.83185307179586\n"
     ]
    }
   ],
   "source": [
    "cir.disp()"
   ]
  },
  {
   "cell_type": "code",
   "execution_count": null,
   "metadata": {},
   "outputs": [],
   "source": [
    "class emp:\n",
    "    company = \"IBM\"\n",
    "    def __init__(self,a,b,c):  # a,b,c are dynamic instance variables (attributes)\n",
    "        self.name = a\n",
    "        self.age = b\n",
    "        self.work = c\n",
    "\n",
    "    def show(self):    \n",
    "        print(f\"{self.name} is {self.age} years old and doing {self.work} work\")\n",
    "\n",
    "    def update(self, salary):\n",
    "        print(f\"{self.name} is getting {salary} as a salary\")"
   ]
  },
  {
   "cell_type": "code",
   "execution_count": null,
   "metadata": {},
   "outputs": [],
   "source": [
    "sambath = emp(\"sambath kumar\", 35, \"scientist\")"
   ]
  },
  {
   "cell_type": "code",
   "execution_count": null,
   "metadata": {},
   "outputs": [
    {
     "name": "stdout",
     "output_type": "stream",
     "text": [
      "35\n",
      "sambath kumar\n",
      "scientist\n",
      "IBM\n"
     ]
    }
   ],
   "source": [
    "print(sambath.age)   # instance variable\n",
    "print(sambath.name)   # instance variable\n",
    "print(sambath.work)   # instance variable\n",
    "print(sambath.company)   # class variable"
   ]
  },
  {
   "cell_type": "code",
   "execution_count": null,
   "metadata": {},
   "outputs": [
    {
     "data": {
      "text/plain": [
       "'IBM'"
      ]
     },
     "execution_count": 84,
     "metadata": {},
     "output_type": "execute_result"
    }
   ],
   "source": [
    "emp.company  # access class vraible using class\n",
    "# class variable is copy to all objects "
   ]
  },
  {
   "cell_type": "code",
   "execution_count": null,
   "metadata": {},
   "outputs": [],
   "source": [
    "# Three different variable\n",
    "# class variable, instance variable and local variable\n",
    "# class variable is like global variable (common for all objects)\n",
    "# instance variable: access  for object (instance) with self \n",
    "# local variable : access within the methods"
   ]
  },
  {
   "cell_type": "code",
   "execution_count": null,
   "metadata": {},
   "outputs": [],
   "source": [
    "class emp2:\n",
    "    company = \"IBM\"\n",
    "    def __init__(self):\n",
    "        self.name = \"sambath\"\n",
    "        age = 35"
   ]
  },
  {
   "cell_type": "code",
   "execution_count": null,
   "metadata": {},
   "outputs": [],
   "source": [
    "sambath = emp2()"
   ]
  },
  {
   "cell_type": "code",
   "execution_count": null,
   "metadata": {},
   "outputs": [
    {
     "data": {
      "text/plain": [
       "'sambath'"
      ]
     },
     "execution_count": 70,
     "metadata": {},
     "output_type": "execute_result"
    }
   ],
   "source": [
    "sambath.name"
   ]
  },
  {
   "cell_type": "code",
   "execution_count": null,
   "metadata": {},
   "outputs": [
    {
     "ename": "AttributeError",
     "evalue": "'emp2' object has no attribute 'age'",
     "output_type": "error",
     "traceback": [
      "\u001b[1;31m---------------------------------------------------------------------------\u001b[0m",
      "\u001b[1;31mAttributeError\u001b[0m                            Traceback (most recent call last)",
      "Cell \u001b[1;32mIn[71], line 1\u001b[0m\n\u001b[1;32m----> 1\u001b[0m sambath\u001b[39m.\u001b[39;49mage\n",
      "\u001b[1;31mAttributeError\u001b[0m: 'emp2' object has no attribute 'age'"
     ]
    }
   ],
   "source": [
    "sambath.age"
   ]
  },
  {
   "cell_type": "code",
   "execution_count": null,
   "metadata": {},
   "outputs": [],
   "source": [
    "# Methods\n",
    "# instance (object) method\n",
    "# class method\n",
    "# static method "
   ]
  },
  {
   "cell_type": "code",
   "execution_count": null,
   "metadata": {},
   "outputs": [],
   "source": [
    "class emp:\n",
    "    company = \"IBM\"\n",
    "    inc = 10\n",
    "    def __init__(self,a,b,c,d):  \n",
    "        self.name = a\n",
    "        self.age = b\n",
    "        self.work = c\n",
    "        self.salary = d\n",
    "\n",
    "    def show(self):    # instance method with self \n",
    "        print(f\"{self.name} is {self.age} years old and doing {self.work} work\")\n",
    "\n",
    "    def increment(self):\n",
    "        self.incr = self.salary + (self.salary*(self.inc)/100)\n",
    "        print(\"new salary\", self.incr)\n",
    "    \n",
    "    def show():  # Local method is not allowed inside a class\n",
    "        print(\"Local method inside a class is not executable\")"
   ]
  },
  {
   "cell_type": "code",
   "execution_count": null,
   "metadata": {},
   "outputs": [],
   "source": [
    "# inside a class, not possible to create local method (without self)\n",
    "sam = emp(\"sambath\", 35, \"scientist\", 45000)"
   ]
  },
  {
   "cell_type": "code",
   "execution_count": null,
   "metadata": {},
   "outputs": [
    {
     "name": "stdout",
     "output_type": "stream",
     "text": [
      "new salary 49500.0\n"
     ]
    }
   ],
   "source": [
    "sam.increment()   # instance method"
   ]
  },
  {
   "cell_type": "code",
   "execution_count": null,
   "metadata": {},
   "outputs": [
    {
     "ename": "TypeError",
     "evalue": "show() takes 0 positional arguments but 1 was given",
     "output_type": "error",
     "traceback": [
      "\u001b[1;31m---------------------------------------------------------------------------\u001b[0m",
      "\u001b[1;31mTypeError\u001b[0m                                 Traceback (most recent call last)",
      "Cell \u001b[1;32mIn[6], line 1\u001b[0m\n\u001b[1;32m----> 1\u001b[0m sam\u001b[39m.\u001b[39;49mshow()   \u001b[39m# Local method : not run inside a class but can initialize (no use inside a class)\u001b[39;00m\n",
      "\u001b[1;31mTypeError\u001b[0m: show() takes 0 positional arguments but 1 was given"
     ]
    }
   ],
   "source": [
    "sam.show()   # Local method : not run inside a class but can initialize (no use inside a class)"
   ]
  },
  {
   "cell_type": "code",
   "execution_count": null,
   "metadata": {},
   "outputs": [],
   "source": [
    "# class method : access all methods inside a class, access class variable\n",
    "# class method is having knowledge of an entire class\n",
    "# all objects are available inside a class reference only\n",
    "# class method : access anything throughout objects (class variables, methods) with 'cls' (access entire class) \n",
    "# -----------------------------------------------------------------------------\n",
    "# static method: does not access anything from a class and instances\n",
    "# It is individual entity (does not have any reference like 'cls', 'self')"
   ]
  },
  {
   "cell_type": "code",
   "execution_count": null,
   "metadata": {},
   "outputs": [],
   "source": [
    "class temp:\n",
    "    def __init__(self):\n",
    "        print(f\"the referecnce {id(self)}\")"
   ]
  },
  {
   "cell_type": "code",
   "execution_count": null,
   "metadata": {},
   "outputs": [
    {
     "name": "stdout",
     "output_type": "stream",
     "text": [
      "the referecnce 2080606911312\n"
     ]
    }
   ],
   "source": [
    "obj1 = temp()"
   ]
  },
  {
   "cell_type": "code",
   "execution_count": null,
   "metadata": {},
   "outputs": [
    {
     "name": "stdout",
     "output_type": "stream",
     "text": [
      "2080606911312\n"
     ]
    }
   ],
   "source": [
    "print(id(obj1))    # obj1 reference"
   ]
  },
  {
   "cell_type": "code",
   "execution_count": null,
   "metadata": {},
   "outputs": [],
   "source": [
    "class temp:\n",
    "    city = \"chennai\"\n",
    "    def __init__(self, n):\n",
    "        self.name = n\n",
    "        print(f\"the id of self is {id(self)}\")"
   ]
  },
  {
   "cell_type": "code",
   "execution_count": 50,
   "metadata": {},
   "outputs": [
    {
     "name": "stdout",
     "output_type": "stream",
     "text": [
      "object id is 2286478106976\n"
     ]
    }
   ],
   "source": [
    "sam = temp(\"sambath\")\n",
    "print(f\"object id is {id(sam)}\")\n"
   ]
  },
  {
   "cell_type": "code",
   "execution_count": 51,
   "metadata": {},
   "outputs": [
    {
     "name": "stdout",
     "output_type": "stream",
     "text": [
      "object id is 2286478106880\n"
     ]
    }
   ],
   "source": [
    "kum = temp(\"kumar\")\n",
    "print(f\"object id is {id(kum)}\")"
   ]
  },
  {
   "cell_type": "code",
   "execution_count": 52,
   "metadata": {},
   "outputs": [
    {
     "name": "stdout",
     "output_type": "stream",
     "text": [
      "chennai\n",
      "chennai\n"
     ]
    }
   ],
   "source": [
    "print(sam.city)\n",
    "print(kum.city)"
   ]
  },
  {
   "cell_type": "code",
   "execution_count": 53,
   "metadata": {},
   "outputs": [
    {
     "name": "stdout",
     "output_type": "stream",
     "text": [
      "2286339079600\n",
      "2286339079600\n"
     ]
    }
   ],
   "source": [
    "print(id(sam.city))    # city is class variable \n",
    "print(id(kum.city))    # sam and kum both belong to same city (same class variable)\n"
   ]
  },
  {
   "cell_type": "code",
   "execution_count": 47,
   "metadata": {},
   "outputs": [],
   "source": [
    "class temp:\n",
    "    city = \"chennai\"\n",
    "    @classmethod\n",
    "    def disp(cls):\n",
    "        print(f\"He is belongs to {cls.city}\")\n",
    "        print(f\"the class address is {id(cls)}\")\n",
    "\n",
    "    def __init__(self, n):\n",
    "        self.name = n\n",
    "        "
   ]
  },
  {
   "cell_type": "code",
   "execution_count": 48,
   "metadata": {},
   "outputs": [
    {
     "data": {
      "text/plain": [
       "'chennai'"
      ]
     },
     "execution_count": 48,
     "metadata": {},
     "output_type": "execute_result"
    }
   ],
   "source": [
    "kanish = temp(\"kanish\")\n",
    "kanish.city"
   ]
  },
  {
   "cell_type": "code",
   "execution_count": 54,
   "metadata": {},
   "outputs": [
    {
     "name": "stdout",
     "output_type": "stream",
     "text": [
      "2286339079600\n",
      "2286339079600\n",
      "2286339079600\n",
      "He is belongs to chennai\n",
      "the class address is 2286447278400\n",
      "None\n",
      "He is belongs to chennai\n",
      "the class address is 2286447278400\n",
      "None\n"
     ]
    }
   ],
   "source": [
    "print(id(sam.city))    # city is class variable \n",
    "print(id(kum.city))\n",
    "print(id(kanish.city))\n",
    "\n",
    "print(kanish.disp())\n",
    "print(sam.disp())"
   ]
  },
  {
   "cell_type": "code",
   "execution_count": 72,
   "metadata": {},
   "outputs": [],
   "source": [
    "class emp:\n",
    "    company = \"IBM\"   # class variable\n",
    "    inc = 10          # class variable\n",
    "    @classmethod\n",
    "    def disp(cls):\n",
    "        print(f\"It is a class belongs to {cls.company} and all employee get an increment of {cls.inc}%\")\n",
    "        print(f\"class address is {id(cls)}\")\n",
    "        print(f\"method address using class is {id(cls.show)}\")\n",
    "        \n",
    "    def __init__(self,a,b):  # constructor\n",
    "        self.name = a\n",
    "        self.age = b\n",
    "        \n",
    "    def show(self):    # instance method with self \n",
    "        print(f\"{self.name} is {self.age} years old\")\n",
    "        print(f\"method address using instance is {id(self.show)}\")\n",
    "   "
   ]
  },
  {
   "cell_type": "code",
   "execution_count": 73,
   "metadata": {},
   "outputs": [],
   "source": [
    "sambath = emp(\"sambath\", 35)\n",
    "kumar = emp(\"kumar\", 36)"
   ]
  },
  {
   "cell_type": "code",
   "execution_count": 74,
   "metadata": {},
   "outputs": [
    {
     "name": "stdout",
     "output_type": "stream",
     "text": [
      "sambath is 35 years old\n",
      "method address using instance is 2286478548864\n"
     ]
    }
   ],
   "source": [
    "sambath.show()"
   ]
  },
  {
   "cell_type": "code",
   "execution_count": 75,
   "metadata": {},
   "outputs": [
    {
     "name": "stdout",
     "output_type": "stream",
     "text": [
      "It is a class belongs to IBM and all employee get an increment of 10%\n",
      "class address is 2286447307664\n",
      "method address using class is 2286478588368\n"
     ]
    }
   ],
   "source": [
    "sambath.disp()"
   ]
  },
  {
   "cell_type": "code",
   "execution_count": 76,
   "metadata": {},
   "outputs": [],
   "source": [
    "# static method\n",
    "\n",
    "class emp:\n",
    "    company = \"IBM\"   # class variable\n",
    "    inc = 10          # class variable\n",
    "    @classmethod\n",
    "    def disp(cls):\n",
    "        print(f\"It is a class belongs to {cls.company} and all employee get an increment of {cls.inc}%\")\n",
    "        print(f\"class address is {id(cls)}\")\n",
    "        print(f\"method address using class is {id(cls.show)}\")\n",
    "\n",
    "    @staticmethod\n",
    "    def view():   # separate entity, does not have reference like cls and self\n",
    "        print(\"It is a static method\")\n",
    "        \n",
    "    def __init__(self,a,b):  # constructor\n",
    "        self.name = a\n",
    "        self.age = b\n",
    "        \n",
    "    def show(self):    # instance method with self \n",
    "        print(f\"{self.name} is {self.age} years old\")\n",
    "        print(f\"method address using instance is {id(self.show)}\")\n",
    "   "
   ]
  },
  {
   "cell_type": "code",
   "execution_count": 79,
   "metadata": {},
   "outputs": [
    {
     "name": "stdout",
     "output_type": "stream",
     "text": [
      "It is a static method\n"
     ]
    }
   ],
   "source": [
    "sam = emp(\"sambath\", 36)\n",
    "sam.view()    # available in separate place (memory) other than class address"
   ]
  },
  {
   "cell_type": "code",
   "execution_count": 78,
   "metadata": {},
   "outputs": [
    {
     "name": "stdout",
     "output_type": "stream",
     "text": [
      "It is a static method\n"
     ]
    }
   ],
   "source": [
    "emp.view()"
   ]
  },
  {
   "cell_type": "code",
   "execution_count": 80,
   "metadata": {},
   "outputs": [
    {
     "ename": "AttributeError",
     "evalue": "type object 'emp' has no attribute 'name'",
     "output_type": "error",
     "traceback": [
      "\u001b[1;31m---------------------------------------------------------------------------\u001b[0m",
      "\u001b[1;31mAttributeError\u001b[0m                            Traceback (most recent call last)",
      "Cell \u001b[1;32mIn[80], line 1\u001b[0m\n\u001b[1;32m----> 1\u001b[0m emp\u001b[39m.\u001b[39;49mname\n",
      "\u001b[1;31mAttributeError\u001b[0m: type object 'emp' has no attribute 'name'"
     ]
    }
   ],
   "source": [
    "emp.name"
   ]
  },
  {
   "cell_type": "code",
   "execution_count": 81,
   "metadata": {},
   "outputs": [
    {
     "data": {
      "text/plain": [
       "'sambath'"
      ]
     },
     "execution_count": 81,
     "metadata": {},
     "output_type": "execute_result"
    }
   ],
   "source": [
    "sam.name"
   ]
  },
  {
   "cell_type": "code",
   "execution_count": 82,
   "metadata": {},
   "outputs": [],
   "source": [
    "\n",
    "emp.name = \"sambath kumar\"   # create class "
   ]
  },
  {
   "cell_type": "code",
   "execution_count": 83,
   "metadata": {},
   "outputs": [
    {
     "data": {
      "text/plain": [
       "'sambath kumar'"
      ]
     },
     "execution_count": 83,
     "metadata": {},
     "output_type": "execute_result"
    }
   ],
   "source": [
    "emp.name"
   ]
  },
  {
   "cell_type": "code",
   "execution_count": 84,
   "metadata": {},
   "outputs": [
    {
     "data": {
      "text/plain": [
       "'HAI, HOW ARE YOU?'"
      ]
     },
     "execution_count": 84,
     "metadata": {},
     "output_type": "execute_result"
    }
   ],
   "source": [
    "### decorators\n",
    "\n",
    "def test(text):\n",
    "    return text.upper()\n",
    "\n",
    "\n",
    "test(\"Hai, How are you?\")"
   ]
  },
  {
   "cell_type": "code",
   "execution_count": 85,
   "metadata": {},
   "outputs": [
    {
     "data": {
      "text/plain": [
       "'HAI...'"
      ]
     },
     "execution_count": 85,
     "metadata": {},
     "output_type": "execute_result"
    }
   ],
   "source": [
    "result = test    # dynamic programming\n",
    "# assign function reference \n",
    "\n",
    "result(\"Hai...\")"
   ]
  },
  {
   "cell_type": "code",
   "execution_count": 86,
   "metadata": {},
   "outputs": [
    {
     "data": {
      "text/plain": [
       "'HAI! GOOD EVENING'"
      ]
     },
     "execution_count": 86,
     "metadata": {},
     "output_type": "execute_result"
    }
   ],
   "source": [
    "def example(func):\n",
    "    output = func(\"Hai! Good evening\")    # like above, result = test (function is assigned) \n",
    "    return output\n",
    "\n",
    "\n",
    "example(test)"
   ]
  },
  {
   "cell_type": "code",
   "execution_count": 87,
   "metadata": {},
   "outputs": [],
   "source": [
    "def add(x):\n",
    "    print(\"X value:\",x)\n",
    "    def num2(y):\n",
    "        print(\"y value:\",y)\n",
    "        return x+y\n",
    "    return num2"
   ]
  },
  {
   "cell_type": "code",
   "execution_count": 88,
   "metadata": {},
   "outputs": [
    {
     "name": "stdout",
     "output_type": "stream",
     "text": [
      "X value: 15\n"
     ]
    },
    {
     "data": {
      "text/plain": [
       "<function __main__.add.<locals>.num2(y)>"
      ]
     },
     "execution_count": 88,
     "metadata": {},
     "output_type": "execute_result"
    }
   ],
   "source": [
    "add(15)"
   ]
  },
  {
   "cell_type": "code",
   "execution_count": 89,
   "metadata": {},
   "outputs": [
    {
     "name": "stdout",
     "output_type": "stream",
     "text": [
      "X value: 15\n",
      "y value: 25\n"
     ]
    },
    {
     "data": {
      "text/plain": [
       "40"
      ]
     },
     "execution_count": 89,
     "metadata": {},
     "output_type": "execute_result"
    }
   ],
   "source": [
    "x = add(15)\n",
    "x(25)"
   ]
  },
  {
   "cell_type": "code",
   "execution_count": 90,
   "metadata": {},
   "outputs": [],
   "source": [
    "# create own decorator\n",
    "def decorator_demo(func):\n",
    "    def inner(a,b):   # pass arguments of function\n",
    "        print(\"Inner function\")\n",
    "        val = func(a,b)  # function with arguments\n",
    "        print(\"after execution\")\n",
    "        return val\n",
    "    return inner"
   ]
  },
  {
   "cell_type": "code",
   "execution_count": 96,
   "metadata": {},
   "outputs": [],
   "source": [
    "# use own decorator for a function\n",
    "\n",
    "@decorator_demo\n",
    "def sum2(x,y):\n",
    "    print(\"before execution\")\n",
    "    return x+y"
   ]
  },
  {
   "cell_type": "code",
   "execution_count": 97,
   "metadata": {},
   "outputs": [
    {
     "name": "stdout",
     "output_type": "stream",
     "text": [
      "Inner function\n",
      "before execution\n",
      "after execution\n"
     ]
    },
    {
     "data": {
      "text/plain": [
       "50"
      ]
     },
     "execution_count": 97,
     "metadata": {},
     "output_type": "execute_result"
    }
   ],
   "source": [
    "sum2(15,35)"
   ]
  },
  {
   "cell_type": "code",
   "execution_count": 101,
   "metadata": {},
   "outputs": [
    {
     "name": "stdout",
     "output_type": "stream",
     "text": [
      "@decorator_demo used for multiplication function\n",
      "Inner function\n",
      "before execution\n",
      "60\n",
      "after execution\n",
      "------------------------------------------------\n",
      "@decorator_demo used for exponent function\n",
      "Inner function\n",
      "before execution\n",
      "16\n",
      "after execution\n"
     ]
    }
   ],
   "source": [
    "# The same decorator use for various functions of two variables\n",
    "\n",
    "@decorator_demo\n",
    "def mul(x,y):\n",
    "    print(\"before execution\")\n",
    "    print(x*y)\n",
    "\n",
    "@decorator_demo\n",
    "def exp(x,y):\n",
    "    print(\"before execution\")\n",
    "    print(x**y)\n",
    "\n",
    "print(\"@decorator_demo used for multiplication function\")\n",
    "mul(12,5)\n",
    "print(\"------------------------------------------------\")\n",
    "print(\"@decorator_demo used for exponent function\")\n",
    "exp(2,4)\n"
   ]
  },
  {
   "cell_type": "code",
   "execution_count": 2,
   "metadata": {},
   "outputs": [],
   "source": [
    "# create cutom decorator\n",
    "import time\n",
    "def calculate_time(func):\n",
    "    def inner(num):\n",
    "        begin = time.time()\n",
    "        func(num)\n",
    "        end = time.time()\n",
    "        print(\"Total time taken to execute:\", end-begin)\n",
    "        #return end-begin\n",
    "    return inner"
   ]
  },
  {
   "cell_type": "code",
   "execution_count": 7,
   "metadata": {},
   "outputs": [],
   "source": [
    "# decorator: reusability of code and add additional functionalities\n",
    "\n",
    "# Three types of decorators:\n",
    "# function level, class level and double decorator\n",
    "\n",
    "# calculate the time of a function\n",
    "import math\n",
    "@calculate_time   # cutom decorator\n",
    "def fact(num):\n",
    "    time.sleep(10)\n",
    "    print(math.factorial(num))\n"
   ]
  },
  {
   "cell_type": "code",
   "execution_count": 8,
   "metadata": {},
   "outputs": [
    {
     "name": "stdout",
     "output_type": "stream",
     "text": [
      "30414093201713378043612608166064768844377641568960512000000000000\n",
      "Total time taken to execute: 10.013865947723389\n"
     ]
    }
   ],
   "source": [
    "fact(50)"
   ]
  },
  {
   "cell_type": "code",
   "execution_count": 9,
   "metadata": {},
   "outputs": [
    {
     "data": {
      "text/plain": [
       "1689937628.8680997"
      ]
     },
     "execution_count": 9,
     "metadata": {},
     "output_type": "execute_result"
    }
   ],
   "source": [
    "time.time()"
   ]
  },
  {
   "cell_type": "code",
   "execution_count": 10,
   "metadata": {},
   "outputs": [
    {
     "data": {
      "text/plain": [
       "'Fri Jul 21 16:37:22 2023'"
      ]
     },
     "execution_count": 10,
     "metadata": {},
     "output_type": "execute_result"
    }
   ],
   "source": [
    "time.ctime()"
   ]
  },
  {
   "cell_type": "code",
   "execution_count": 12,
   "metadata": {},
   "outputs": [
    {
     "data": {
      "text/plain": [
       "datetime.datetime(2023, 7, 21, 16, 38, 5, 810010)"
      ]
     },
     "execution_count": 12,
     "metadata": {},
     "output_type": "execute_result"
    }
   ],
   "source": [
    "import datetime\n",
    "datetime.datetime.now()"
   ]
  },
  {
   "cell_type": "code",
   "execution_count": 13,
   "metadata": {},
   "outputs": [],
   "source": [
    "# encapsulation: provide data security, could not access directly\n",
    "\n",
    "# instance variable assign by self.variable\n"
   ]
  },
  {
   "cell_type": "code",
   "execution_count": 15,
   "metadata": {},
   "outputs": [],
   "source": [
    "# OOP has 4 paradigm:\n",
    "# encapsulation, inheritance, polymorpsm and abstraction\n",
    "# Python is not providing full OOP concept like java language\n",
    "# C language is not OOP. so that, not available in web development"
   ]
  },
  {
   "cell_type": "code",
   "execution_count": 19,
   "metadata": {},
   "outputs": [],
   "source": [
    "# Encapsulation : binding the data with methods which achives data security\n",
    "# data + methods\n",
    "class industry:\n",
    "    def __init__(self, name, workers, salary):\n",
    "        self.name = name\n",
    "        self.workers = workers\n",
    "        self.__salary = salary   # format specifier \n",
    "\n",
    "    def show(self):\n",
    "        print(f\"The person {self.name} provide a median salary of {self.__salary}\")\n"
   ]
  },
  {
   "cell_type": "code",
   "execution_count": 20,
   "metadata": {},
   "outputs": [],
   "source": [
    "ibm = industry(\"IBM\", 10000000,500000)"
   ]
  },
  {
   "cell_type": "code",
   "execution_count": 21,
   "metadata": {},
   "outputs": [
    {
     "name": "stdout",
     "output_type": "stream",
     "text": [
      "IBM\n",
      "10000000\n"
     ]
    },
    {
     "ename": "AttributeError",
     "evalue": "'industry' object has no attribute 'salary'",
     "output_type": "error",
     "traceback": [
      "\u001b[1;31m---------------------------------------------------------------------------\u001b[0m",
      "\u001b[1;31mAttributeError\u001b[0m                            Traceback (most recent call last)",
      "Cell \u001b[1;32mIn[21], line 3\u001b[0m\n\u001b[0;32m      1\u001b[0m \u001b[39mprint\u001b[39m(ibm\u001b[39m.\u001b[39mname)\n\u001b[0;32m      2\u001b[0m \u001b[39mprint\u001b[39m(ibm\u001b[39m.\u001b[39mworkers)\n\u001b[1;32m----> 3\u001b[0m \u001b[39mprint\u001b[39m(ibm\u001b[39m.\u001b[39;49msalary)\n",
      "\u001b[1;31mAttributeError\u001b[0m: 'industry' object has no attribute 'salary'"
     ]
    }
   ],
   "source": [
    "print(ibm.name)\n",
    "print(ibm.workers)\n",
    "print(ibm.salary)"
   ]
  },
  {
   "cell_type": "code",
   "execution_count": 22,
   "metadata": {},
   "outputs": [
    {
     "name": "stdout",
     "output_type": "stream",
     "text": [
      "The person IBM getting a salary 500000\n"
     ]
    }
   ],
   "source": [
    "ibm.show()"
   ]
  },
  {
   "cell_type": "code",
   "execution_count": 24,
   "metadata": {},
   "outputs": [
    {
     "ename": "AttributeError",
     "evalue": "'industry' object has no attribute '__salary'",
     "output_type": "error",
     "traceback": [
      "\u001b[1;31m---------------------------------------------------------------------------\u001b[0m",
      "\u001b[1;31mAttributeError\u001b[0m                            Traceback (most recent call last)",
      "Cell \u001b[1;32mIn[24], line 1\u001b[0m\n\u001b[1;32m----> 1\u001b[0m \u001b[39mprint\u001b[39m(ibm\u001b[39m.\u001b[39;49m__salary)  \u001b[39m# not able to access\u001b[39;00m\n",
      "\u001b[1;31mAttributeError\u001b[0m: 'industry' object has no attribute '__salary'"
     ]
    }
   ],
   "source": [
    "print(ibm.__salary)  # not able to access"
   ]
  },
  {
   "cell_type": "code",
   "execution_count": 27,
   "metadata": {},
   "outputs": [
    {
     "data": {
      "text/plain": [
       "500000"
      ]
     },
     "execution_count": 27,
     "metadata": {},
     "output_type": "execute_result"
    }
   ],
   "source": [
    "# access private variable\n",
    "ibm._industry__salary   #unmasking private variable"
   ]
  },
  {
   "cell_type": "code",
   "execution_count": 31,
   "metadata": {},
   "outputs": [],
   "source": [
    "ibm.id = 1   # create a attribute"
   ]
  },
  {
   "cell_type": "code",
   "execution_count": 32,
   "metadata": {},
   "outputs": [
    {
     "name": "stdout",
     "output_type": "stream",
     "text": [
      "1\n"
     ]
    }
   ],
   "source": [
    "print(ibm.id)"
   ]
  },
  {
   "cell_type": "code",
   "execution_count": 33,
   "metadata": {},
   "outputs": [
    {
     "name": "stdout",
     "output_type": "stream",
     "text": [
      "2\n"
     ]
    }
   ],
   "source": [
    "# create a attribute using function\n",
    "setattr(ibm, \"id\", 2)\n",
    "print(ibm.id)"
   ]
  },
  {
   "cell_type": "code",
   "execution_count": 39,
   "metadata": {},
   "outputs": [
    {
     "name": "stdout",
     "output_type": "stream",
     "text": [
      "show the attribute value: 35\n"
     ]
    }
   ],
   "source": [
    "# useful after defining a class\n",
    "\n",
    "att_name = input(\"Enter the attribute name:\\n\")\n",
    "att_val = input(\"Enter the attribute value:\\n\")\n",
    "setattr(ibm, att_name, att_val)\n",
    "print(\"show the attribute value:\",getattr(ibm,att_name))"
   ]
  },
  {
   "cell_type": "code",
   "execution_count": null,
   "metadata": {},
   "outputs": [],
   "source": []
  }
 ],
 "metadata": {
  "kernelspec": {
   "display_name": "Python 3",
   "language": "python",
   "name": "python3"
  },
  "language_info": {
   "codemirror_mode": {
    "name": "ipython",
    "version": 3
   },
   "file_extension": ".py",
   "mimetype": "text/x-python",
   "name": "python",
   "nbconvert_exporter": "python",
   "pygments_lexer": "ipython3",
   "version": "3.8.0"
  },
  "orig_nbformat": 4
 },
 "nbformat": 4,
 "nbformat_minor": 2
}
