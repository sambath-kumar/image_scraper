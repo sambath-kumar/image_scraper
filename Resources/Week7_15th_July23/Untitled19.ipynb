{
  "nbformat": 4,
  "nbformat_minor": 0,
  "metadata": {
    "colab": {
      "provenance": []
    },
    "kernelspec": {
      "name": "python3",
      "display_name": "Python 3"
    },
    "language_info": {
      "name": "python"
    }
  },
  "cells": [
    {
      "cell_type": "code",
      "execution_count": null,
      "metadata": {
        "id": "a4mwyGzPD1l_"
      },
      "outputs": [],
      "source": [
        "class demo:\n",
        "  def __init__(self):\n",
        "    print(\"i am in the init function\")\n",
        "    print(f\"here is value of self {id(self)}\")"
      ]
    },
    {
      "cell_type": "code",
      "source": [
        "obj1=demo()"
      ],
      "metadata": {
        "colab": {
          "base_uri": "https://localhost:8080/"
        },
        "id": "Ma3skLFvEAkD",
        "outputId": "5b903d36-e193-4017-f65d-8bfe54bb57d6"
      },
      "execution_count": null,
      "outputs": [
        {
          "output_type": "stream",
          "name": "stdout",
          "text": [
            "i am in the init function\n",
            "here is value of self 134528193878944\n"
          ]
        }
      ]
    },
    {
      "cell_type": "code",
      "source": [
        "print(id(obj1))"
      ],
      "metadata": {
        "colab": {
          "base_uri": "https://localhost:8080/"
        },
        "id": "QgWhVCvTEE8Q",
        "outputId": "ab029c15-1f2d-4a22-cb49-a4f70d27ee75"
      },
      "execution_count": null,
      "outputs": [
        {
          "output_type": "stream",
          "name": "stdout",
          "text": [
            "134528193878944\n"
          ]
        }
      ]
    },
    {
      "cell_type": "code",
      "source": [
        "class demo:\n",
        "  city=\"bhopal\"\n",
        "\n",
        "  @classmethod\n",
        "  def test(cls):\n",
        "    print(\"i am working as a class method\")\n",
        "    print(f\"here is a address of cls {id(cls)}\")\n",
        "    print(demo.city)\n",
        "    print(demo.name)\n",
        "\n",
        "  @staticmethod\n",
        "  def test2():\n",
        "    print(\"here i am working with static method\")\n",
        "    #print(cls.city)\n",
        "\n",
        "\n",
        "  def __init__(self,name):\n",
        "    self.name=name"
      ],
      "metadata": {
        "id": "GxdA4wzrEIoB"
      },
      "execution_count": null,
      "outputs": []
    },
    {
      "cell_type": "code",
      "source": [
        "mohit=demo(\"mohit\")"
      ],
      "metadata": {
        "id": "gpSnJWI6Gnpt"
      },
      "execution_count": null,
      "outputs": []
    },
    {
      "cell_type": "code",
      "source": [
        "mohit.name"
      ],
      "metadata": {
        "colab": {
          "base_uri": "https://localhost:8080/",
          "height": 35
        },
        "id": "FYwzPFqjJfq5",
        "outputId": "3c0daa2d-59d0-4a76-9aa4-3240e6af6f2e"
      },
      "execution_count": null,
      "outputs": [
        {
          "output_type": "execute_result",
          "data": {
            "text/plain": [
              "'mohit'"
            ],
            "application/vnd.google.colaboratory.intrinsic+json": {
              "type": "string"
            }
          },
          "metadata": {},
          "execution_count": 59
        }
      ]
    },
    {
      "cell_type": "code",
      "source": [
        "demo.name=\"kunal\""
      ],
      "metadata": {
        "id": "D9goVbS0ItMx"
      },
      "execution_count": null,
      "outputs": []
    },
    {
      "cell_type": "code",
      "source": [
        "demo.name"
      ],
      "metadata": {
        "colab": {
          "base_uri": "https://localhost:8080/",
          "height": 35
        },
        "id": "piAYnVXgJZsf",
        "outputId": "6611c98d-799e-4dfe-a635-69cc85e42509"
      },
      "execution_count": null,
      "outputs": [
        {
          "output_type": "execute_result",
          "data": {
            "text/plain": [
              "'kunal'"
            ],
            "application/vnd.google.colaboratory.intrinsic+json": {
              "type": "string"
            }
          },
          "metadata": {},
          "execution_count": 58
        }
      ]
    },
    {
      "cell_type": "code",
      "source": [
        "obj4=demo(\"pooja\")"
      ],
      "metadata": {
        "id": "pzeF7XSkJndE"
      },
      "execution_count": null,
      "outputs": []
    },
    {
      "cell_type": "code",
      "source": [
        "obj4.name"
      ],
      "metadata": {
        "colab": {
          "base_uri": "https://localhost:8080/",
          "height": 35
        },
        "id": "Jk2S-umTJtCm",
        "outputId": "7f99742e-3157-4e9b-9020-9791994a5da5"
      },
      "execution_count": null,
      "outputs": [
        {
          "output_type": "execute_result",
          "data": {
            "text/plain": [
              "'pooja'"
            ],
            "application/vnd.google.colaboratory.intrinsic+json": {
              "type": "string"
            }
          },
          "metadata": {},
          "execution_count": 62
        }
      ]
    },
    {
      "cell_type": "code",
      "source": [
        "demo.name"
      ],
      "metadata": {
        "colab": {
          "base_uri": "https://localhost:8080/",
          "height": 35
        },
        "id": "xJZyP9MSJuy6",
        "outputId": "1785ef6e-42ce-4c5c-abfe-c16fdf545c3e"
      },
      "execution_count": null,
      "outputs": [
        {
          "output_type": "execute_result",
          "data": {
            "text/plain": [
              "'kunal'"
            ],
            "application/vnd.google.colaboratory.intrinsic+json": {
              "type": "string"
            }
          },
          "metadata": {},
          "execution_count": 63
        }
      ]
    },
    {
      "cell_type": "code",
      "source": [
        "demo.city"
      ],
      "metadata": {
        "colab": {
          "base_uri": "https://localhost:8080/",
          "height": 35
        },
        "id": "0cfEubz0Jw4K",
        "outputId": "8fb7a023-3e82-412d-cdca-9d3b0f6eddde"
      },
      "execution_count": null,
      "outputs": [
        {
          "output_type": "execute_result",
          "data": {
            "text/plain": [
              "'bhopal'"
            ],
            "application/vnd.google.colaboratory.intrinsic+json": {
              "type": "string"
            }
          },
          "metadata": {},
          "execution_count": 64
        }
      ]
    },
    {
      "cell_type": "code",
      "source": [
        "obj4.city"
      ],
      "metadata": {
        "colab": {
          "base_uri": "https://localhost:8080/",
          "height": 35
        },
        "id": "5_6XJz9iJzVs",
        "outputId": "8d0446bd-f20c-47b8-da2f-7f642339523d"
      },
      "execution_count": null,
      "outputs": [
        {
          "output_type": "execute_result",
          "data": {
            "text/plain": [
              "'bhopal'"
            ],
            "application/vnd.google.colaboratory.intrinsic+json": {
              "type": "string"
            }
          },
          "metadata": {},
          "execution_count": 65
        }
      ]
    },
    {
      "cell_type": "code",
      "source": [
        "demo.test()"
      ],
      "metadata": {
        "colab": {
          "base_uri": "https://localhost:8080/",
          "height": 339
        },
        "id": "TbrTSmq0Gw4s",
        "outputId": "df5c5908-b2e7-4600-bdf2-b8a6677a59fd"
      },
      "execution_count": null,
      "outputs": [
        {
          "output_type": "stream",
          "name": "stdout",
          "text": [
            "i am working as a class method\n",
            "here is a address of cls 42371840\n",
            "bhopal\n"
          ]
        },
        {
          "output_type": "error",
          "ename": "AttributeError",
          "evalue": "ignored",
          "traceback": [
            "\u001b[0;31m---------------------------------------------------------------------------\u001b[0m",
            "\u001b[0;31mAttributeError\u001b[0m                            Traceback (most recent call last)",
            "\u001b[0;32m<ipython-input-52-b44f79dfc677>\u001b[0m in \u001b[0;36m<cell line: 1>\u001b[0;34m()\u001b[0m\n\u001b[0;32m----> 1\u001b[0;31m \u001b[0mdemo\u001b[0m\u001b[0;34m.\u001b[0m\u001b[0mtest\u001b[0m\u001b[0;34m(\u001b[0m\u001b[0;34m)\u001b[0m\u001b[0;34m\u001b[0m\u001b[0;34m\u001b[0m\u001b[0m\n\u001b[0m",
            "\u001b[0;32m<ipython-input-50-0f3691f20fcb>\u001b[0m in \u001b[0;36mtest\u001b[0;34m(cls)\u001b[0m\n\u001b[1;32m      7\u001b[0m     \u001b[0mprint\u001b[0m\u001b[0;34m(\u001b[0m\u001b[0;34mf\"here is a address of cls {id(cls)}\"\u001b[0m\u001b[0;34m)\u001b[0m\u001b[0;34m\u001b[0m\u001b[0;34m\u001b[0m\u001b[0m\n\u001b[1;32m      8\u001b[0m     \u001b[0mprint\u001b[0m\u001b[0;34m(\u001b[0m\u001b[0mdemo\u001b[0m\u001b[0;34m.\u001b[0m\u001b[0mcity\u001b[0m\u001b[0;34m)\u001b[0m\u001b[0;34m\u001b[0m\u001b[0;34m\u001b[0m\u001b[0m\n\u001b[0;32m----> 9\u001b[0;31m     \u001b[0mprint\u001b[0m\u001b[0;34m(\u001b[0m\u001b[0mdemo\u001b[0m\u001b[0;34m.\u001b[0m\u001b[0mname\u001b[0m\u001b[0;34m)\u001b[0m\u001b[0;34m\u001b[0m\u001b[0;34m\u001b[0m\u001b[0m\n\u001b[0m\u001b[1;32m     10\u001b[0m \u001b[0;34m\u001b[0m\u001b[0m\n\u001b[1;32m     11\u001b[0m   \u001b[0;34m@\u001b[0m\u001b[0mstaticmethod\u001b[0m\u001b[0;34m\u001b[0m\u001b[0;34m\u001b[0m\u001b[0m\n",
            "\u001b[0;31mAttributeError\u001b[0m: type object 'demo' has no attribute 'name'"
          ]
        }
      ]
    },
    {
      "cell_type": "code",
      "source": [
        "mohit.test2()"
      ],
      "metadata": {
        "colab": {
          "base_uri": "https://localhost:8080/"
        },
        "id": "cAJorFycGnsH",
        "outputId": "97d32fa7-630c-4fad-8a93-1575b8fbad78"
      },
      "execution_count": null,
      "outputs": [
        {
          "output_type": "stream",
          "name": "stdout",
          "text": [
            "here i am working with static method\n",
            "bhopal\n"
          ]
        }
      ]
    },
    {
      "cell_type": "code",
      "source": [],
      "metadata": {
        "id": "67gjM6Q0GnvB"
      },
      "execution_count": null,
      "outputs": []
    },
    {
      "cell_type": "code",
      "source": [],
      "metadata": {
        "id": "8oHix1Z9Gnw5"
      },
      "execution_count": null,
      "outputs": []
    },
    {
      "cell_type": "code",
      "source": [],
      "metadata": {
        "id": "32-A2JIlGny4"
      },
      "execution_count": null,
      "outputs": []
    },
    {
      "cell_type": "code",
      "source": [
        "rahul=demo(\"rahul\")"
      ],
      "metadata": {
        "id": "jzq8twKLFnNu"
      },
      "execution_count": null,
      "outputs": []
    },
    {
      "cell_type": "code",
      "source": [
        "demo.test()"
      ],
      "metadata": {
        "colab": {
          "base_uri": "https://localhost:8080/"
        },
        "id": "hsGfqXXKFnQY",
        "outputId": "b740be79-0045-4b1d-f75d-9bb3f1b92b37"
      },
      "execution_count": null,
      "outputs": [
        {
          "output_type": "stream",
          "name": "stdout",
          "text": [
            "i am working as a class method\n",
            "here is a address of cls 42738784\n",
            "bhopal\n"
          ]
        }
      ]
    },
    {
      "cell_type": "code",
      "source": [
        "id(demo.city)"
      ],
      "metadata": {
        "colab": {
          "base_uri": "https://localhost:8080/"
        },
        "id": "Qvo8a_n7FnVR",
        "outputId": "0724de9b-2798-4681-90aa-7c6da56e5576"
      },
      "execution_count": null,
      "outputs": [
        {
          "output_type": "execute_result",
          "data": {
            "text/plain": [
              "134528193792560"
            ]
          },
          "metadata": {},
          "execution_count": 26
        }
      ]
    },
    {
      "cell_type": "code",
      "source": [],
      "metadata": {
        "id": "uqLuYaelFnYK"
      },
      "execution_count": null,
      "outputs": []
    },
    {
      "cell_type": "code",
      "source": [
        "sunny=demo(\"sunny\")"
      ],
      "metadata": {
        "id": "3l4x7oyzE2I5"
      },
      "execution_count": null,
      "outputs": []
    },
    {
      "cell_type": "code",
      "source": [
        "sunny.name"
      ],
      "metadata": {
        "colab": {
          "base_uri": "https://localhost:8080/",
          "height": 35
        },
        "id": "rNAMByssE8Bj",
        "outputId": "6aacb5c2-a2eb-4115-f5cb-00525ae6a0c7"
      },
      "execution_count": null,
      "outputs": [
        {
          "output_type": "execute_result",
          "data": {
            "text/plain": [
              "'sunny'"
            ],
            "application/vnd.google.colaboratory.intrinsic+json": {
              "type": "string"
            }
          },
          "metadata": {},
          "execution_count": 12
        }
      ]
    },
    {
      "cell_type": "code",
      "source": [
        "rohit=demo(\"rohit\")"
      ],
      "metadata": {
        "id": "yjuLtZgoE95m"
      },
      "execution_count": null,
      "outputs": []
    },
    {
      "cell_type": "code",
      "source": [
        "rohit.name"
      ],
      "metadata": {
        "colab": {
          "base_uri": "https://localhost:8080/",
          "height": 35
        },
        "id": "7yW6YogYFDnS",
        "outputId": "3ff36274-15e0-43ea-df07-7d8a7637b4ed"
      },
      "execution_count": null,
      "outputs": [
        {
          "output_type": "execute_result",
          "data": {
            "text/plain": [
              "'rohit'"
            ],
            "application/vnd.google.colaboratory.intrinsic+json": {
              "type": "string"
            }
          },
          "metadata": {},
          "execution_count": 14
        }
      ]
    },
    {
      "cell_type": "code",
      "source": [
        "sunny.city"
      ],
      "metadata": {
        "colab": {
          "base_uri": "https://localhost:8080/",
          "height": 35
        },
        "id": "e0nX__qCFEuH",
        "outputId": "1171f2db-1be2-4aad-b201-dc7adf6c68c9"
      },
      "execution_count": null,
      "outputs": [
        {
          "output_type": "execute_result",
          "data": {
            "text/plain": [
              "'bhopal'"
            ],
            "application/vnd.google.colaboratory.intrinsic+json": {
              "type": "string"
            }
          },
          "metadata": {},
          "execution_count": 15
        }
      ]
    },
    {
      "cell_type": "code",
      "source": [
        "rohit.city"
      ],
      "metadata": {
        "colab": {
          "base_uri": "https://localhost:8080/",
          "height": 35
        },
        "id": "TsLS97XzFJYn",
        "outputId": "fbf83391-8b15-4e15-d0fe-cf00d04b46d0"
      },
      "execution_count": null,
      "outputs": [
        {
          "output_type": "execute_result",
          "data": {
            "text/plain": [
              "'bhopal'"
            ],
            "application/vnd.google.colaboratory.intrinsic+json": {
              "type": "string"
            }
          },
          "metadata": {},
          "execution_count": 16
        }
      ]
    },
    {
      "cell_type": "code",
      "source": [
        "id(sunny.city)"
      ],
      "metadata": {
        "colab": {
          "base_uri": "https://localhost:8080/"
        },
        "id": "JVtPbE81FLof",
        "outputId": "c5aeb9ae-07cf-4345-f348-43ef69fe7799"
      },
      "execution_count": null,
      "outputs": [
        {
          "output_type": "execute_result",
          "data": {
            "text/plain": [
              "134528193792560"
            ]
          },
          "metadata": {},
          "execution_count": 17
        }
      ]
    },
    {
      "cell_type": "code",
      "source": [
        "id(rohit.city)"
      ],
      "metadata": {
        "colab": {
          "base_uri": "https://localhost:8080/"
        },
        "id": "qQjm7nWHFQ6D",
        "outputId": "83cbb750-ac67-4e85-cd86-673d29a374c3"
      },
      "execution_count": null,
      "outputs": [
        {
          "output_type": "execute_result",
          "data": {
            "text/plain": [
              "134528193792560"
            ]
          },
          "metadata": {},
          "execution_count": 18
        }
      ]
    },
    {
      "cell_type": "code",
      "source": [
        "# this is a defination of functions\n",
        "def greet(text):\n",
        "  return text.upper()"
      ],
      "metadata": {
        "id": "rGbzzpQxFTPz"
      },
      "execution_count": null,
      "outputs": []
    },
    {
      "cell_type": "code",
      "source": [
        "#this is a call of the function\n",
        "greet(\"hello good morning\")"
      ],
      "metadata": {
        "colab": {
          "base_uri": "https://localhost:8080/",
          "height": 35
        },
        "id": "eebSWmqEL8If",
        "outputId": "fd9e5835-951f-46ab-9822-c65c76d8c06a"
      },
      "execution_count": null,
      "outputs": [
        {
          "output_type": "execute_result",
          "data": {
            "text/plain": [
              "'HELLO GOOD MORNING'"
            ],
            "application/vnd.google.colaboratory.intrinsic+json": {
              "type": "string"
            }
          },
          "metadata": {},
          "execution_count": 4
        }
      ]
    },
    {
      "cell_type": "code",
      "source": [
        "test=greet"
      ],
      "metadata": {
        "id": "S_sBkmiBMCtT"
      },
      "execution_count": null,
      "outputs": []
    },
    {
      "cell_type": "code",
      "source": [
        "test(\"hi good evening\")"
      ],
      "metadata": {
        "colab": {
          "base_uri": "https://localhost:8080/",
          "height": 35
        },
        "id": "mpZ8bIvnMLir",
        "outputId": "c9c5edf9-5c44-43c9-fec8-bc9e067b844d"
      },
      "execution_count": null,
      "outputs": [
        {
          "output_type": "execute_result",
          "data": {
            "text/plain": [
              "'HI GOOD EVENING'"
            ],
            "application/vnd.google.colaboratory.intrinsic+json": {
              "type": "string"
            }
          },
          "metadata": {},
          "execution_count": 6
        }
      ]
    },
    {
      "cell_type": "code",
      "source": [
        "test(\"fdgksf f sfhsdlkf klshdflksdfhls hskldfhlsdkef\")"
      ],
      "metadata": {
        "colab": {
          "base_uri": "https://localhost:8080/",
          "height": 35
        },
        "id": "nmJNrtuF03vt",
        "outputId": "f7f7a561-7bd2-4c78-b615-d878022a5d16"
      },
      "execution_count": null,
      "outputs": [
        {
          "output_type": "execute_result",
          "data": {
            "text/plain": [
              "'FDGKSF F SFHSDLKF KLSHDFLKSDFHLS HSKLDFHLSDKEF'"
            ],
            "application/vnd.google.colaboratory.intrinsic+json": {
              "type": "string"
            }
          },
          "metadata": {},
          "execution_count": 7
        }
      ]
    },
    {
      "cell_type": "code",
      "source": [
        "def greet(text):\n",
        "  return text.upper()"
      ],
      "metadata": {
        "id": "ApMo1XjYMR7L"
      },
      "execution_count": null,
      "outputs": []
    },
    {
      "cell_type": "code",
      "source": [
        "def shout(text):\n",
        "  return text.lower()"
      ],
      "metadata": {
        "id": "u6Lu0vzdMeTZ"
      },
      "execution_count": null,
      "outputs": []
    },
    {
      "cell_type": "code",
      "source": [
        "def master(func):\n",
        "  output=func(\"Hi Good Morning HOW are you\")\n",
        "  print(output)"
      ],
      "metadata": {
        "id": "t7nQ_WifMjY7"
      },
      "execution_count": null,
      "outputs": []
    },
    {
      "cell_type": "code",
      "source": [
        "master(greet)"
      ],
      "metadata": {
        "colab": {
          "base_uri": "https://localhost:8080/"
        },
        "id": "OXhK5Fr2MyaB",
        "outputId": "9a6378d9-eceb-4202-e606-f7f750f8b345"
      },
      "execution_count": null,
      "outputs": [
        {
          "output_type": "stream",
          "name": "stdout",
          "text": [
            "HI GOOD MORNING HOW ARE YOU\n"
          ]
        }
      ]
    },
    {
      "cell_type": "code",
      "source": [
        "func=greet"
      ],
      "metadata": {
        "id": "-FPOdd7u1bEv"
      },
      "execution_count": null,
      "outputs": []
    },
    {
      "cell_type": "code",
      "source": [
        "func=shout"
      ],
      "metadata": {
        "id": "niKizGae1sro"
      },
      "execution_count": null,
      "outputs": []
    },
    {
      "cell_type": "code",
      "source": [
        "master(shout)"
      ],
      "metadata": {
        "colab": {
          "base_uri": "https://localhost:8080/"
        },
        "id": "ZHxQlgoDNK6B",
        "outputId": "73513c3d-db24-422c-859f-2f8e001914fc"
      },
      "execution_count": null,
      "outputs": [
        {
          "output_type": "stream",
          "name": "stdout",
          "text": [
            "hi good morning how are you\n"
          ]
        }
      ]
    },
    {
      "cell_type": "code",
      "source": [
        "def func1():\n",
        "  def func2():\n",
        "    return\n",
        "  return"
      ],
      "metadata": {
        "id": "LUrHd6ck17_U"
      },
      "execution_count": null,
      "outputs": []
    },
    {
      "cell_type": "code",
      "source": [
        "1 function defination\n",
        "2. funcation call"
      ],
      "metadata": {
        "id": "cB9QwzY42QxD"
      },
      "execution_count": null,
      "outputs": []
    },
    {
      "cell_type": "code",
      "source": [
        "def create_add(x):\n",
        "  def add(y):\n",
        "    print(x+y)\n",
        "  return add"
      ],
      "metadata": {
        "id": "v-VkehMJNB-6"
      },
      "execution_count": null,
      "outputs": []
    },
    {
      "cell_type": "code",
      "source": [
        "var=create_add(10)"
      ],
      "metadata": {
        "id": "jcjWtXzVN_Hw"
      },
      "execution_count": null,
      "outputs": []
    },
    {
      "cell_type": "code",
      "source": [
        "var(20)"
      ],
      "metadata": {
        "colab": {
          "base_uri": "https://localhost:8080/"
        },
        "id": "z-_WXfEDOrFP",
        "outputId": "262ee398-1149-4365-f9e5-ae740cc02e14"
      },
      "execution_count": null,
      "outputs": [
        {
          "output_type": "stream",
          "name": "stdout",
          "text": [
            "30\n"
          ]
        }
      ]
    },
    {
      "cell_type": "code",
      "source": [
        "def func1():\n",
        "  def func2():\n",
        "    pass\n",
        "  return\n"
      ],
      "metadata": {
        "id": "2lN5HLrp3EI4"
      },
      "execution_count": null,
      "outputs": []
    },
    {
      "cell_type": "code",
      "source": [
        "def hello_decorator(func):\n",
        "  def inner(a,b):\n",
        "    print(\"before execution\")\n",
        "    value=func(a,b)\n",
        "    print(\"after execution\")\n",
        "    return value\n",
        "  return inner"
      ],
      "metadata": {
        "id": "VUr62Je5PjNu"
      },
      "execution_count": null,
      "outputs": []
    },
    {
      "cell_type": "code",
      "source": [
        "@hello_decorator\n",
        "def sum_two_number(a,b):\n",
        "  print(\"inside this function\")\n",
        "  return a+b"
      ],
      "metadata": {
        "id": "2Pg3Z0tzQJvb"
      },
      "execution_count": null,
      "outputs": []
    },
    {
      "cell_type": "code",
      "source": [
        "sum_two_number(10,20)"
      ],
      "metadata": {
        "colab": {
          "base_uri": "https://localhost:8080/"
        },
        "id": "8tCqcZtQQSNQ",
        "outputId": "8b782d37-e6a0-40c6-9d7d-de8cca9127ff"
      },
      "execution_count": null,
      "outputs": [
        {
          "output_type": "stream",
          "name": "stdout",
          "text": [
            "before execution\n",
            "inside this function\n",
            "after execution\n"
          ]
        },
        {
          "output_type": "execute_result",
          "data": {
            "text/plain": [
              "30"
            ]
          },
          "metadata": {},
          "execution_count": 106
        }
      ]
    },
    {
      "cell_type": "code",
      "source": [
        "import time\n",
        "time.asctime()"
      ],
      "metadata": {
        "colab": {
          "base_uri": "https://localhost:8080/",
          "height": 35
        },
        "id": "e0Q86GcV7Rf2",
        "outputId": "e6c61730-be6e-4ed6-ddd5-fefb7be651f4"
      },
      "execution_count": null,
      "outputs": [
        {
          "output_type": "execute_result",
          "data": {
            "text/plain": [
              "'Sun Jul 16 04:25:36 2023'"
            ],
            "application/vnd.google.colaboratory.intrinsic+json": {
              "type": "string"
            }
          },
          "metadata": {},
          "execution_count": 31
        }
      ]
    },
    {
      "cell_type": "code",
      "source": [
        "import datetime\n",
        "datetime.datetime.now()"
      ],
      "metadata": {
        "colab": {
          "base_uri": "https://localhost:8080/"
        },
        "id": "HKRl4L6M8pDQ",
        "outputId": "9f1688c2-37fa-496c-a41b-e72ac34a1354"
      },
      "execution_count": null,
      "outputs": [
        {
          "output_type": "execute_result",
          "data": {
            "text/plain": [
              "datetime.datetime(2023, 7, 16, 4, 26, 7, 314060)"
            ]
          },
          "metadata": {},
          "execution_count": 33
        }
      ]
    },
    {
      "cell_type": "code",
      "source": [
        "import time\n",
        "def calculate_time(func):\n",
        "  def inner(num):\n",
        "    begin=time.time()\n",
        "    func(num)\n",
        "    end=time.time()\n",
        "\n",
        "    print(\"total time taken\",end-begin)\n",
        "\n",
        "  return inner"
      ],
      "metadata": {
        "id": "pGYm51Sw61RX"
      },
      "execution_count": null,
      "outputs": []
    },
    {
      "cell_type": "code",
      "source": [
        "import math\n",
        "@calculate_time\n",
        "def factorial(num):\n",
        "  #time.sleep(2)\n",
        "  print(math.factorial(num))"
      ],
      "metadata": {
        "id": "0k6DOOgMtTnz"
      },
      "execution_count": null,
      "outputs": []
    },
    {
      "cell_type": "code",
      "source": [
        "factorial(100)"
      ],
      "metadata": {
        "colab": {
          "base_uri": "https://localhost:8080/"
        },
        "id": "Rl4Dkz0_6QrY",
        "outputId": "d4bf53d6-2717-456a-8d5f-988eacaf5a17"
      },
      "execution_count": null,
      "outputs": [
        {
          "output_type": "stream",
          "name": "stdout",
          "text": [
            "93326215443944152681699238856266700490715968264381621468592963895217599993229915608941463976156518286253697920827223758251185210916864000000000000000000000000\n",
            "total time taken 0.00074005126953125\n"
          ]
        }
      ]
    },
    {
      "cell_type": "code",
      "source": [
        "# encapsulation and abstraction\n"
      ],
      "metadata": {
        "id": "mNL7zkiI6WIr"
      },
      "execution_count": null,
      "outputs": []
    },
    {
      "cell_type": "code",
      "source": [
        "from traitlets.config.loader import LazyConfigValue\n",
        "# is this a example of encapsulation?\n",
        "\n",
        "this is not a example of a encapsulation\n",
        "\n",
        "variable is a data right now we can access this variable directly with the object name\n",
        "\n",
        "this is not providing a security to the code\n",
        "\n",
        "functioal approach-- c lang\n",
        "\n"
      ],
      "metadata": {
        "id": "iUSgZwE6-tnf"
      },
      "execution_count": null,
      "outputs": []
    },
    {
      "cell_type": "code",
      "source": [
        "class Emp:\n",
        "  def __init__(self):\n",
        "    self.age=26\n",
        "    self.name=\"sunny\"\n",
        "    self.salary=15000.0"
      ],
      "metadata": {
        "id": "4_nngZMq97-A"
      },
      "execution_count": null,
      "outputs": []
    },
    {
      "cell_type": "code",
      "source": [
        "e=Emp()"
      ],
      "metadata": {
        "id": "pJCbiGaN-COg"
      },
      "execution_count": null,
      "outputs": []
    },
    {
      "cell_type": "code",
      "source": [
        "e.age"
      ],
      "metadata": {
        "colab": {
          "base_uri": "https://localhost:8080/"
        },
        "id": "94KdZ5wq-IDO",
        "outputId": "99448c6f-5c52-4f8a-dff4-fcbf11bed0b1"
      },
      "execution_count": null,
      "outputs": [
        {
          "output_type": "execute_result",
          "data": {
            "text/plain": [
              "26"
            ]
          },
          "metadata": {},
          "execution_count": 42
        }
      ]
    },
    {
      "cell_type": "code",
      "source": [
        "e.name"
      ],
      "metadata": {
        "colab": {
          "base_uri": "https://localhost:8080/",
          "height": 35
        },
        "id": "qrcwq38i-n5K",
        "outputId": "f724c2c6-9a4e-4b2a-8b82-85fb6c3d844e"
      },
      "execution_count": null,
      "outputs": [
        {
          "output_type": "execute_result",
          "data": {
            "text/plain": [
              "'sunny'"
            ],
            "application/vnd.google.colaboratory.intrinsic+json": {
              "type": "string"
            }
          },
          "metadata": {},
          "execution_count": 43
        }
      ]
    },
    {
      "cell_type": "code",
      "source": [
        "e.salary"
      ],
      "metadata": {
        "colab": {
          "base_uri": "https://localhost:8080/"
        },
        "id": "RNGgqIkq-pwU",
        "outputId": "b11f9777-ab27-41c4-ab87-b6ece2d449a2"
      },
      "execution_count": null,
      "outputs": [
        {
          "output_type": "execute_result",
          "data": {
            "text/plain": [
              "15000.0"
            ]
          },
          "metadata": {},
          "execution_count": 44
        }
      ]
    },
    {
      "cell_type": "code",
      "source": [
        "format specifier\n",
        "public\n",
        "private\n",
        "protect"
      ],
      "metadata": {
        "id": "uQFnnHccBTby"
      },
      "execution_count": null,
      "outputs": []
    },
    {
      "cell_type": "code",
      "source": [
        "class Emp:\n",
        "  def __init__(self):\n",
        "    self.age=26\n",
        "    self.name=\"sunny\"\n",
        "    self.__salary=15000.0\n",
        "  def show(self):\n",
        "    print(\"Age\",self.age,\"Name\",self.name,\"salary\",self.__salary)"
      ],
      "metadata": {
        "id": "OQnJ7nmW-ray"
      },
      "execution_count": null,
      "outputs": []
    },
    {
      "cell_type": "code",
      "source": [
        "sunny=Emp()"
      ],
      "metadata": {
        "id": "IstFEXBoBfGv"
      },
      "execution_count": null,
      "outputs": []
    },
    {
      "cell_type": "code",
      "source": [
        "sunny.age"
      ],
      "metadata": {
        "colab": {
          "base_uri": "https://localhost:8080/"
        },
        "id": "ePjHaa8JBiQ2",
        "outputId": "b12e2f50-1658-47c8-a289-cc9b1896d502"
      },
      "execution_count": null,
      "outputs": [
        {
          "output_type": "execute_result",
          "data": {
            "text/plain": [
              "26"
            ]
          },
          "metadata": {},
          "execution_count": 64
        }
      ]
    },
    {
      "cell_type": "code",
      "source": [
        "sunny.name"
      ],
      "metadata": {
        "colab": {
          "base_uri": "https://localhost:8080/",
          "height": 35
        },
        "id": "1_FSDJluBjf-",
        "outputId": "8a099dca-625f-481d-f197-8d48ee5ec5be"
      },
      "execution_count": null,
      "outputs": [
        {
          "output_type": "execute_result",
          "data": {
            "text/plain": [
              "'sunny'"
            ],
            "application/vnd.google.colaboratory.intrinsic+json": {
              "type": "string"
            }
          },
          "metadata": {},
          "execution_count": 65
        }
      ]
    },
    {
      "cell_type": "code",
      "source": [
        "sunny.__salary"
      ],
      "metadata": {
        "colab": {
          "base_uri": "https://localhost:8080/",
          "height": 166
        },
        "id": "QwGbyd9QBldm",
        "outputId": "fa575e3f-b806-492f-f3c1-f0bd2f629a36"
      },
      "execution_count": null,
      "outputs": [
        {
          "output_type": "error",
          "ename": "AttributeError",
          "evalue": "ignored",
          "traceback": [
            "\u001b[0;31m---------------------------------------------------------------------------\u001b[0m",
            "\u001b[0;31mAttributeError\u001b[0m                            Traceback (most recent call last)",
            "\u001b[0;32m<ipython-input-66-e2659f11ccb0>\u001b[0m in \u001b[0;36m<cell line: 1>\u001b[0;34m()\u001b[0m\n\u001b[0;32m----> 1\u001b[0;31m \u001b[0msunny\u001b[0m\u001b[0;34m.\u001b[0m\u001b[0m__salary\u001b[0m\u001b[0;34m\u001b[0m\u001b[0;34m\u001b[0m\u001b[0m\n\u001b[0m",
            "\u001b[0;31mAttributeError\u001b[0m: 'Emp' object has no attribute '__salary'"
          ]
        }
      ]
    },
    {
      "cell_type": "code",
      "source": [
        "sunny._Emp__salary"
      ],
      "metadata": {
        "colab": {
          "base_uri": "https://localhost:8080/"
        },
        "id": "OTWaOuMMHhmd",
        "outputId": "cfe5a0e6-26a9-42ea-c90a-cc736f2e181f"
      },
      "execution_count": null,
      "outputs": [
        {
          "output_type": "execute_result",
          "data": {
            "text/plain": [
              "15000.0"
            ]
          },
          "metadata": {},
          "execution_count": 69
        }
      ]
    },
    {
      "cell_type": "code",
      "source": [
        "sunny.__show()"
      ],
      "metadata": {
        "colab": {
          "base_uri": "https://localhost:8080/",
          "height": 166
        },
        "id": "wTHyICqyBnKZ",
        "outputId": "d3893322-edcf-481c-dfd9-441dcb2452ec"
      },
      "execution_count": null,
      "outputs": [
        {
          "output_type": "error",
          "ename": "AttributeError",
          "evalue": "ignored",
          "traceback": [
            "\u001b[0;31m---------------------------------------------------------------------------\u001b[0m",
            "\u001b[0;31mAttributeError\u001b[0m                            Traceback (most recent call last)",
            "\u001b[0;32m<ipython-input-68-2e84bfecd0cb>\u001b[0m in \u001b[0;36m<cell line: 1>\u001b[0;34m()\u001b[0m\n\u001b[0;32m----> 1\u001b[0;31m \u001b[0msunny\u001b[0m\u001b[0;34m.\u001b[0m\u001b[0m__show\u001b[0m\u001b[0;34m(\u001b[0m\u001b[0;34m)\u001b[0m\u001b[0;34m\u001b[0m\u001b[0;34m\u001b[0m\u001b[0m\n\u001b[0m",
            "\u001b[0;31mAttributeError\u001b[0m: 'Emp' object has no attribute '__show'"
          ]
        }
      ]
    },
    {
      "cell_type": "code",
      "source": [
        "_Emp__age"
      ],
      "metadata": {
        "id": "me3AhnYhCHuz"
      },
      "execution_count": null,
      "outputs": []
    },
    {
      "cell_type": "code",
      "source": [
        "class Data:\n",
        "  pass"
      ],
      "metadata": {
        "id": "tahbDqcsHy4N"
      },
      "execution_count": null,
      "outputs": []
    },
    {
      "cell_type": "code",
      "source": [
        "d=Data()"
      ],
      "metadata": {
        "id": "nzuYcEinH1s3"
      },
      "execution_count": null,
      "outputs": []
    },
    {
      "cell_type": "code",
      "source": [
        "d.id=10"
      ],
      "metadata": {
        "id": "g5R3LZVCH4Sv"
      },
      "execution_count": null,
      "outputs": []
    },
    {
      "cell_type": "code",
      "source": [
        "print(d.id)"
      ],
      "metadata": {
        "colab": {
          "base_uri": "https://localhost:8080/"
        },
        "id": "vZGJZ--4IGWD",
        "outputId": "f74cc670-36a1-4813-be37-506b0b52e5e4"
      },
      "execution_count": null,
      "outputs": [
        {
          "output_type": "stream",
          "name": "stdout",
          "text": [
            "10\n"
          ]
        }
      ]
    },
    {
      "cell_type": "code",
      "source": [
        "setattr(d,\"id\",20)"
      ],
      "metadata": {
        "id": "gZYCQpZZII4c"
      },
      "execution_count": null,
      "outputs": []
    },
    {
      "cell_type": "code",
      "source": [
        "print(d.id)"
      ],
      "metadata": {
        "colab": {
          "base_uri": "https://localhost:8080/"
        },
        "id": "vXaP3Q4WIQFj",
        "outputId": "ab014453-b4b7-49d7-9cf4-3231b575c089"
      },
      "execution_count": null,
      "outputs": [
        {
          "output_type": "stream",
          "name": "stdout",
          "text": [
            "20\n"
          ]
        }
      ]
    },
    {
      "cell_type": "code",
      "source": [
        "attr_name=input(\"enter the attribute name:\\n\")\n",
        "attr_value=input(\"enter the attribute value:\\n\")\n",
        "setattr(d,attr_name,attr_value)\n",
        "print(\"attribute value:\",getattr(d,attr_name))"
      ],
      "metadata": {
        "colab": {
          "base_uri": "https://localhost:8080/"
        },
        "id": "c2MT1EMLIUJ-",
        "outputId": "cb22fae7-44d3-4bcb-8fe7-0735b111cd36"
      },
      "execution_count": null,
      "outputs": [
        {
          "output_type": "stream",
          "name": "stdout",
          "text": [
            "enter the attribute name:\n",
            "Name\n",
            "enter the attribute value:\n",
            "sunnysavita\n",
            "attribute value: sunnysavita\n"
          ]
        }
      ]
    },
    {
      "cell_type": "code",
      "source": [
        "class EMP:\n",
        "  self.name=\n",
        "  self.age=\n",
        "  #"
      ],
      "metadata": {
        "id": "7-p8GV6DI768"
      },
      "execution_count": null,
      "outputs": []
    },
    {
      "cell_type": "code",
      "source": [
        "obj=EMP()"
      ],
      "metadata": {
        "id": "GxWxKzsdJcr-"
      },
      "execution_count": null,
      "outputs": []
    },
    {
      "cell_type": "code",
      "source": [
        "class Test:\n",
        "  def __init__(self):\n",
        "    print(\"object created\")\n",
        "\n",
        "  def __del__(self):\n",
        "    print(\"object destroyed\")\n"
      ],
      "metadata": {
        "id": "p7pdlG1wJpOe"
      },
      "execution_count": null,
      "outputs": []
    },
    {
      "cell_type": "code",
      "source": [
        "t1=Test()"
      ],
      "metadata": {
        "colab": {
          "base_uri": "https://localhost:8080/"
        },
        "id": "Vkoy6BOfJxwp",
        "outputId": "aef57588-721c-451c-881c-178249971510"
      },
      "execution_count": null,
      "outputs": [
        {
          "output_type": "stream",
          "name": "stdout",
          "text": [
            "object created\n"
          ]
        }
      ]
    },
    {
      "cell_type": "code",
      "source": [
        "t2=t1"
      ],
      "metadata": {
        "id": "TtZSaZ8gKZXo"
      },
      "execution_count": null,
      "outputs": []
    },
    {
      "cell_type": "code",
      "source": [
        "del t1"
      ],
      "metadata": {
        "colab": {
          "base_uri": "https://localhost:8080/",
          "height": 166
        },
        "id": "qID56pBkKzIH",
        "outputId": "2f181b59-5dde-4166-ff80-712eb0cd0460"
      },
      "execution_count": null,
      "outputs": [
        {
          "output_type": "error",
          "ename": "NameError",
          "evalue": "ignored",
          "traceback": [
            "\u001b[0;31m---------------------------------------------------------------------------\u001b[0m",
            "\u001b[0;31mNameError\u001b[0m                                 Traceback (most recent call last)",
            "\u001b[0;32m<ipython-input-105-fd2591fa2fd6>\u001b[0m in \u001b[0;36m<cell line: 1>\u001b[0;34m()\u001b[0m\n\u001b[0;32m----> 1\u001b[0;31m \u001b[0;32mdel\u001b[0m \u001b[0mt1\u001b[0m\u001b[0;34m\u001b[0m\u001b[0;34m\u001b[0m\u001b[0m\n\u001b[0m",
            "\u001b[0;31mNameError\u001b[0m: name 't1' is not defined"
          ]
        }
      ]
    },
    {
      "cell_type": "code",
      "source": [
        "del t2"
      ],
      "metadata": {
        "id": "lBWalTzPK0VU"
      },
      "execution_count": null,
      "outputs": []
    },
    {
      "cell_type": "code",
      "source": [
        "from abc import ABC, abstractmethod\n",
        "class test1(ABC):\n",
        "  @abstractmethod\n",
        "  def demo():\n",
        "    pass\n",
        "class test2(test1):\n",
        "  def demo():\n",
        "    pass"
      ],
      "metadata": {
        "id": "eorE3RCEK89k"
      },
      "execution_count": null,
      "outputs": []
    },
    {
      "cell_type": "code",
      "source": [
        "# want to make this class as a abstract class\n",
        "# we need to inherite it with the ABC and atleast one method should be a abstract method\n",
        "#abstraction and\n",
        "\n",
        "#  constraint\n",
        "\n",
        "# now it became a asbtract class\n",
        "from abc import ABC,abstractmethod\n",
        "class BankApp(ABC):\n",
        "\n",
        "  @abstractmethod\n",
        "  def __init__(self):\n",
        "    print(\"bank object created\")\n",
        "\n",
        "  def database(self):\n",
        "    pass\n",
        "\n",
        "  @abstractmethod\n",
        "  def security(self):\n",
        "    pass\n",
        "\n",
        "  @abstractmethod\n",
        "  def display(self):\n",
        "    pass"
      ],
      "metadata": {
        "id": "bWIQd4WHQqDZ"
      },
      "execution_count": null,
      "outputs": []
    },
    {
      "cell_type": "code",
      "source": [
        "class MobileApp(BankApp):\n",
        "\n",
        "  def __init__(self):\n",
        "    print(\"mobile object create\")\n",
        "\n",
        "  def mobile_login(self):\n",
        "    print(\"logged in the mobile\")\n",
        "\n",
        "  def security(self):\n",
        "    print(\"mobile secutiry\")\n",
        "\n",
        "  def display(self):\n",
        "    print(\"doing display\")\n"
      ],
      "metadata": {
        "id": "64M-HU97Q8E_"
      },
      "execution_count": null,
      "outputs": []
    },
    {
      "cell_type": "code",
      "source": [
        "obj=MobileApp()"
      ],
      "metadata": {
        "colab": {
          "base_uri": "https://localhost:8080/"
        },
        "id": "JWo_nlmQSFtS",
        "outputId": "e0efa4e3-0f96-4e5d-ca32-d4fbe4d297a7"
      },
      "execution_count": null,
      "outputs": [
        {
          "output_type": "stream",
          "name": "stdout",
          "text": [
            "mobile object create\n"
          ]
        }
      ]
    },
    {
      "cell_type": "code",
      "source": [
        "obj.security()"
      ],
      "metadata": {
        "colab": {
          "base_uri": "https://localhost:8080/"
        },
        "id": "Vao_lEw6SNLF",
        "outputId": "b718e473-956a-4415-e5fc-16ce8b75a1b5"
      },
      "execution_count": null,
      "outputs": [
        {
          "output_type": "stream",
          "name": "stdout",
          "text": [
            "mobile secutiry\n"
          ]
        }
      ]
    },
    {
      "cell_type": "code",
      "source": [
        "obj.display()"
      ],
      "metadata": {
        "colab": {
          "base_uri": "https://localhost:8080/"
        },
        "id": "hDPImpNhSvVg",
        "outputId": "26993fe1-90d3-4db2-f952-76adba2d5008"
      },
      "execution_count": null,
      "outputs": [
        {
          "output_type": "stream",
          "name": "stdout",
          "text": [
            "doing display\n"
          ]
        }
      ]
    },
    {
      "cell_type": "code",
      "source": [
        "bank=BankApp()"
      ],
      "metadata": {
        "colab": {
          "base_uri": "https://localhost:8080/",
          "height": 166
        },
        "id": "3Q0dLnssTZ9e",
        "outputId": "c2fe7df3-4d3f-4c44-87cb-90d23d6c7db0"
      },
      "execution_count": null,
      "outputs": [
        {
          "output_type": "error",
          "ename": "TypeError",
          "evalue": "ignored",
          "traceback": [
            "\u001b[0;31m---------------------------------------------------------------------------\u001b[0m",
            "\u001b[0;31mTypeError\u001b[0m                                 Traceback (most recent call last)",
            "\u001b[0;32m<ipython-input-120-6ddbd8442105>\u001b[0m in \u001b[0;36m<cell line: 1>\u001b[0;34m()\u001b[0m\n\u001b[0;32m----> 1\u001b[0;31m \u001b[0mbank\u001b[0m\u001b[0;34m=\u001b[0m\u001b[0mBankApp\u001b[0m\u001b[0;34m(\u001b[0m\u001b[0;34m)\u001b[0m\u001b[0;34m\u001b[0m\u001b[0;34m\u001b[0m\u001b[0m\n\u001b[0m",
            "\u001b[0;31mTypeError\u001b[0m: Can't instantiate abstract class BankApp with abstract methods display, security"
          ]
        }
      ]
    },
    {
      "cell_type": "code",
      "source": [
        "ineuron assignments\n",
        "hackerrank\n",
        "leetcode"
      ],
      "metadata": {
        "colab": {
          "base_uri": "https://localhost:8080/",
          "height": 131
        },
        "id": "yvyFMH63Tif_",
        "outputId": "c1d575cc-3c3b-48cd-d6bc-3471ad1af0e5"
      },
      "execution_count": null,
      "outputs": [
        {
          "output_type": "error",
          "ename": "SyntaxError",
          "evalue": "ignored",
          "traceback": [
            "\u001b[0;36m  File \u001b[0;32m\"<ipython-input-126-ba1530ec8da9>\"\u001b[0;36m, line \u001b[0;32m1\u001b[0m\n\u001b[0;31m    ineuron assignments\u001b[0m\n\u001b[0m            ^\u001b[0m\n\u001b[0;31mSyntaxError\u001b[0m\u001b[0;31m:\u001b[0m invalid syntax\n"
          ]
        }
      ]
    },
    {
      "cell_type": "code",
      "source": [
        "\n",
        "# code for testing decorator chaining\n",
        "def decor1(func):\n",
        "    def inner():\n",
        "        x = func()\n",
        "        return x * x\n",
        "    return inner\n",
        "\n",
        "def decor(func):\n",
        "    def inner():\n",
        "        x = func()\n",
        "        return 2 * x\n",
        "    return inner\n",
        "\n",
        "@decor1\n",
        "@decor\n",
        "def num():\n",
        "    return 10\n",
        "\n",
        "@decor\n",
        "@decor1\n",
        "def num2():\n",
        "    return 10\n",
        "\n",
        "print(num())\n",
        "print(num2())"
      ],
      "metadata": {
        "id": "2VKZbn2BVYuJ"
      },
      "execution_count": null,
      "outputs": []
    },
    {
      "cell_type": "markdown",
      "source": [],
      "metadata": {
        "id": "L_D-FjB1VcPw"
      }
    }
  ]
}