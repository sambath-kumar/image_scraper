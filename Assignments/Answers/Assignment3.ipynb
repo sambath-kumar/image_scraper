{
 "cells": [
  {
   "cell_type": "raw",
   "metadata": {},
   "source": [
    "# Question 1\n",
    "1. Why are functions advantageous to have in your programs?"
   ]
  },
  {
   "cell_type": "raw",
   "metadata": {},
   "source": [
    "# Answer 1\n",
    "1. call function name multiple time to perform a particular task\n",
    "2. Reuse multiple times. No need to write praogram again and again to do same task"
   ]
  },
  {
   "cell_type": "raw",
   "metadata": {},
   "source": [
    "# Question 2\n",
    "2. When does the code in a function run: when it's specified or when it's called?"
   ]
  },
  {
   "cell_type": "code",
   "execution_count": 2,
   "metadata": {},
   "outputs": [
    {
     "name": "stdout",
     "output_type": "stream",
     "text": [
      "60\n"
     ]
    }
   ],
   "source": [
    "# Answer 2\n",
    "# example \n",
    "def add1(a,b,c): \n",
    "    d = a+b+c\n",
    "    return d\n",
    "\n",
    "# when the function is called then it generate result of the same\n",
    "sum1 = add1(12,3,45) # 'add1' function called and result is returned to 'sum1'\n",
    "print(sum1)"
   ]
  },
  {
   "cell_type": "raw",
   "metadata": {},
   "source": [
    "# Question 3\n",
    "3. What statement creates a function?"
   ]
  },
  {
   "cell_type": "code",
   "execution_count": 5,
   "metadata": {},
   "outputs": [
    {
     "name": "stdout",
     "output_type": "stream",
     "text": [
      "Welcome back to Assignments\n"
     ]
    }
   ],
   "source": [
    "# Answer 3\n",
    "# syntax for user-defined function\n",
    "# def funtion_name(arguments): \n",
    "def disp():     # def disp(): creates disp function\n",
    "    print(\"Welcome back to Assignments\")\n",
    "    \n",
    "disp()  # function is called "
   ]
  },
  {
   "cell_type": "raw",
   "metadata": {},
   "source": [
    "# Question 4\n",
    "4. What is the difference between a function and a function call?"
   ]
  },
  {
   "cell_type": "raw",
   "metadata": {},
   "source": [
    "# Function:\n",
    "# It has statements, part of program or module of a program\n",
    "\"\"\"\n",
    "syntax: \n",
    "def function_name(arguments):\n",
    "    statement\n",
    "    statement\n",
    "    statement\n",
    "    .......\n",
    "    statement\n",
    "    statement\n",
    "\"\"\" \n",
    "\n",
    "# Function call:\n",
    "# It calls and executes the same function\n",
    "\n",
    "\"\"\"\n",
    "example:\n",
    "function_name(parameters)\n",
    "\"\"\""
   ]
  },
  {
   "cell_type": "raw",
   "metadata": {},
   "source": [
    "# Question 5\n",
    "5. How many global scopes are there in a Python program? How many local scopes?"
   ]
  },
  {
   "cell_type": "code",
   "execution_count": null,
   "metadata": {},
   "outputs": [],
   "source": [
    "# Answer 5\n",
    "# The variables are specified outside the function are called as global variable.\n",
    "\n",
    "The variables are specified inside the function are called as local variable."
   ]
  }
 ],
 "metadata": {
  "kernelspec": {
   "display_name": "Python 3 (ipykernel)",
   "language": "python",
   "name": "python3"
  },
  "language_info": {
   "codemirror_mode": {
    "name": "ipython",
    "version": 3
   },
   "file_extension": ".py",
   "mimetype": "text/x-python",
   "name": "python",
   "nbconvert_exporter": "python",
   "pygments_lexer": "ipython3",
   "version": "3.10.9"
  }
 },
 "nbformat": 4,
 "nbformat_minor": 4
}
