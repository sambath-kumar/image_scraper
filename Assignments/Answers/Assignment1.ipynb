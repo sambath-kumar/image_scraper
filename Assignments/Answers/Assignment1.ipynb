{
 "cells": [
  {
   "cell_type": "markdown",
   "metadata": {},
   "source": [
    "# Question:1"
   ]
  },
  {
   "cell_type": "raw",
   "metadata": {},
   "source": [
    "In the below elements which of them are values or an expression? eg:- values can be integer or string and expressions will be mathematical operators.\n",
    "* \n",
    "'hello'\n",
    "-87.8\n",
    "- \n",
    "/ \n",
    "+\t\n",
    "6\n"
   ]
  },
  {
   "cell_type": "markdown",
   "metadata": {},
   "source": [
    "# Answer :1"
   ]
  },
  {
   "cell_type": "raw",
   "metadata": {},
   "source": [
    "# values are\n",
    "'hello'\n",
    "-87.8\n",
    "6\n",
    "\n",
    "# expressions are\n",
    "*\n",
    "-\n",
    "/\n",
    "+"
   ]
  },
  {
   "cell_type": "markdown",
   "metadata": {},
   "source": [
    "# Question: 2"
   ]
  },
  {
   "cell_type": "raw",
   "metadata": {},
   "source": [
    "What is the difference between string and variable?"
   ]
  },
  {
   "cell_type": "markdown",
   "metadata": {},
   "source": [
    "# Answer: 2"
   ]
  },
  {
   "cell_type": "code",
   "execution_count": 2,
   "metadata": {},
   "outputs": [
    {
     "name": "stdout",
     "output_type": "stream",
     "text": [
      "Welcome\n",
      "Python assignments\n"
     ]
    }
   ],
   "source": [
    "# String is a array of characters \n",
    "# It is quoted by single or double quote\n",
    "a = \"Welcome\"\n",
    "b = 'Python assignments'\n",
    "print(a)\n",
    "print(b)"
   ]
  },
  {
   "cell_type": "code",
   "execution_count": 4,
   "metadata": {},
   "outputs": [
    {
     "name": "stdout",
     "output_type": "stream",
     "text": [
      "23\n"
     ]
    }
   ],
   "source": [
    "# Variable stores a data \n",
    "c = 23\n",
    "print(c)\n",
    "# c variable assigned by value '23'\n",
    "# a,b variables are assigned by strings"
   ]
  },
  {
   "cell_type": "markdown",
   "metadata": {},
   "source": [
    "# Question: 3"
   ]
  },
  {
   "cell_type": "raw",
   "metadata": {},
   "source": [
    "Describe three different data types."
   ]
  },
  {
   "cell_type": "markdown",
   "metadata": {},
   "source": [
    "# Answer: 3"
   ]
  },
  {
   "cell_type": "code",
   "execution_count": 9,
   "metadata": {},
   "outputs": [
    {
     "name": "stdout",
     "output_type": "stream",
     "text": [
      "<class 'str'>\n",
      "<class 'str'>\n",
      "<class 'int'>\n",
      "<class 'float'>\n",
      "<class 'dict'>\n"
     ]
    }
   ],
   "source": [
    "# Data type is arranging data in same groups\n",
    "# 1. Text type \n",
    "a = \"Welcome back\"\n",
    "b = str('Python')\n",
    "print(type(a))\n",
    "print(type(b))\n",
    "\n",
    "# 2. Numeric type: int, float\n",
    "c = 5      # int \n",
    "# c = int(5) using constructor\n",
    "d = 6.2    # float\n",
    "# d = float(5.2) using constructor\n",
    "print(type(c))\n",
    "print(type(d))\n",
    "\n",
    "# 3. Dictionary type: It has key:value pair concept\n",
    "d1 = {\"name\": \"sambath\", \"age\":35, \"state\":\"Tamilnadu\"}\n",
    "print(type(d1))\n",
    "# key will be called to get value"
   ]
  },
  {
   "cell_type": "markdown",
   "metadata": {},
   "source": [
    "# Question: 4"
   ]
  },
  {
   "cell_type": "raw",
   "metadata": {},
   "source": [
    "What is an expression made up of? What do all expressions do?"
   ]
  },
  {
   "cell_type": "markdown",
   "metadata": {},
   "source": [
    "# Answer: 4"
   ]
  },
  {
   "cell_type": "code",
   "execution_count": 10,
   "metadata": {},
   "outputs": [
    {
     "name": "stdout",
     "output_type": "stream",
     "text": [
      "25\n",
      "sambath kumar\n"
     ]
    }
   ],
   "source": [
    "# Experssion made up of operators, data and variables\n",
    "a = 10\n",
    "s1 = a + 15   # a, s1:variable, 15 is integer data\n",
    "print(s1)\n",
    "\n",
    "# Expressions perform an operation\n",
    "# The above expression perform an addition operation\n",
    "print(\"sambath\"+\" \"+\"kumar\")\n",
    "# It concatenates strings"
   ]
  },
  {
   "cell_type": "markdown",
   "metadata": {},
   "source": [
    "# Question: 5"
   ]
  },
  {
   "cell_type": "raw",
   "metadata": {},
   "source": [
    "This assignment statements, like spam = 10. What is the difference between an expression and a statement?"
   ]
  },
  {
   "cell_type": "markdown",
   "metadata": {},
   "source": [
    "# Answer: 6"
   ]
  },
  {
   "cell_type": "code",
   "execution_count": 11,
   "metadata": {},
   "outputs": [
    {
     "name": "stdout",
     "output_type": "stream",
     "text": [
      "sambath kumar\n",
      "35\n"
     ]
    }
   ],
   "source": [
    "# statements\n",
    "\"\"\"\n",
    "It assign value or string into a variable\n",
    "eg:\n",
    "a = 5\n",
    "b = \"sambath\"\n",
    "\n",
    "It displays a data\n",
    "print(\"sambath kumar\")\n",
    "\"\"\"\n",
    "\n",
    "# Expression\n",
    "\"\"\"\n",
    "It perform an operation and produce a data\n",
    "s2 = 23 + 12\n",
    "Here, 35 value created with an operator \n",
    "\"\"\"\n",
    "\n",
    "a = 5\n",
    "b = \"sambath\"\n",
    "print(\"sambath kumar\")\n",
    "\n",
    "s2 = 23 + 12\n",
    "print(s2)"
   ]
  },
  {
   "cell_type": "markdown",
   "metadata": {},
   "source": [
    "# Question: 6"
   ]
  },
  {
   "cell_type": "code",
   "execution_count": 14,
   "metadata": {},
   "outputs": [
    {
     "name": "stdout",
     "output_type": "stream",
     "text": [
      "22\n",
      "23\n"
     ]
    }
   ],
   "source": [
    "# After running the following code, what does the variable bacon contain?\n",
    "bacon = 22   # now it has 22\n",
    "bacon + 1    # bacon again have 22\n",
    "\n",
    "print(bacon)   # 22\n",
    "\n",
    "# If bacon += 1   or bacon = bacon + 1\n",
    "bacon += 1  # then 23\n",
    "print(bacon)"
   ]
  },
  {
   "cell_type": "markdown",
   "metadata": {},
   "source": [
    "# Answer: 6"
   ]
  },
  {
   "cell_type": "code",
   "execution_count": 15,
   "metadata": {},
   "outputs": [],
   "source": [
    "# bacon = 22"
   ]
  },
  {
   "cell_type": "markdown",
   "metadata": {},
   "source": [
    "# Question: 7"
   ]
  },
  {
   "cell_type": "raw",
   "metadata": {},
   "source": [
    "What should the values of the following two terms be?\n",
    "'spam' + 'spamspam'\n",
    "'spam' * 3\n"
   ]
  },
  {
   "cell_type": "markdown",
   "metadata": {},
   "source": [
    "# Answer: 7"
   ]
  },
  {
   "cell_type": "code",
   "execution_count": 17,
   "metadata": {},
   "outputs": [
    {
     "name": "stdout",
     "output_type": "stream",
     "text": [
      "spamspamspam\n",
      "spamspamspam\n"
     ]
    }
   ],
   "source": [
    "# 'spam' and 'spamspam' concatenate with + operator\n",
    "print('spam'+'spamspam')   \n",
    "\n",
    "# 'spam' multiplied or repeated 3 times\n",
    "print('spam'*3)"
   ]
  },
  {
   "cell_type": "markdown",
   "metadata": {},
   "source": [
    "# Question: 8"
   ]
  },
  {
   "cell_type": "raw",
   "metadata": {},
   "source": [
    "Why is eggs a valid variable name while 100 is invalid?"
   ]
  },
  {
   "cell_type": "markdown",
   "metadata": {},
   "source": [
    "# Answer: 8"
   ]
  },
  {
   "cell_type": "raw",
   "metadata": {},
   "source": [
    "A variable does not start with numbers but it may have in other places \n",
    "It starts from alphabets or _"
   ]
  },
  {
   "cell_type": "code",
   "execution_count": 19,
   "metadata": {},
   "outputs": [],
   "source": [
    "a1 = 3\n",
    "_a = 4\n",
    "a0_12 = 5\n",
    "eggs = \"chicken egg\"   # it has alphabets only, a valid variable name\n",
    "# 100 variable starts from 1 which is invalid "
   ]
  },
  {
   "cell_type": "markdown",
   "metadata": {},
   "source": [
    "# Question: 9 "
   ]
  },
  {
   "cell_type": "raw",
   "metadata": {},
   "source": [
    "What three functions can be used to get the integer, floating-point number, or string version of a value?"
   ]
  },
  {
   "cell_type": "markdown",
   "metadata": {},
   "source": [
    "# Answer: 9"
   ]
  },
  {
   "cell_type": "code",
   "execution_count": 24,
   "metadata": {},
   "outputs": [
    {
     "name": "stdout",
     "output_type": "stream",
     "text": [
      "<class 'int'>\n",
      "<class 'float'>\n",
      "<class 'str'>\n",
      "<class 'str'>\n"
     ]
    }
   ],
   "source": [
    "# constructors or functions are used to generate int, float and string\n",
    "\n",
    "print(type(int(23.5)))\n",
    "print(type(float(10)))\n",
    "print(type(str(\"sambath\")))\n",
    "print(type(str(20)))     # number 20 converted into a string"
   ]
  },
  {
   "cell_type": "markdown",
   "metadata": {},
   "source": [
    "# Question: 10"
   ]
  },
  {
   "cell_type": "raw",
   "metadata": {},
   "source": [
    "Why does this expression cause an error? How can you fix it?\n",
    "'I have eaten ' + 99 + ' burritos.'"
   ]
  },
  {
   "cell_type": "markdown",
   "metadata": {},
   "source": [
    "# Answer: 10"
   ]
  },
  {
   "cell_type": "code",
   "execution_count": 25,
   "metadata": {},
   "outputs": [
    {
     "ename": "TypeError",
     "evalue": "can only concatenate str (not \"int\") to str",
     "output_type": "error",
     "traceback": [
      "\u001b[1;31m---------------------------------------------------------------------------\u001b[0m",
      "\u001b[1;31mTypeError\u001b[0m                                 Traceback (most recent call last)",
      "\u001b[1;32m<ipython-input-25-e30a449e5639>\u001b[0m in \u001b[0;36m<module>\u001b[1;34m\u001b[0m\n\u001b[0;32m      1\u001b[0m \u001b[1;31m# The same data type can be added\u001b[0m\u001b[1;33m\u001b[0m\u001b[1;33m\u001b[0m\u001b[1;33m\u001b[0m\u001b[0m\n\u001b[0;32m      2\u001b[0m \u001b[1;31m# The above example has string and int\u001b[0m\u001b[1;33m\u001b[0m\u001b[1;33m\u001b[0m\u001b[1;33m\u001b[0m\u001b[0m\n\u001b[1;32m----> 3\u001b[1;33m \u001b[0mprint\u001b[0m\u001b[1;33m(\u001b[0m\u001b[1;34m'I have eaten '\u001b[0m \u001b[1;33m+\u001b[0m \u001b[1;36m99\u001b[0m \u001b[1;33m+\u001b[0m \u001b[1;34m' burritos.'\u001b[0m\u001b[1;33m)\u001b[0m\u001b[1;33m\u001b[0m\u001b[1;33m\u001b[0m\u001b[0m\n\u001b[0m\u001b[0;32m      4\u001b[0m \u001b[1;33m\u001b[0m\u001b[0m\n\u001b[0;32m      5\u001b[0m \u001b[1;31m# Due to integer '99' which produce an error\u001b[0m\u001b[1;33m\u001b[0m\u001b[1;33m\u001b[0m\u001b[1;33m\u001b[0m\u001b[0m\n",
      "\u001b[1;31mTypeError\u001b[0m: can only concatenate str (not \"int\") to str"
     ]
    }
   ],
   "source": [
    "# The same data type can be added\n",
    "# The above example has string and int \n",
    "print('I have eaten ' + 99 + ' burritos.')\n",
    "\n",
    "# Due to integer '99' which produce an error"
   ]
  },
  {
   "cell_type": "code",
   "execution_count": 27,
   "metadata": {},
   "outputs": [
    {
     "name": "stdout",
     "output_type": "stream",
     "text": [
      "I have eaten 99 burritos.\n",
      "I have eaten 99 burritos.\n"
     ]
    }
   ],
   "source": [
    "# conver '99' into string then execute a statement\n",
    "\n",
    "print('I have eaten ' + '99' + ' burritos.')   # using quotes\n",
    "print('I have eaten ' + str(99) + ' burritos.')  # using 'str' function"
   ]
  },
  {
   "cell_type": "code",
   "execution_count": null,
   "metadata": {},
   "outputs": [],
   "source": []
  }
 ],
 "metadata": {
  "kernelspec": {
   "display_name": "Python 3",
   "language": "python",
   "name": "python3"
  },
  "language_info": {
   "codemirror_mode": {
    "name": "ipython",
    "version": 3
   },
   "file_extension": ".py",
   "mimetype": "text/x-python",
   "name": "python",
   "nbconvert_exporter": "python",
   "pygments_lexer": "ipython3",
   "version": "3.8.3"
  }
 },
 "nbformat": 4,
 "nbformat_minor": 4
}
