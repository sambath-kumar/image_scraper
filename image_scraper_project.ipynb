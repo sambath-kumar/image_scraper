{
 "cells": [
  {
   "cell_type": "code",
   "execution_count": 1,
   "id": "acda3815",
   "metadata": {},
   "outputs": [],
   "source": [
    "import requests\n",
    "import logging\n",
    "import os\n",
    "from bs4 import BeautifulSoup\n",
    "from urllib.request import urlopen"
   ]
  },
  {
   "cell_type": "code",
   "execution_count": 4,
   "id": "afd4dbe4",
   "metadata": {},
   "outputs": [
    {
     "data": {
      "text/plain": [
       "48"
      ]
     },
     "execution_count": 4,
     "metadata": {},
     "output_type": "execute_result"
    }
   ],
   "source": [
    "4*12\n"
   ]
  },
  {
   "cell_type": "code",
   "execution_count": 2,
   "id": "881dda96",
   "metadata": {},
   "outputs": [],
   "source": [
    "save_dir = 'E:\\iNeuronIntelligence\\Python\\project\\images'\n",
    "if not os.path.exists(save_dir):\n",
    "    os.makedirs(save_dir)"
   ]
  },
  {
   "cell_type": "code",
   "execution_count": 3,
   "id": "965d2b44",
   "metadata": {},
   "outputs": [
    {
     "name": "stdout",
     "output_type": "stream",
     "text": [
      "E:\\iNeuronIntelligence\\Python\\project\\images\n"
     ]
    }
   ],
   "source": [
    "print(save_dir)"
   ]
  },
  {
   "cell_type": "code",
   "execution_count": 4,
   "id": "6677e860",
   "metadata": {},
   "outputs": [
    {
     "data": {
      "text/plain": [
       "'e:\\\\iNeuronIntelligence\\\\Python\\\\project'"
      ]
     },
     "execution_count": 4,
     "metadata": {},
     "output_type": "execute_result"
    }
   ],
   "source": [
    "pwd"
   ]
  },
  {
   "cell_type": "code",
   "execution_count": 8,
   "id": "dcf1e1e0",
   "metadata": {},
   "outputs": [],
   "source": [
    "query = \"chandrayaan 3\"\n",
    "url = \"https://www.google.com/search?sxsrf=AB5stBgPlHeJQg7R2Dp9hkx0RwfvBnnhbw:1690783474862&q={query}&tbm=isch&source=lnms&sa=X&ved=2ahUKEwiF4qSjo7iAAxUTSGwGHRzNBxQQ0pQJegQICRAB#imgrc=mP_Pcu3ZHqSl8M\""
   ]
  },
  {
   "cell_type": "code",
   "execution_count": 9,
   "id": "89e2f9ee",
   "metadata": {},
   "outputs": [],
   "source": [
    "response = requests.get(f\"https://www.google.com/search?sxsrf=AB5stBgPlHeJQg7R2Dp9hkx0RwfvBnnhbw:1690783474862&q={query}&tbm=isch&source=lnms&sa=X&ved=2ahUKEwiF4qSjo7iAAxUTSGwGHRzNBxQQ0pQJegQICRAB#imgrc=mP_Pcu3ZHqSl8M\")\n",
    "# get the data using requests module"
   ]
  },
  {
   "cell_type": "code",
   "execution_count": 10,
   "id": "07f42c81",
   "metadata": {},
   "outputs": [
    {
     "data": {
      "text/plain": [
       "<Response [200]>"
      ]
     },
     "execution_count": 10,
     "metadata": {},
     "output_type": "execute_result"
    }
   ],
   "source": [
    "response"
   ]
  },
  {
   "cell_type": "code",
   "execution_count": 11,
   "id": "390987a0",
   "metadata": {},
   "outputs": [
    {
     "data": {
      "text/plain": [
       "<!DOCTYPE html PUBLIC \"-//WAPFORUM//DTD XHTML Mobile 1.0//EN\" \"http://www.wapforum.org/DTD/xhtml-mobile10.dtd\">\n",
       "<html lang=\"en-IN\" xmlns=\"http://www.w3.org/1999/xhtml\"><head><meta content=\"application/xhtml+xml; charset=utf-8\" http-equiv=\"Content-Type\"/><meta content=\"no-cache\" name=\"Cache-Control\"/><title>chandrayaan 3 - Google Search</title><style>a{text-decoration:none;color:inherit}a:hover{text-decoration:underline}a img{border:0}body{font-family:arial,sans-serif;padding:8px;margin:0 auto;max-width:700px;min-width:240px;}.FbhRzb{border-left:thin solid #dadce0;border-right:thin solid #dadce0;border-top:thin solid #dadce0;height:40px;overflow:hidden}.n692Zd{margin-bottom:10px}.cvifge{height:40px;border-spacing:0}.QvGUP{height:40px;padding:0 8px 0 8px;vertical-align:top}.O4cRJf{height:40px;width:100%;padding:0;padding-right:16px}.O1ePr{height:40px;padding:0;vertical-align:top}.kgJEQe{height:36px;width:98px;vertical-align:top;margin-top:4px}.lXLRf{vertical-align:top}.MhzMZd{border:0;vertical-align:middle;font-size:14px;height:40px;padding:0;width:100%;padding-left:16px}.xB0fq{height:40px;border:none;font-size:14px;background-color:#1a73e8;color:#fff;padding:0 16px;margin:0;vertical-align:top;cursor:pointer}.xB0fq:focus{border:1px solid #1a73e8}.M7pB2{border:thin solid #dadce0;margin:0 0 3px 0;font-size:13px;font-weight:500;height:40px}.euZec{width:100%;height:40px;text-align:center;border-spacing:0}table.euZec td{padding:0;width:25%}.QIqI7{display:inline-block;padding-top:4px;font-weight:bold;color:#4285f4}.EY24We{border-bottom:2px solid #4285f4}.CsQyDc{display:inline-block;color:#70757a}.TuS8Ad{font-size:14px}.HddGcc{padding:8px;color:#70757a}.dzp8ae{font-weight:bold;color:#3c4043}.rEM8G{color:#70757a}.bookcf{table-layout:fixed;width:100%;border-spacing:0}.InWNIe{text-align:center}.uZgmoc{border:thin solid #dadce0;color:#70757a;font-size:14px;text-align:center;table-layout:fixed;width:100%}.frGj1b{display:block;padding:12px 0 12px 0;width:100%}.BnJWBc{text-align:center;padding:6px 0 13px 0;height:35px}.e3goi{vertical-align:top;padding:0;height:180px}.GpQGbf{margin:auto;border-collapse:collapse;border-spacing:0;width:100%}</style></head><body><style>.X6ZCif{color:#202124;font-size:11px;line-height:16px;display:inline-block;padding-top:2px;overflow:hidden;padding-bottom:4px;width:100%}.TwVfHd{border-radius:16px;border:thin solid #dadce0;display:inline-block;padding:8px 8px;margin-right:8px;margin-bottom:4px}.yekiAe{background-color:#dadce0}.mnTahd{width:100%}.ezO2md{border:thin solid #dadce0;padding:12px 16px 12px 16px;margin-bottom:10px;font-family:arial,sans-serif}.lIMUZd{font-family:arial,sans-serif}.IkMU6e{border-spacing:0}.SjCsie{width:100%}.EnarA{text-align:center}.NZWO1b{width:162px;height:140px;line-height:140px;overflow:'hidden';text-align:center}.yWs4tf{text-align:center;margin:auto;vertical-align:middle;max-width:162px;max-height:140px}.jB2rPd{padding-top:2px;padding-bottom:8px;}.fYyStc{word-break:break-word}.ynsChf{display:block;white-space:nowrap;overflow:hidden;text-overflow:ellipsis}.Fj3V3b{color:#1967d2;font-size:14px;line-height:20px}.FrIlee{color:#202124;font-size:11px;line-height:16px}.F9iS2e{color:#70757a;font-size:11px;line-height:16px}.WMQ2Le{color:#70757a;font-size:12px;line-height:16px}.x3G5ab{color:#202124;font-size:12px;line-height:16px}.fuLhoc{color:#1967d2;font-size:16px;line-height:20px}.epoveb{font-size:24px;line-height:28px;font-weight:400;color:#202124}.dXDvrc{color:#0d652d;font-size:14px;line-height:20px;word-wrap:break-word}.dloBPe{font-weight:bold}.YVIcad{color:#70757a}.JkVVdd{color:#ea4335}.oXZRFd{color:#ea4335}.MQHtg{color:#fbbc04}.pyMRrb{color:#1e8e3e}.EtTZid{color:#1e8e3e}.M3vVJe{color:#1967d2}.qXLe6d{display:block}.NHQNef{font-style:italic}.Cb8Z7c{white-space:pre}a.ZWRArf{text-decoration:none}a .CVA68e:hover{text-decoration:underline}</style><div class=\"n692Zd\"><div class=\"BnJWBc\"><a class=\"lXLRf\" href=\"/?sa=X&amp;output=images&amp;ie=UTF-8&amp;tbm=isch&amp;ved=0ahUKEwicyOXM1LqAAxXebmwGHc6GARwQPAgC\"><img alt=\"Google\" class=\"kgJEQe\" src=\"/images/branding/searchlogo/1x/googlelogo_desk_heirloom_color_150x55dp.gif\"/></a></div><div class=\"FbhRzb\"><form action=\"/search\"><input name=\"ie\" type=\"hidden\" value=\"ISO-8859-1\"/><input name=\"tbm\" type=\"hidden\" value=\"isch\"/><input name=\"oq\" type=\"hidden\"/><input name=\"aqs\" type=\"hidden\"/><table class=\"cvifge\"><tr><td class=\"O4cRJf\"><input class=\"MhzMZd\" name=\"q\" type=\"text\" value=\"chandrayaan 3\"/></td><td class=\"O1ePr\"><input class=\"xB0fq\" type=\"submit\" value=\"Search\"/></td></tr></table></form></div><div class=\"M7pB2\"><table class=\"euZec\"><tbody><tr><td><a class=\"CsQyDc\" href=\"/search?q=chandrayaan+3&amp;ie=UTF-8&amp;source=lnms&amp;sa=X&amp;ved=0ahUKEwicyOXM1LqAAxXebmwGHc6GARwQ_AUIBCgA\">ALL</a></td><td><a class=\"CsQyDc\" href=\"/search?q=chandrayaan+3&amp;ie=UTF-8&amp;tbm=nws&amp;source=lnms&amp;sa=X&amp;ved=0ahUKEwicyOXM1LqAAxXebmwGHc6GARwQ_AUIBSgB\">NEWS</a></td><td class=\"EY24We\"><span class=\"QIqI7\">IMAGES</span></td><td><a class=\"CsQyDc\" href=\"/search?q=chandrayaan+3&amp;ie=UTF-8&amp;tbm=vid&amp;source=lnms&amp;sa=X&amp;ved=0ahUKEwicyOXM1LqAAxXebmwGHc6GARwQ_AUIBygD\">VIDEOS</a></td></tr></tbody></table></div></div><div class=\"X6ZCif\"><a class=\"TwVfHd\" href=\"/search?ie=UTF-8&amp;tbm=isch&amp;q=chandrayaan+3&amp;chips=q:chandrayaan+3,g_1:satellite&amp;sa=X&amp;ved=0ahUKEwicyOXM1LqAAxXebmwGHc6GARwQ4lYICygA\">satellite</a><a class=\"TwVfHd\" href=\"/search?ie=UTF-8&amp;tbm=isch&amp;q=chandrayaan+3&amp;chips=q:chandrayaan+3,g_1:rocket&amp;sa=X&amp;ved=0ahUKEwicyOXM1LqAAxXebmwGHc6GARwQ4lYIDCgB\">rocket</a><a class=\"TwVfHd\" href=\"/search?ie=UTF-8&amp;tbm=isch&amp;q=chandrayaan+3&amp;chips=q:chandrayaan+3,g_1:lander&amp;sa=X&amp;ved=0ahUKEwicyOXM1LqAAxXebmwGHc6GARwQ4lYIDSgC\">lander</a><a class=\"TwVfHd\" href=\"/search?ie=UTF-8&amp;tbm=isch&amp;q=chandrayaan+3&amp;chips=q:chandrayaan+3,g_1:rover&amp;sa=X&amp;ved=0ahUKEwicyOXM1LqAAxXebmwGHc6GARwQ4lYIDigD\">rover</a><a class=\"TwVfHd\" href=\"/search?ie=UTF-8&amp;tbm=isch&amp;q=chandrayaan+3&amp;chips=q:chandrayaan+3,g_1:information&amp;sa=X&amp;ved=0ahUKEwicyOXM1LqAAxXebmwGHc6GARwQ4lYIDygE\">information</a><a class=\"TwVfHd\" href=\"/search?ie=UTF-8&amp;tbm=isch&amp;q=chandrayaan+3&amp;chips=q:chandrayaan+3,g_1:orbiter&amp;sa=X&amp;ved=0ahUKEwicyOXM1LqAAxXebmwGHc6GARwQ4lYIECgF\">orbiter</a><a class=\"TwVfHd\" href=\"/search?ie=UTF-8&amp;tbm=isch&amp;q=chandrayaan+3&amp;chips=q:chandrayaan+3,g_1:india&amp;sa=X&amp;ved=0ahUKEwicyOXM1LqAAxXebmwGHc6GARwQ4lYIESgG\">india</a><a class=\"TwVfHd\" href=\"/search?ie=UTF-8&amp;tbm=isch&amp;q=chandrayaan+3&amp;chips=q:chandrayaan+3,g_1:launch+date&amp;sa=X&amp;ved=0ahUKEwicyOXM1LqAAxXebmwGHc6GARwQ4lYIEigH\">launch date</a><a class=\"TwVfHd\" href=\"/search?ie=UTF-8&amp;tbm=isch&amp;q=chandrayaan+3&amp;chips=q:chandrayaan+3,g_1:isro&amp;sa=X&amp;ved=0ahUKEwicyOXM1LqAAxXebmwGHc6GARwQ4lYIEygI\">isro</a><a class=\"TwVfHd\" href=\"/search?ie=UTF-8&amp;tbm=isch&amp;q=chandrayaan+3&amp;chips=q:chandrayaan+3,g_1:mission&amp;sa=X&amp;ved=0ahUKEwicyOXM1LqAAxXebmwGHc6GARwQ4lYIFCgJ\">mission</a></div><div><table class=\"GpQGbf\"><tr><td align=\"center\" class=\"e3goi\"><div class=\"mnTahd\"> <div> <div class=\"lIMUZd\"><div><table class=\"IkMU6e\"><tr><td><a href=\"/url?q=https://www.livemint.com/science/news/chandrayaan3-update-isro-set-for-crucial-maneuver-as-spacecraft-inches-closer-to-moon-11690793387890.html&amp;sa=U&amp;ved=2ahUKEwicyOXM1LqAAxXebmwGHc6GARwQqoUBegQIAxAB&amp;usg=AOvVaw2xPHCabhBe8ikx8dXY4z68\"><div class=\"NZWO1b\"><img alt=\"\" class=\"yWs4tf\" src=\"https://encrypted-tbn0.gstatic.com/images?q=tbn:ANd9GcSXh5_nQGzpa1YciAfTi94oilox64H8Twx3qPvHjoj4icI2BTENeqKXVPa9k1k&amp;s\"/></div></a></td></tr><tr><td><a href=\"/url?q=https://www.livemint.com/science/news/chandrayaan3-update-isro-set-for-crucial-maneuver-as-spacecraft-inches-closer-to-moon-11690793387890.html&amp;sa=U&amp;ved=2ahUKEwicyOXM1LqAAxXebmwGHc6GARwQr4kDegQIAxAC&amp;usg=AOvVaw0oKs5ZJPyz15vHwRJuB44p\"><div class=\"jB2rPd\"> <span class=\"qXLe6d x3G5ab\"> <span class=\"fYyStc\">Chandrayaan-3 update: ISRO...</span> </span> <span class=\"qXLe6d F9iS2e\"> <span class=\"fYyStc\">www.livemint.com</span> </span> </div></a></td></tr></table></div></div> </div> </div></td><td align=\"center\" class=\"e3goi\"><div class=\"mnTahd\"> <div> <div class=\"lIMUZd\"><div><table class=\"IkMU6e\"><tr><td><a href=\"/url?q=https://m.economictimes.com/news/science/chandrayaan-3-reaches-closer-to-moon-isro-successfully-performs-5th-orbit-raising-manoeuvre/videoshow/102113428.cms&amp;sa=U&amp;ved=2ahUKEwicyOXM1LqAAxXebmwGHc6GARwQqoUBegQIExAB&amp;usg=AOvVaw0c__t8OWo1h-U33Z7E3FUe\"><div class=\"NZWO1b\"><img alt=\"\" class=\"yWs4tf\" src=\"https://encrypted-tbn0.gstatic.com/images?q=tbn:ANd9GcS-7xL4WGyF36X3WehyizfdJ4XxadV3D_0ho5jekH71xKMjnmmxDtcKq3xung&amp;s\"/></div></a></td></tr><tr><td><a href=\"/url?q=https://m.economictimes.com/news/science/chandrayaan-3-reaches-closer-to-moon-isro-successfully-performs-5th-orbit-raising-manoeuvre/videoshow/102113428.cms&amp;sa=U&amp;ved=2ahUKEwicyOXM1LqAAxXebmwGHc6GARwQr4kDegQIExAC&amp;usg=AOvVaw3mnDrnLfIStVxHi_jvVNJa\"><div class=\"jB2rPd\"> <span class=\"qXLe6d x3G5ab\"> <span class=\"fYyStc\">Chandrayaan-3 Mission:...</span> </span> <span class=\"qXLe6d F9iS2e\"> <span class=\"fYyStc\">m.economictimes.com</span> </span> </div></a></td></tr></table></div></div> </div> </div></td><td align=\"center\" class=\"e3goi\"><div class=\"mnTahd\"> <div> <div class=\"lIMUZd\"><div><table class=\"IkMU6e\"><tr><td><a href=\"/url?q=https://www.youtube.com/watch%3Fv%3D89yhd4ONFbg&amp;sa=U&amp;ved=2ahUKEwicyOXM1LqAAxXebmwGHc6GARwQqoUBegQIEhAB&amp;usg=AOvVaw1AzWQl9fUCCV_gnz8Jqs8G\"><div class=\"NZWO1b\"><img alt=\"\" class=\"yWs4tf\" src=\"https://encrypted-tbn0.gstatic.com/images?q=tbn:ANd9GcTzggI4Va-HBOTd_uk0DkVyu81hnsVd0OpXl59fO-YSy1CXZmWxvVpNh0AS6g&amp;s\"/></div></a></td></tr><tr><td><a href=\"/url?q=https://www.youtube.com/watch%3Fv%3D89yhd4ONFbg&amp;sa=U&amp;ved=2ahUKEwicyOXM1LqAAxXebmwGHc6GARwQr4kDegQIEhAC&amp;usg=AOvVaw2fiOZ5PnIHnmL6FpGHDlsi\"><div class=\"jB2rPd\"> <span class=\"qXLe6d x3G5ab\"> <span class=\"fYyStc\">Chandrayaan-3 Launch LIVE:...</span> </span> <span class=\"qXLe6d F9iS2e\"> <span class=\"fYyStc\">www.youtube.com</span> </span> </div></a></td></tr></table></div></div> </div> </div></td><td align=\"center\" class=\"e3goi\"><div class=\"mnTahd\"> <div> <div class=\"lIMUZd\"><div><table class=\"IkMU6e\"><tr><td><a href=\"/url?q=https://www.aajtak.in/science/story/why-does-india-want-to-go-to-the-moon-for-the-third-time-know-isro-preparation-for-deep-space-mission-ssc-1744961-2023-07-27&amp;sa=U&amp;ved=2ahUKEwicyOXM1LqAAxXebmwGHc6GARwQqoUBegQIERAB&amp;usg=AOvVaw2aeqKz66__WmXtxT6WkGXS\"><div class=\"NZWO1b\"><img alt=\"\" class=\"yWs4tf\" src=\"https://encrypted-tbn0.gstatic.com/images?q=tbn:ANd9GcRhUFE-KhL5MlfsNmeqrAEc19lvg9mMzAXd2R0r57mcQqvLyxI3ss_unxUCBls&amp;s\"/></div></a></td></tr><tr><td><a href=\"/url?q=https://www.aajtak.in/science/story/why-does-india-want-to-go-to-the-moon-for-the-third-time-know-isro-preparation-for-deep-space-mission-ssc-1744961-2023-07-27&amp;sa=U&amp;ved=2ahUKEwicyOXM1LqAAxXebmwGHc6GARwQr4kDegQIERAC&amp;usg=AOvVaw1VpWmGHZ4640g0A_qJQPbU\"><div class=\"jB2rPd\"> <span class=\"qXLe6d x3G5ab\"> <span class=\"fYyStc\">Chandrayaan-3: भारत तीसरी...</span> </span> <span class=\"qXLe6d F9iS2e\"> <span class=\"fYyStc\">www.aajtak.in</span> </span> </div></a></td></tr></table></div></div> </div> </div></td></tr><tr><td align=\"center\" class=\"e3goi\"><div class=\"mnTahd\"> <div> <div class=\"lIMUZd\"><div><table class=\"IkMU6e\"><tr><td><a href=\"/url?q=https://www.livemint.com/news/india/isro-injects-chandrayaan-3-into-translunar-orbit-nasa-isro-august-5-spacecraft-istrac-11690856143141.html&amp;sa=U&amp;ved=2ahUKEwicyOXM1LqAAxXebmwGHc6GARwQqoUBegQIDxAB&amp;usg=AOvVaw0c81340zunpO2FVpi54vOr\"><div class=\"NZWO1b\"><img alt=\"\" class=\"yWs4tf\" src=\"https://encrypted-tbn0.gstatic.com/images?q=tbn:ANd9GcQ9bKxTymHDFigFiKC05JBy5nptalaJ4H4uxWYCGj1YgAbePmDaWtjYsTCK7g&amp;s\"/></div></a></td></tr><tr><td><a href=\"/url?q=https://www.livemint.com/news/india/isro-injects-chandrayaan-3-into-translunar-orbit-nasa-isro-august-5-spacecraft-istrac-11690856143141.html&amp;sa=U&amp;ved=2ahUKEwicyOXM1LqAAxXebmwGHc6GARwQr4kDegQIDxAC&amp;usg=AOvVaw2riHRGxkm_ZtJiI7-ZIEf7\"><div class=\"jB2rPd\"> <span class=\"qXLe6d x3G5ab\"> <span class=\"fYyStc\">ISRO injects Chandrayaan-3...</span> </span> <span class=\"qXLe6d F9iS2e\"> <span class=\"fYyStc\">www.livemint.com</span> </span> </div></a></td></tr></table></div></div> </div> </div></td><td align=\"center\" class=\"e3goi\"><div class=\"mnTahd\"> <div> <div class=\"lIMUZd\"><div><table class=\"IkMU6e\"><tr><td><a href=\"/url?q=https://www.indiatoday.in/science/story/chandrayaan-3-mission-update-whats-next-for-indias-lunar-mission-in-space-2411958-2023-07-26&amp;sa=U&amp;ved=2ahUKEwicyOXM1LqAAxXebmwGHc6GARwQqoUBegQIDhAB&amp;usg=AOvVaw2DCDdXZbBIw9jFi5axJr3A\"><div class=\"NZWO1b\"><img alt=\"\" class=\"yWs4tf\" src=\"https://encrypted-tbn0.gstatic.com/images?q=tbn:ANd9GcTvD_O8C9ZAT7N58l1ggEeSgOntEe55cSLsRdK210XkId801JTG3Ep06HxZjsM&amp;s\"/></div></a></td></tr><tr><td><a href=\"/url?q=https://www.indiatoday.in/science/story/chandrayaan-3-mission-update-whats-next-for-indias-lunar-mission-in-space-2411958-2023-07-26&amp;sa=U&amp;ved=2ahUKEwicyOXM1LqAAxXebmwGHc6GARwQr4kDegQIDhAC&amp;usg=AOvVaw0xijjHpcCDd6BktHTjWYie\"><div class=\"jB2rPd\"> <span class=\"qXLe6d x3G5ab\"> <span class=\"fYyStc\">Chandrayaan-3 update:...</span> </span> <span class=\"qXLe6d F9iS2e\"> <span class=\"fYyStc\">www.indiatoday.in</span> </span> </div></a></td></tr></table></div></div> </div> </div></td><td align=\"center\" class=\"e3goi\"><div class=\"mnTahd\"> <div> <div class=\"lIMUZd\"><div><table class=\"IkMU6e\"><tr><td><a href=\"/url?q=https://www.wionews.com/web-stories/india-news/business-economy/chandrayaan3-what-you-should-know-about-indias-moon-mission-1688377995659&amp;sa=U&amp;ved=2ahUKEwicyOXM1LqAAxXebmwGHc6GARwQqoUBegQIDRAB&amp;usg=AOvVaw2XBRqQJC3l0VI0wX3dpuAD\"><div class=\"NZWO1b\"><img alt=\"\" class=\"yWs4tf\" src=\"https://encrypted-tbn0.gstatic.com/images?q=tbn:ANd9GcQsXdaPUm5KoXBhzqifRQn45SG5mEb1Uvp8PZW1I_e4O0GkVi5b0_SSLIvhwg&amp;s\"/></div></a></td></tr><tr><td><a href=\"/url?q=https://www.wionews.com/web-stories/india-news/business-economy/chandrayaan3-what-you-should-know-about-indias-moon-mission-1688377995659&amp;sa=U&amp;ved=2ahUKEwicyOXM1LqAAxXebmwGHc6GARwQr4kDegQIDRAC&amp;usg=AOvVaw3psgXfWxWftb0ZcQ_t0OhT\"><div class=\"jB2rPd\"> <span class=\"qXLe6d x3G5ab\"> <span class=\"fYyStc\">Chandrayaan-3: What You...</span> </span> <span class=\"qXLe6d F9iS2e\"> <span class=\"fYyStc\">www.wionews.com</span> </span> </div></a></td></tr></table></div></div> </div> </div></td><td align=\"center\" class=\"e3goi\"><div class=\"mnTahd\"> <div> <div class=\"lIMUZd\"><div><table class=\"IkMU6e\"><tr><td><a href=\"/url?q=https://www.aljazeera.com/news/2023/7/14/chandrayaan-3-india-launches-rocket-to-land-spacecraft-on-moon&amp;sa=U&amp;ved=2ahUKEwicyOXM1LqAAxXebmwGHc6GARwQqoUBegQIEBAB&amp;usg=AOvVaw2acE9hzQ1IL4mOjTGiE5fj\"><div class=\"NZWO1b\"><img alt=\"\" class=\"yWs4tf\" src=\"https://encrypted-tbn0.gstatic.com/images?q=tbn:ANd9GcS6Ma3G81mbTrQnHVU28J2Nx4is-d2s3E33xpfp7P8beg_M3SbI7TYRaFn0nRc&amp;s\"/></div></a></td></tr><tr><td><a href=\"/url?q=https://www.aljazeera.com/news/2023/7/14/chandrayaan-3-india-launches-rocket-to-land-spacecraft-on-moon&amp;sa=U&amp;ved=2ahUKEwicyOXM1LqAAxXebmwGHc6GARwQr4kDegQIEBAC&amp;usg=AOvVaw0kme-uXOJfu7Ok53_hfq7m\"><div class=\"jB2rPd\"> <span class=\"qXLe6d x3G5ab\"> <span class=\"fYyStc\">Chandrayaan-3: India...</span> </span> <span class=\"qXLe6d F9iS2e\"> <span class=\"fYyStc\">www.aljazeera.com</span> </span> </div></a></td></tr></table></div></div> </div> </div></td></tr><tr><td align=\"center\" class=\"e3goi\"><div class=\"mnTahd\"> <div> <div class=\"lIMUZd\"><div><table class=\"IkMU6e\"><tr><td><a href=\"/url?q=https://www.hindustantimes.com/technology/chandrayaan3-completes-final-earth-orbit-raising-manoeuvre-101690277600083.html&amp;sa=U&amp;ved=2ahUKEwicyOXM1LqAAxXebmwGHc6GARwQqoUBegQIDBAB&amp;usg=AOvVaw3Z1nqkcmnbbOdOMP8tYsYj\"><div class=\"NZWO1b\"><img alt=\"\" class=\"yWs4tf\" src=\"https://encrypted-tbn0.gstatic.com/images?q=tbn:ANd9GcR1Wd2QkX2frLO4-jHnhZuu_ZByX_DJ6-ZizlzhVTIBO2gXEs2NfpMu_oI7XFw&amp;s\"/></div></a></td></tr><tr><td><a href=\"/url?q=https://www.hindustantimes.com/technology/chandrayaan3-completes-final-earth-orbit-raising-manoeuvre-101690277600083.html&amp;sa=U&amp;ved=2ahUKEwicyOXM1LqAAxXebmwGHc6GARwQr4kDegQIDBAC&amp;usg=AOvVaw3pnMB31ySK-8cc6HwKUApx\"><div class=\"jB2rPd\"> <span class=\"qXLe6d x3G5ab\"> <span class=\"fYyStc\">Chandrayaan-3 successfully...</span> </span> <span class=\"qXLe6d F9iS2e\"> <span class=\"fYyStc\">www.hindustantimes.com</span> </span> </div></a></td></tr></table></div></div> </div> </div></td><td align=\"center\" class=\"e3goi\"><div class=\"mnTahd\"> <div> <div class=\"lIMUZd\"><div><table class=\"IkMU6e\"><tr><td><a href=\"/url?q=https://www.indiatoday.in/science/chandrayaan-3/story/chandrayaan-3-update-isro-to-raise-orbit-of-lunar-mission-for-5th-time-today-2411383-2023-07-25&amp;sa=U&amp;ved=2ahUKEwicyOXM1LqAAxXebmwGHc6GARwQqoUBegQIChAB&amp;usg=AOvVaw0oUCiIVpM9hc93vFJIVuEb\"><div class=\"NZWO1b\"><img alt=\"\" class=\"yWs4tf\" src=\"https://encrypted-tbn0.gstatic.com/images?q=tbn:ANd9GcThsLjoWTJHaIF3YnpvdUI2KpMM1hsIvXX-qJUfF13bXqonc9MruKPHADvcRFk&amp;s\"/></div></a></td></tr><tr><td><a href=\"/url?q=https://www.indiatoday.in/science/chandrayaan-3/story/chandrayaan-3-update-isro-to-raise-orbit-of-lunar-mission-for-5th-time-today-2411383-2023-07-25&amp;sa=U&amp;ved=2ahUKEwicyOXM1LqAAxXebmwGHc6GARwQr4kDegQIChAC&amp;usg=AOvVaw2RD2-g9gYSA2mWxqGi_89z\"><div class=\"jB2rPd\"> <span class=\"qXLe6d x3G5ab\"> <span class=\"fYyStc\">Chandrayaan-3 mission...</span> </span> <span class=\"qXLe6d F9iS2e\"> <span class=\"fYyStc\">www.indiatoday.in</span> </span> </div></a></td></tr></table></div></div> </div> </div></td><td align=\"center\" class=\"e3goi\"><div class=\"mnTahd\"> <div> <div class=\"lIMUZd\"><div><table class=\"IkMU6e\"><tr><td><a href=\"/url?q=https://www.outlookindia.com/national/chandrayaan-3-launch-isro-india-mission-to-south-pole-of-the-moon-news-302704&amp;sa=U&amp;ved=2ahUKEwicyOXM1LqAAxXebmwGHc6GARwQqoUBegQICxAB&amp;usg=AOvVaw1cIcQbwtku5wadcHQILACl\"><div class=\"NZWO1b\"><img alt=\"\" class=\"yWs4tf\" src=\"https://encrypted-tbn0.gstatic.com/images?q=tbn:ANd9GcSjDlyc8BuQbeLlq0tmELdAfx2bjOXKN-giJZyCmjjVkYtGauRtq-vQV9n3moQ&amp;s\"/></div></a></td></tr><tr><td><a href=\"/url?q=https://www.outlookindia.com/national/chandrayaan-3-launch-isro-india-mission-to-south-pole-of-the-moon-news-302704&amp;sa=U&amp;ved=2ahUKEwicyOXM1LqAAxXebmwGHc6GARwQr4kDegQICxAC&amp;usg=AOvVaw2LxdLHEnEl7Y58egr0Cw0s\"><div class=\"jB2rPd\"> <span class=\"qXLe6d x3G5ab\"> <span class=\"fYyStc\">Chandrayaan-3 Launch:...</span> </span> <span class=\"qXLe6d F9iS2e\"> <span class=\"fYyStc\">www.outlookindia.com</span> </span> </div></a></td></tr></table></div></div> </div> </div></td><td align=\"center\" class=\"e3goi\"><div class=\"mnTahd\"> <div> <div class=\"lIMUZd\"><div><table class=\"IkMU6e\"><tr><td><a href=\"/url?q=https://www.thehindu.com/sci-tech/science/isro-chandrayaan-3-mission-timeline/article67063771.ece&amp;sa=U&amp;ved=2ahUKEwicyOXM1LqAAxXebmwGHc6GARwQqoUBegQICRAB&amp;usg=AOvVaw30OlzzeaG6D-Bx3azEkbiN\"><div class=\"NZWO1b\"><img alt=\"\" class=\"yWs4tf\" src=\"https://encrypted-tbn0.gstatic.com/images?q=tbn:ANd9GcSsZrwZlorAaeBLqQINH1a-15bM9eHq_XTTdfxqWXL7h5M8PlycepLanVO6AQ&amp;s\"/></div></a></td></tr><tr><td><a href=\"/url?q=https://www.thehindu.com/sci-tech/science/isro-chandrayaan-3-mission-timeline/article67063771.ece&amp;sa=U&amp;ved=2ahUKEwicyOXM1LqAAxXebmwGHc6GARwQr4kDegQICRAC&amp;usg=AOvVaw1rPglWFf75eGTPgPanh8p-\"><div class=\"jB2rPd\"> <span class=\"qXLe6d x3G5ab\"> <span class=\"fYyStc\">What to expect from ISRO's...</span> </span> <span class=\"qXLe6d F9iS2e\"> <span class=\"fYyStc\">www.thehindu.com</span> </span> </div></a></td></tr></table></div></div> </div> </div></td></tr><tr><td align=\"center\" class=\"e3goi\"><div class=\"mnTahd\"> <div> <div class=\"lIMUZd\"><div><table class=\"IkMU6e\"><tr><td><a href=\"/url?q=https://www.thehindu.com/news/national/isro-third-moon-mission-chandrayaan-3-package/article67079189.ece&amp;sa=U&amp;ved=2ahUKEwicyOXM1LqAAxXebmwGHc6GARwQqoUBegQIARAB&amp;usg=AOvVaw0GmWabNFSqy_-pF2VR82VV\"><div class=\"NZWO1b\"><img alt=\"\" class=\"yWs4tf\" src=\"https://encrypted-tbn0.gstatic.com/images?q=tbn:ANd9GcQbNuC2EdRiLYM3ddKITwf-OmHw7RHVIn9HL6-wyczZZSfdM0gtvKvE_HNn&amp;s\"/></div></a></td></tr><tr><td><a href=\"/url?q=https://www.thehindu.com/news/national/isro-third-moon-mission-chandrayaan-3-package/article67079189.ece&amp;sa=U&amp;ved=2ahUKEwicyOXM1LqAAxXebmwGHc6GARwQr4kDegQIARAC&amp;usg=AOvVaw2RM-SEkBRDYzRY3IE6_Szz\"><div class=\"jB2rPd\"> <span class=\"qXLe6d x3G5ab\"> <span class=\"fYyStc\">Chandrayaan-3 | All you...</span> </span> <span class=\"qXLe6d F9iS2e\"> <span class=\"fYyStc\">www.thehindu.com</span> </span> </div></a></td></tr></table></div></div> </div> </div></td><td align=\"center\" class=\"e3goi\"><div class=\"mnTahd\"> <div> <div class=\"lIMUZd\"><div><table class=\"IkMU6e\"><tr><td><a href=\"/url?q=https://www.news18.com/india/chandrayaan-3-nearing-final-phase-isro-prepares-for-lunar-insertion-in-ambitious-mission-8419993.html&amp;sa=U&amp;ved=2ahUKEwicyOXM1LqAAxXebmwGHc6GARwQqoUBegQIAhAB&amp;usg=AOvVaw23H6z0u9HbVpoyxZMQw3NW\"><div class=\"NZWO1b\"><img alt=\"\" class=\"yWs4tf\" src=\"https://encrypted-tbn0.gstatic.com/images?q=tbn:ANd9GcRRzV2BWvo-L6JASJjhj6tP0uc37hr7Oyh_p2gf1ebC3XlD8wcAg7M-SPTK4G8&amp;s\"/></div></a></td></tr><tr><td><a href=\"/url?q=https://www.news18.com/india/chandrayaan-3-nearing-final-phase-isro-prepares-for-lunar-insertion-in-ambitious-mission-8419993.html&amp;sa=U&amp;ved=2ahUKEwicyOXM1LqAAxXebmwGHc6GARwQr4kDegQIAhAC&amp;usg=AOvVaw3mJpDzf3mUDV27ZIguuL8K\"><div class=\"jB2rPd\"> <span class=\"qXLe6d x3G5ab\"> <span class=\"fYyStc\">Chandrayaan-3 Completes 5th...</span> </span> <span class=\"qXLe6d F9iS2e\"> <span class=\"fYyStc\">www.news18.com</span> </span> </div></a></td></tr></table></div></div> </div> </div></td><td align=\"center\" class=\"e3goi\"><div class=\"mnTahd\"> <div> <div class=\"lIMUZd\"><div><table class=\"IkMU6e\"><tr><td><a href=\"/url?q=https://www.bbc.com/news/world-asia-india-66185565&amp;sa=U&amp;ved=2ahUKEwicyOXM1LqAAxXebmwGHc6GARwQqoUBegQIBRAB&amp;usg=AOvVaw3lKoKkMSu4iTKaWPgxKBai\"><div class=\"NZWO1b\"><img alt=\"\" class=\"yWs4tf\" src=\"https://encrypted-tbn0.gstatic.com/images?q=tbn:ANd9GcRGSUNutALz4HX43jjFTsSVZtR_5V-20vpZOYQb8hi6CCTmptyCow7uCyCmhZg&amp;s\"/></div></a></td></tr><tr><td><a href=\"/url?q=https://www.bbc.com/news/world-asia-india-66185565&amp;sa=U&amp;ved=2ahUKEwicyOXM1LqAAxXebmwGHc6GARwQr4kDegQIBRAC&amp;usg=AOvVaw0ibiIcvcHaEqculaBvIxxb\"><div class=\"jB2rPd\"> <span class=\"qXLe6d x3G5ab\"> <span class=\"fYyStc\">Chandrayaan-3: India's...</span> </span> <span class=\"qXLe6d F9iS2e\"> <span class=\"fYyStc\">www.bbc.com</span> </span> </div></a></td></tr></table></div></div> </div> </div></td><td align=\"center\" class=\"e3goi\"><div class=\"mnTahd\"> <div> <div class=\"lIMUZd\"><div><table class=\"IkMU6e\"><tr><td><a href=\"/url?q=https://www.ndtv.com/india-news/chandrayaan-3-isro-explained-chandrayaan-3s-prime-objectives-after-landing-on-the-moon-4209226&amp;sa=U&amp;ved=2ahUKEwicyOXM1LqAAxXebmwGHc6GARwQqoUBegQICBAB&amp;usg=AOvVaw1TgXMUGEdip42X5l39PSE2\"><div class=\"NZWO1b\"><img alt=\"\" class=\"yWs4tf\" src=\"https://encrypted-tbn0.gstatic.com/images?q=tbn:ANd9GcTjBgHU-Rjs6ud63c5IECSiE7r6FPGN10Kf4yfzB3ZIKk6rns6E0AL-QVLIfDI&amp;s\"/></div></a></td></tr><tr><td><a href=\"/url?q=https://www.ndtv.com/india-news/chandrayaan-3-isro-explained-chandrayaan-3s-prime-objectives-after-landing-on-the-moon-4209226&amp;sa=U&amp;ved=2ahUKEwicyOXM1LqAAxXebmwGHc6GARwQr4kDegQICBAC&amp;usg=AOvVaw2iGSLfF-umujCE7CUUajDq\"><div class=\"jB2rPd\"> <span class=\"qXLe6d x3G5ab\"> <span class=\"fYyStc\">Chandrayaan-3, ISRO:...</span> </span> <span class=\"qXLe6d F9iS2e\"> <span class=\"fYyStc\">www.ndtv.com</span> </span> </div></a></td></tr></table></div></div> </div> </div></td></tr><tr><td align=\"center\" class=\"e3goi\"><div class=\"mnTahd\"> <div> <div class=\"lIMUZd\"><div><table class=\"IkMU6e\"><tr><td><a href=\"/url?q=https://www.thehindubusinessline.com/news/science/chandrayaan-3-some-questions-and-answers/article67076727.ece&amp;sa=U&amp;ved=2ahUKEwicyOXM1LqAAxXebmwGHc6GARwQqoUBegQIBxAB&amp;usg=AOvVaw0D2mDyBSHED37s1OQOgL2Z\"><div class=\"NZWO1b\"><img alt=\"\" class=\"yWs4tf\" src=\"https://encrypted-tbn0.gstatic.com/images?q=tbn:ANd9GcSHQU_ZM4WkUhKT5_kqq696A9KJzovnuU3D2EzLoskQEZK6RJnC5tlMDMj-Vw&amp;s\"/></div></a></td></tr><tr><td><a href=\"/url?q=https://www.thehindubusinessline.com/news/science/chandrayaan-3-some-questions-and-answers/article67076727.ece&amp;sa=U&amp;ved=2ahUKEwicyOXM1LqAAxXebmwGHc6GARwQr4kDegQIBxAC&amp;usg=AOvVaw3-gcmHwGW4ekfzEuDwy66Q\"><div class=\"jB2rPd\"> <span class=\"qXLe6d x3G5ab\"> <span class=\"fYyStc\">Chandrayaan-3: Some...</span> </span> <span class=\"qXLe6d F9iS2e\"> <span class=\"fYyStc\">www.thehindubusinessline.co...</span> </span> </div></a></td></tr></table></div></div> </div> </div></td><td align=\"center\" class=\"e3goi\"><div class=\"mnTahd\"> <div> <div class=\"lIMUZd\"><div><table class=\"IkMU6e\"><tr><td><a href=\"/url?q=https://yourstory.com/2023/07/india-space-odyssey-chandrayaan-3-prepares-launch&amp;sa=U&amp;ved=2ahUKEwicyOXM1LqAAxXebmwGHc6GARwQqoUBegQIBBAB&amp;usg=AOvVaw1WHnO-GG-Ko-jYA4pCOigk\"><div class=\"NZWO1b\"><img alt=\"\" class=\"yWs4tf\" src=\"https://encrypted-tbn0.gstatic.com/images?q=tbn:ANd9GcQXt4o6pwEDE0bwmQhrdovXKOHAxbJM81jj_vIK-xWGo8hP5TyfRGZ0w8wiLg&amp;s\"/></div></a></td></tr><tr><td><a href=\"/url?q=https://yourstory.com/2023/07/india-space-odyssey-chandrayaan-3-prepares-launch&amp;sa=U&amp;ved=2ahUKEwicyOXM1LqAAxXebmwGHc6GARwQr4kDegQIBBAC&amp;usg=AOvVaw2ee_po2BrccuFArFArKEXn\"><div class=\"jB2rPd\"> <span class=\"qXLe6d x3G5ab\"> <span class=\"fYyStc\">Chandrayaan-3: ISRO's New...</span> </span> <span class=\"qXLe6d F9iS2e\"> <span class=\"fYyStc\">yourstory.com</span> </span> </div></a></td></tr></table></div></div> </div> </div></td><td align=\"center\" class=\"e3goi\"><div class=\"mnTahd\"> <div> <div class=\"lIMUZd\"><div><table class=\"IkMU6e\"><tr><td><a href=\"/url?q=https://en.janbharattimes.com/india-news/what-is-chandrayaan-3-launch-date-time-location-budget-objective-highlights&amp;sa=U&amp;ved=2ahUKEwicyOXM1LqAAxXebmwGHc6GARwQqoUBegQIABAB&amp;usg=AOvVaw2wnqNAXwhwRhwA0UCyEWc1\"><div class=\"NZWO1b\"><img alt=\"\" class=\"yWs4tf\" src=\"https://encrypted-tbn0.gstatic.com/images?q=tbn:ANd9GcRhOEHOIsjwkZ-tdmtTOPdECHOtGUW9VBOrhgzGyeocSqQWwfX4D7UdDmdUnbA&amp;s\"/></div></a></td></tr><tr><td><a href=\"/url?q=https://en.janbharattimes.com/india-news/what-is-chandrayaan-3-launch-date-time-location-budget-objective-highlights&amp;sa=U&amp;ved=2ahUKEwicyOXM1LqAAxXebmwGHc6GARwQr4kDegQIABAC&amp;usg=AOvVaw1QoVdJZ_sYH7C-BetIPqsC\"><div class=\"jB2rPd\"> <span class=\"qXLe6d x3G5ab\"> <span class=\"fYyStc\">Chandrayaan-3 Landing Date,...</span> </span> <span class=\"qXLe6d F9iS2e\"> <span class=\"fYyStc\">en.janbharattimes.com</span> </span> </div></a></td></tr></table></div></div> </div> </div></td><td align=\"center\" class=\"e3goi\"><div class=\"mnTahd\"> <div> <div class=\"lIMUZd\"><div><table class=\"IkMU6e\"><tr><td><a href=\"/url?q=https://theglobalhues.com/chandrayaan-3-objectives-launch-date-and-challenges/&amp;sa=U&amp;ved=2ahUKEwicyOXM1LqAAxXebmwGHc6GARwQqoUBegQIBhAB&amp;usg=AOvVaw3IISZc5fszz4lOnv9TS-Un\"><div class=\"NZWO1b\"><img alt=\"\" class=\"yWs4tf\" src=\"https://encrypted-tbn0.gstatic.com/images?q=tbn:ANd9GcRgchMGvXtGm67mfD9Lng5cCfhjDva0UeFU1e5Iuld7Ruv4SaPi528lgrqW6r8&amp;s\"/></div></a></td></tr><tr><td><a href=\"/url?q=https://theglobalhues.com/chandrayaan-3-objectives-launch-date-and-challenges/&amp;sa=U&amp;ved=2ahUKEwicyOXM1LqAAxXebmwGHc6GARwQr4kDegQIBhAC&amp;usg=AOvVaw109tBsFd7mrxRJVpdFPRYY\"><div class=\"jB2rPd\"> <span class=\"qXLe6d x3G5ab\"> <span class=\"fYyStc\">Chandrayaan-3: Objectives,...</span> </span> <span class=\"qXLe6d F9iS2e\"> <span class=\"fYyStc\">theglobalhues.com</span> </span> </div></a></td></tr></table></div></div> </div> </div></td></tr></table></div><table class=\"uZgmoc\"><tbody><td><a class=\"frGj1b\" href=\"/search?q=chandrayaan+3&amp;ie=UTF-8&amp;tbm=isch&amp;ei=Go_IZJzTK97dseMPzo2G4AE&amp;start=20&amp;sa=N\">Next &gt;</a></td></tbody></table><br/><div class=\"TuS8Ad\" data-ved=\"0ahUKEwicyOXM1LqAAxXebmwGHc6GARwQpyoIUg\"><style>.VYM29{font-weight:bold}</style><div align=\"center\" class=\"HddGcc\"><span class=\"VYM29\">New Vellanur, Tamil Nadu</span><span> - </span><span>From your IP address</span><span> - </span><a href=\"/url?q=https://support.google.com/websearch%3Fp%3Dws_settings_location%26hl%3Den-IN&amp;sa=U&amp;ved=0ahUKEwicyOXM1LqAAxXebmwGHc6GARwQty4IUw&amp;usg=AOvVaw362IA8Np9UWB1tt9VWv6ce\">Learn more</a></div><div align=\"center\"><a class=\"rEM8G\" href=\"/url?q=https://accounts.google.com/ServiceLogin%3Fcontinue%3Dhttps://www.google.com/search%253Fsxsrf%253DAB5stBgPlHeJQg7R2Dp9hkx0RwfvBnnhbw:1690783474862%2526q%253Dchandrayaan%252B3%2526tbm%253Disch%2526source%253Dlnms%2526sa%253DX%2526ved%253D2ahUKEwiF4qSjo7iAAxUTSGwGHRzNBxQQ0pQJegQICRAB%26hl%3Den&amp;sa=U&amp;ved=0ahUKEwicyOXM1LqAAxXebmwGHc6GARwQxs8CCFQ&amp;usg=AOvVaw0YXHBDYQNecybzPF_UfKCy\">Sign in</a></div><div><table class=\"bookcf\"><tbody class=\"InWNIe\"><tr><td><a class=\"rEM8G\" href=\"https://www.google.com/preferences?hl=en&amp;sa=X&amp;ved=0ahUKEwicyOXM1LqAAxXebmwGHc6GARwQv5YECFU\">Settings</a></td><td><a class=\"rEM8G\" href=\"https://www.google.com/intl/en_in/policies/privacy/\">Privacy</a></td><td><a class=\"rEM8G\" href=\"https://www.google.com/intl/en_in/policies/terms/\">Terms</a></td></tr></tbody></table></div></div><div> </div></body></html>"
      ]
     },
     "execution_count": 11,
     "metadata": {},
     "output_type": "execute_result"
    }
   ],
   "source": [
    "# BeautifulSoap get the html, xml inputs\n",
    "BeautifulSoup(response.content)"
   ]
  },
  {
   "cell_type": "code",
   "execution_count": 12,
   "id": "cfe7bbc3",
   "metadata": {},
   "outputs": [],
   "source": [
    "chandrayaan = BeautifulSoup(response.content,\"html.parser\")\n",
    "# Pass html"
   ]
  },
  {
   "cell_type": "code",
   "execution_count": 13,
   "id": "92b45ab1",
   "metadata": {},
   "outputs": [
    {
     "data": {
      "text/plain": [
       "<!DOCTYPE html PUBLIC \"-//WAPFORUM//DTD XHTML Mobile 1.0//EN\" \"http://www.wapforum.org/DTD/xhtml-mobile10.dtd\">\n",
       "<html lang=\"en-IN\" xmlns=\"http://www.w3.org/1999/xhtml\"><head><meta content=\"application/xhtml+xml; charset=utf-8\" http-equiv=\"Content-Type\"/><meta content=\"no-cache\" name=\"Cache-Control\"/><title>chandrayaan 3 - Google Search</title><style>a{text-decoration:none;color:inherit}a:hover{text-decoration:underline}a img{border:0}body{font-family:arial,sans-serif;padding:8px;margin:0 auto;max-width:700px;min-width:240px;}.FbhRzb{border-left:thin solid #dadce0;border-right:thin solid #dadce0;border-top:thin solid #dadce0;height:40px;overflow:hidden}.n692Zd{margin-bottom:10px}.cvifge{height:40px;border-spacing:0}.QvGUP{height:40px;padding:0 8px 0 8px;vertical-align:top}.O4cRJf{height:40px;width:100%;padding:0;padding-right:16px}.O1ePr{height:40px;padding:0;vertical-align:top}.kgJEQe{height:36px;width:98px;vertical-align:top;margin-top:4px}.lXLRf{vertical-align:top}.MhzMZd{border:0;vertical-align:middle;font-size:14px;height:40px;padding:0;width:100%;padding-left:16px}.xB0fq{height:40px;border:none;font-size:14px;background-color:#1a73e8;color:#fff;padding:0 16px;margin:0;vertical-align:top;cursor:pointer}.xB0fq:focus{border:1px solid #1a73e8}.M7pB2{border:thin solid #dadce0;margin:0 0 3px 0;font-size:13px;font-weight:500;height:40px}.euZec{width:100%;height:40px;text-align:center;border-spacing:0}table.euZec td{padding:0;width:25%}.QIqI7{display:inline-block;padding-top:4px;font-weight:bold;color:#4285f4}.EY24We{border-bottom:2px solid #4285f4}.CsQyDc{display:inline-block;color:#70757a}.TuS8Ad{font-size:14px}.HddGcc{padding:8px;color:#70757a}.dzp8ae{font-weight:bold;color:#3c4043}.rEM8G{color:#70757a}.bookcf{table-layout:fixed;width:100%;border-spacing:0}.InWNIe{text-align:center}.uZgmoc{border:thin solid #dadce0;color:#70757a;font-size:14px;text-align:center;table-layout:fixed;width:100%}.frGj1b{display:block;padding:12px 0 12px 0;width:100%}.BnJWBc{text-align:center;padding:6px 0 13px 0;height:35px}.e3goi{vertical-align:top;padding:0;height:180px}.GpQGbf{margin:auto;border-collapse:collapse;border-spacing:0;width:100%}</style></head><body><style>.X6ZCif{color:#202124;font-size:11px;line-height:16px;display:inline-block;padding-top:2px;overflow:hidden;padding-bottom:4px;width:100%}.TwVfHd{border-radius:16px;border:thin solid #dadce0;display:inline-block;padding:8px 8px;margin-right:8px;margin-bottom:4px}.yekiAe{background-color:#dadce0}.mnTahd{width:100%}.ezO2md{border:thin solid #dadce0;padding:12px 16px 12px 16px;margin-bottom:10px;font-family:arial,sans-serif}.lIMUZd{font-family:arial,sans-serif}.IkMU6e{border-spacing:0}.SjCsie{width:100%}.EnarA{text-align:center}.NZWO1b{width:162px;height:140px;line-height:140px;overflow:'hidden';text-align:center}.yWs4tf{text-align:center;margin:auto;vertical-align:middle;max-width:162px;max-height:140px}.jB2rPd{padding-top:2px;padding-bottom:8px;}.fYyStc{word-break:break-word}.ynsChf{display:block;white-space:nowrap;overflow:hidden;text-overflow:ellipsis}.Fj3V3b{color:#1967d2;font-size:14px;line-height:20px}.FrIlee{color:#202124;font-size:11px;line-height:16px}.F9iS2e{color:#70757a;font-size:11px;line-height:16px}.WMQ2Le{color:#70757a;font-size:12px;line-height:16px}.x3G5ab{color:#202124;font-size:12px;line-height:16px}.fuLhoc{color:#1967d2;font-size:16px;line-height:20px}.epoveb{font-size:24px;line-height:28px;font-weight:400;color:#202124}.dXDvrc{color:#0d652d;font-size:14px;line-height:20px;word-wrap:break-word}.dloBPe{font-weight:bold}.YVIcad{color:#70757a}.JkVVdd{color:#ea4335}.oXZRFd{color:#ea4335}.MQHtg{color:#fbbc04}.pyMRrb{color:#1e8e3e}.EtTZid{color:#1e8e3e}.M3vVJe{color:#1967d2}.qXLe6d{display:block}.NHQNef{font-style:italic}.Cb8Z7c{white-space:pre}a.ZWRArf{text-decoration:none}a .CVA68e:hover{text-decoration:underline}</style><div class=\"n692Zd\"><div class=\"BnJWBc\"><a class=\"lXLRf\" href=\"/?sa=X&amp;output=images&amp;ie=UTF-8&amp;tbm=isch&amp;ved=0ahUKEwicyOXM1LqAAxXebmwGHc6GARwQPAgC\"><img alt=\"Google\" class=\"kgJEQe\" src=\"/images/branding/searchlogo/1x/googlelogo_desk_heirloom_color_150x55dp.gif\"/></a></div><div class=\"FbhRzb\"><form action=\"/search\"><input name=\"ie\" type=\"hidden\" value=\"ISO-8859-1\"/><input name=\"tbm\" type=\"hidden\" value=\"isch\"/><input name=\"oq\" type=\"hidden\"/><input name=\"aqs\" type=\"hidden\"/><table class=\"cvifge\"><tr><td class=\"O4cRJf\"><input class=\"MhzMZd\" name=\"q\" type=\"text\" value=\"chandrayaan 3\"/></td><td class=\"O1ePr\"><input class=\"xB0fq\" type=\"submit\" value=\"Search\"/></td></tr></table></form></div><div class=\"M7pB2\"><table class=\"euZec\"><tbody><tr><td><a class=\"CsQyDc\" href=\"/search?q=chandrayaan+3&amp;ie=UTF-8&amp;source=lnms&amp;sa=X&amp;ved=0ahUKEwicyOXM1LqAAxXebmwGHc6GARwQ_AUIBCgA\">ALL</a></td><td><a class=\"CsQyDc\" href=\"/search?q=chandrayaan+3&amp;ie=UTF-8&amp;tbm=nws&amp;source=lnms&amp;sa=X&amp;ved=0ahUKEwicyOXM1LqAAxXebmwGHc6GARwQ_AUIBSgB\">NEWS</a></td><td class=\"EY24We\"><span class=\"QIqI7\">IMAGES</span></td><td><a class=\"CsQyDc\" href=\"/search?q=chandrayaan+3&amp;ie=UTF-8&amp;tbm=vid&amp;source=lnms&amp;sa=X&amp;ved=0ahUKEwicyOXM1LqAAxXebmwGHc6GARwQ_AUIBygD\">VIDEOS</a></td></tr></tbody></table></div></div><div class=\"X6ZCif\"><a class=\"TwVfHd\" href=\"/search?ie=UTF-8&amp;tbm=isch&amp;q=chandrayaan+3&amp;chips=q:chandrayaan+3,g_1:satellite&amp;sa=X&amp;ved=0ahUKEwicyOXM1LqAAxXebmwGHc6GARwQ4lYICygA\">satellite</a><a class=\"TwVfHd\" href=\"/search?ie=UTF-8&amp;tbm=isch&amp;q=chandrayaan+3&amp;chips=q:chandrayaan+3,g_1:rocket&amp;sa=X&amp;ved=0ahUKEwicyOXM1LqAAxXebmwGHc6GARwQ4lYIDCgB\">rocket</a><a class=\"TwVfHd\" href=\"/search?ie=UTF-8&amp;tbm=isch&amp;q=chandrayaan+3&amp;chips=q:chandrayaan+3,g_1:lander&amp;sa=X&amp;ved=0ahUKEwicyOXM1LqAAxXebmwGHc6GARwQ4lYIDSgC\">lander</a><a class=\"TwVfHd\" href=\"/search?ie=UTF-8&amp;tbm=isch&amp;q=chandrayaan+3&amp;chips=q:chandrayaan+3,g_1:rover&amp;sa=X&amp;ved=0ahUKEwicyOXM1LqAAxXebmwGHc6GARwQ4lYIDigD\">rover</a><a class=\"TwVfHd\" href=\"/search?ie=UTF-8&amp;tbm=isch&amp;q=chandrayaan+3&amp;chips=q:chandrayaan+3,g_1:information&amp;sa=X&amp;ved=0ahUKEwicyOXM1LqAAxXebmwGHc6GARwQ4lYIDygE\">information</a><a class=\"TwVfHd\" href=\"/search?ie=UTF-8&amp;tbm=isch&amp;q=chandrayaan+3&amp;chips=q:chandrayaan+3,g_1:orbiter&amp;sa=X&amp;ved=0ahUKEwicyOXM1LqAAxXebmwGHc6GARwQ4lYIECgF\">orbiter</a><a class=\"TwVfHd\" href=\"/search?ie=UTF-8&amp;tbm=isch&amp;q=chandrayaan+3&amp;chips=q:chandrayaan+3,g_1:india&amp;sa=X&amp;ved=0ahUKEwicyOXM1LqAAxXebmwGHc6GARwQ4lYIESgG\">india</a><a class=\"TwVfHd\" href=\"/search?ie=UTF-8&amp;tbm=isch&amp;q=chandrayaan+3&amp;chips=q:chandrayaan+3,g_1:launch+date&amp;sa=X&amp;ved=0ahUKEwicyOXM1LqAAxXebmwGHc6GARwQ4lYIEigH\">launch date</a><a class=\"TwVfHd\" href=\"/search?ie=UTF-8&amp;tbm=isch&amp;q=chandrayaan+3&amp;chips=q:chandrayaan+3,g_1:isro&amp;sa=X&amp;ved=0ahUKEwicyOXM1LqAAxXebmwGHc6GARwQ4lYIEygI\">isro</a><a class=\"TwVfHd\" href=\"/search?ie=UTF-8&amp;tbm=isch&amp;q=chandrayaan+3&amp;chips=q:chandrayaan+3,g_1:mission&amp;sa=X&amp;ved=0ahUKEwicyOXM1LqAAxXebmwGHc6GARwQ4lYIFCgJ\">mission</a></div><div><table class=\"GpQGbf\"><tr><td align=\"center\" class=\"e3goi\"><div class=\"mnTahd\"> <div> <div class=\"lIMUZd\"><div><table class=\"IkMU6e\"><tr><td><a href=\"/url?q=https://www.livemint.com/science/news/chandrayaan3-update-isro-set-for-crucial-maneuver-as-spacecraft-inches-closer-to-moon-11690793387890.html&amp;sa=U&amp;ved=2ahUKEwicyOXM1LqAAxXebmwGHc6GARwQqoUBegQIAxAB&amp;usg=AOvVaw2xPHCabhBe8ikx8dXY4z68\"><div class=\"NZWO1b\"><img alt=\"\" class=\"yWs4tf\" src=\"https://encrypted-tbn0.gstatic.com/images?q=tbn:ANd9GcSXh5_nQGzpa1YciAfTi94oilox64H8Twx3qPvHjoj4icI2BTENeqKXVPa9k1k&amp;s\"/></div></a></td></tr><tr><td><a href=\"/url?q=https://www.livemint.com/science/news/chandrayaan3-update-isro-set-for-crucial-maneuver-as-spacecraft-inches-closer-to-moon-11690793387890.html&amp;sa=U&amp;ved=2ahUKEwicyOXM1LqAAxXebmwGHc6GARwQr4kDegQIAxAC&amp;usg=AOvVaw0oKs5ZJPyz15vHwRJuB44p\"><div class=\"jB2rPd\"> <span class=\"qXLe6d x3G5ab\"> <span class=\"fYyStc\">Chandrayaan-3 update: ISRO...</span> </span> <span class=\"qXLe6d F9iS2e\"> <span class=\"fYyStc\">www.livemint.com</span> </span> </div></a></td></tr></table></div></div> </div> </div></td><td align=\"center\" class=\"e3goi\"><div class=\"mnTahd\"> <div> <div class=\"lIMUZd\"><div><table class=\"IkMU6e\"><tr><td><a href=\"/url?q=https://m.economictimes.com/news/science/chandrayaan-3-reaches-closer-to-moon-isro-successfully-performs-5th-orbit-raising-manoeuvre/videoshow/102113428.cms&amp;sa=U&amp;ved=2ahUKEwicyOXM1LqAAxXebmwGHc6GARwQqoUBegQIExAB&amp;usg=AOvVaw0c__t8OWo1h-U33Z7E3FUe\"><div class=\"NZWO1b\"><img alt=\"\" class=\"yWs4tf\" src=\"https://encrypted-tbn0.gstatic.com/images?q=tbn:ANd9GcS-7xL4WGyF36X3WehyizfdJ4XxadV3D_0ho5jekH71xKMjnmmxDtcKq3xung&amp;s\"/></div></a></td></tr><tr><td><a href=\"/url?q=https://m.economictimes.com/news/science/chandrayaan-3-reaches-closer-to-moon-isro-successfully-performs-5th-orbit-raising-manoeuvre/videoshow/102113428.cms&amp;sa=U&amp;ved=2ahUKEwicyOXM1LqAAxXebmwGHc6GARwQr4kDegQIExAC&amp;usg=AOvVaw3mnDrnLfIStVxHi_jvVNJa\"><div class=\"jB2rPd\"> <span class=\"qXLe6d x3G5ab\"> <span class=\"fYyStc\">Chandrayaan-3 Mission:...</span> </span> <span class=\"qXLe6d F9iS2e\"> <span class=\"fYyStc\">m.economictimes.com</span> </span> </div></a></td></tr></table></div></div> </div> </div></td><td align=\"center\" class=\"e3goi\"><div class=\"mnTahd\"> <div> <div class=\"lIMUZd\"><div><table class=\"IkMU6e\"><tr><td><a href=\"/url?q=https://www.youtube.com/watch%3Fv%3D89yhd4ONFbg&amp;sa=U&amp;ved=2ahUKEwicyOXM1LqAAxXebmwGHc6GARwQqoUBegQIEhAB&amp;usg=AOvVaw1AzWQl9fUCCV_gnz8Jqs8G\"><div class=\"NZWO1b\"><img alt=\"\" class=\"yWs4tf\" src=\"https://encrypted-tbn0.gstatic.com/images?q=tbn:ANd9GcTzggI4Va-HBOTd_uk0DkVyu81hnsVd0OpXl59fO-YSy1CXZmWxvVpNh0AS6g&amp;s\"/></div></a></td></tr><tr><td><a href=\"/url?q=https://www.youtube.com/watch%3Fv%3D89yhd4ONFbg&amp;sa=U&amp;ved=2ahUKEwicyOXM1LqAAxXebmwGHc6GARwQr4kDegQIEhAC&amp;usg=AOvVaw2fiOZ5PnIHnmL6FpGHDlsi\"><div class=\"jB2rPd\"> <span class=\"qXLe6d x3G5ab\"> <span class=\"fYyStc\">Chandrayaan-3 Launch LIVE:...</span> </span> <span class=\"qXLe6d F9iS2e\"> <span class=\"fYyStc\">www.youtube.com</span> </span> </div></a></td></tr></table></div></div> </div> </div></td><td align=\"center\" class=\"e3goi\"><div class=\"mnTahd\"> <div> <div class=\"lIMUZd\"><div><table class=\"IkMU6e\"><tr><td><a href=\"/url?q=https://www.aajtak.in/science/story/why-does-india-want-to-go-to-the-moon-for-the-third-time-know-isro-preparation-for-deep-space-mission-ssc-1744961-2023-07-27&amp;sa=U&amp;ved=2ahUKEwicyOXM1LqAAxXebmwGHc6GARwQqoUBegQIERAB&amp;usg=AOvVaw2aeqKz66__WmXtxT6WkGXS\"><div class=\"NZWO1b\"><img alt=\"\" class=\"yWs4tf\" src=\"https://encrypted-tbn0.gstatic.com/images?q=tbn:ANd9GcRhUFE-KhL5MlfsNmeqrAEc19lvg9mMzAXd2R0r57mcQqvLyxI3ss_unxUCBls&amp;s\"/></div></a></td></tr><tr><td><a href=\"/url?q=https://www.aajtak.in/science/story/why-does-india-want-to-go-to-the-moon-for-the-third-time-know-isro-preparation-for-deep-space-mission-ssc-1744961-2023-07-27&amp;sa=U&amp;ved=2ahUKEwicyOXM1LqAAxXebmwGHc6GARwQr4kDegQIERAC&amp;usg=AOvVaw1VpWmGHZ4640g0A_qJQPbU\"><div class=\"jB2rPd\"> <span class=\"qXLe6d x3G5ab\"> <span class=\"fYyStc\">Chandrayaan-3: भारत तीसरी...</span> </span> <span class=\"qXLe6d F9iS2e\"> <span class=\"fYyStc\">www.aajtak.in</span> </span> </div></a></td></tr></table></div></div> </div> </div></td></tr><tr><td align=\"center\" class=\"e3goi\"><div class=\"mnTahd\"> <div> <div class=\"lIMUZd\"><div><table class=\"IkMU6e\"><tr><td><a href=\"/url?q=https://www.livemint.com/news/india/isro-injects-chandrayaan-3-into-translunar-orbit-nasa-isro-august-5-spacecraft-istrac-11690856143141.html&amp;sa=U&amp;ved=2ahUKEwicyOXM1LqAAxXebmwGHc6GARwQqoUBegQIDxAB&amp;usg=AOvVaw0c81340zunpO2FVpi54vOr\"><div class=\"NZWO1b\"><img alt=\"\" class=\"yWs4tf\" src=\"https://encrypted-tbn0.gstatic.com/images?q=tbn:ANd9GcQ9bKxTymHDFigFiKC05JBy5nptalaJ4H4uxWYCGj1YgAbePmDaWtjYsTCK7g&amp;s\"/></div></a></td></tr><tr><td><a href=\"/url?q=https://www.livemint.com/news/india/isro-injects-chandrayaan-3-into-translunar-orbit-nasa-isro-august-5-spacecraft-istrac-11690856143141.html&amp;sa=U&amp;ved=2ahUKEwicyOXM1LqAAxXebmwGHc6GARwQr4kDegQIDxAC&amp;usg=AOvVaw2riHRGxkm_ZtJiI7-ZIEf7\"><div class=\"jB2rPd\"> <span class=\"qXLe6d x3G5ab\"> <span class=\"fYyStc\">ISRO injects Chandrayaan-3...</span> </span> <span class=\"qXLe6d F9iS2e\"> <span class=\"fYyStc\">www.livemint.com</span> </span> </div></a></td></tr></table></div></div> </div> </div></td><td align=\"center\" class=\"e3goi\"><div class=\"mnTahd\"> <div> <div class=\"lIMUZd\"><div><table class=\"IkMU6e\"><tr><td><a href=\"/url?q=https://www.indiatoday.in/science/story/chandrayaan-3-mission-update-whats-next-for-indias-lunar-mission-in-space-2411958-2023-07-26&amp;sa=U&amp;ved=2ahUKEwicyOXM1LqAAxXebmwGHc6GARwQqoUBegQIDhAB&amp;usg=AOvVaw2DCDdXZbBIw9jFi5axJr3A\"><div class=\"NZWO1b\"><img alt=\"\" class=\"yWs4tf\" src=\"https://encrypted-tbn0.gstatic.com/images?q=tbn:ANd9GcTvD_O8C9ZAT7N58l1ggEeSgOntEe55cSLsRdK210XkId801JTG3Ep06HxZjsM&amp;s\"/></div></a></td></tr><tr><td><a href=\"/url?q=https://www.indiatoday.in/science/story/chandrayaan-3-mission-update-whats-next-for-indias-lunar-mission-in-space-2411958-2023-07-26&amp;sa=U&amp;ved=2ahUKEwicyOXM1LqAAxXebmwGHc6GARwQr4kDegQIDhAC&amp;usg=AOvVaw0xijjHpcCDd6BktHTjWYie\"><div class=\"jB2rPd\"> <span class=\"qXLe6d x3G5ab\"> <span class=\"fYyStc\">Chandrayaan-3 update:...</span> </span> <span class=\"qXLe6d F9iS2e\"> <span class=\"fYyStc\">www.indiatoday.in</span> </span> </div></a></td></tr></table></div></div> </div> </div></td><td align=\"center\" class=\"e3goi\"><div class=\"mnTahd\"> <div> <div class=\"lIMUZd\"><div><table class=\"IkMU6e\"><tr><td><a href=\"/url?q=https://www.wionews.com/web-stories/india-news/business-economy/chandrayaan3-what-you-should-know-about-indias-moon-mission-1688377995659&amp;sa=U&amp;ved=2ahUKEwicyOXM1LqAAxXebmwGHc6GARwQqoUBegQIDRAB&amp;usg=AOvVaw2XBRqQJC3l0VI0wX3dpuAD\"><div class=\"NZWO1b\"><img alt=\"\" class=\"yWs4tf\" src=\"https://encrypted-tbn0.gstatic.com/images?q=tbn:ANd9GcQsXdaPUm5KoXBhzqifRQn45SG5mEb1Uvp8PZW1I_e4O0GkVi5b0_SSLIvhwg&amp;s\"/></div></a></td></tr><tr><td><a href=\"/url?q=https://www.wionews.com/web-stories/india-news/business-economy/chandrayaan3-what-you-should-know-about-indias-moon-mission-1688377995659&amp;sa=U&amp;ved=2ahUKEwicyOXM1LqAAxXebmwGHc6GARwQr4kDegQIDRAC&amp;usg=AOvVaw3psgXfWxWftb0ZcQ_t0OhT\"><div class=\"jB2rPd\"> <span class=\"qXLe6d x3G5ab\"> <span class=\"fYyStc\">Chandrayaan-3: What You...</span> </span> <span class=\"qXLe6d F9iS2e\"> <span class=\"fYyStc\">www.wionews.com</span> </span> </div></a></td></tr></table></div></div> </div> </div></td><td align=\"center\" class=\"e3goi\"><div class=\"mnTahd\"> <div> <div class=\"lIMUZd\"><div><table class=\"IkMU6e\"><tr><td><a href=\"/url?q=https://www.aljazeera.com/news/2023/7/14/chandrayaan-3-india-launches-rocket-to-land-spacecraft-on-moon&amp;sa=U&amp;ved=2ahUKEwicyOXM1LqAAxXebmwGHc6GARwQqoUBegQIEBAB&amp;usg=AOvVaw2acE9hzQ1IL4mOjTGiE5fj\"><div class=\"NZWO1b\"><img alt=\"\" class=\"yWs4tf\" src=\"https://encrypted-tbn0.gstatic.com/images?q=tbn:ANd9GcS6Ma3G81mbTrQnHVU28J2Nx4is-d2s3E33xpfp7P8beg_M3SbI7TYRaFn0nRc&amp;s\"/></div></a></td></tr><tr><td><a href=\"/url?q=https://www.aljazeera.com/news/2023/7/14/chandrayaan-3-india-launches-rocket-to-land-spacecraft-on-moon&amp;sa=U&amp;ved=2ahUKEwicyOXM1LqAAxXebmwGHc6GARwQr4kDegQIEBAC&amp;usg=AOvVaw0kme-uXOJfu7Ok53_hfq7m\"><div class=\"jB2rPd\"> <span class=\"qXLe6d x3G5ab\"> <span class=\"fYyStc\">Chandrayaan-3: India...</span> </span> <span class=\"qXLe6d F9iS2e\"> <span class=\"fYyStc\">www.aljazeera.com</span> </span> </div></a></td></tr></table></div></div> </div> </div></td></tr><tr><td align=\"center\" class=\"e3goi\"><div class=\"mnTahd\"> <div> <div class=\"lIMUZd\"><div><table class=\"IkMU6e\"><tr><td><a href=\"/url?q=https://www.hindustantimes.com/technology/chandrayaan3-completes-final-earth-orbit-raising-manoeuvre-101690277600083.html&amp;sa=U&amp;ved=2ahUKEwicyOXM1LqAAxXebmwGHc6GARwQqoUBegQIDBAB&amp;usg=AOvVaw3Z1nqkcmnbbOdOMP8tYsYj\"><div class=\"NZWO1b\"><img alt=\"\" class=\"yWs4tf\" src=\"https://encrypted-tbn0.gstatic.com/images?q=tbn:ANd9GcR1Wd2QkX2frLO4-jHnhZuu_ZByX_DJ6-ZizlzhVTIBO2gXEs2NfpMu_oI7XFw&amp;s\"/></div></a></td></tr><tr><td><a href=\"/url?q=https://www.hindustantimes.com/technology/chandrayaan3-completes-final-earth-orbit-raising-manoeuvre-101690277600083.html&amp;sa=U&amp;ved=2ahUKEwicyOXM1LqAAxXebmwGHc6GARwQr4kDegQIDBAC&amp;usg=AOvVaw3pnMB31ySK-8cc6HwKUApx\"><div class=\"jB2rPd\"> <span class=\"qXLe6d x3G5ab\"> <span class=\"fYyStc\">Chandrayaan-3 successfully...</span> </span> <span class=\"qXLe6d F9iS2e\"> <span class=\"fYyStc\">www.hindustantimes.com</span> </span> </div></a></td></tr></table></div></div> </div> </div></td><td align=\"center\" class=\"e3goi\"><div class=\"mnTahd\"> <div> <div class=\"lIMUZd\"><div><table class=\"IkMU6e\"><tr><td><a href=\"/url?q=https://www.indiatoday.in/science/chandrayaan-3/story/chandrayaan-3-update-isro-to-raise-orbit-of-lunar-mission-for-5th-time-today-2411383-2023-07-25&amp;sa=U&amp;ved=2ahUKEwicyOXM1LqAAxXebmwGHc6GARwQqoUBegQIChAB&amp;usg=AOvVaw0oUCiIVpM9hc93vFJIVuEb\"><div class=\"NZWO1b\"><img alt=\"\" class=\"yWs4tf\" src=\"https://encrypted-tbn0.gstatic.com/images?q=tbn:ANd9GcThsLjoWTJHaIF3YnpvdUI2KpMM1hsIvXX-qJUfF13bXqonc9MruKPHADvcRFk&amp;s\"/></div></a></td></tr><tr><td><a href=\"/url?q=https://www.indiatoday.in/science/chandrayaan-3/story/chandrayaan-3-update-isro-to-raise-orbit-of-lunar-mission-for-5th-time-today-2411383-2023-07-25&amp;sa=U&amp;ved=2ahUKEwicyOXM1LqAAxXebmwGHc6GARwQr4kDegQIChAC&amp;usg=AOvVaw2RD2-g9gYSA2mWxqGi_89z\"><div class=\"jB2rPd\"> <span class=\"qXLe6d x3G5ab\"> <span class=\"fYyStc\">Chandrayaan-3 mission...</span> </span> <span class=\"qXLe6d F9iS2e\"> <span class=\"fYyStc\">www.indiatoday.in</span> </span> </div></a></td></tr></table></div></div> </div> </div></td><td align=\"center\" class=\"e3goi\"><div class=\"mnTahd\"> <div> <div class=\"lIMUZd\"><div><table class=\"IkMU6e\"><tr><td><a href=\"/url?q=https://www.outlookindia.com/national/chandrayaan-3-launch-isro-india-mission-to-south-pole-of-the-moon-news-302704&amp;sa=U&amp;ved=2ahUKEwicyOXM1LqAAxXebmwGHc6GARwQqoUBegQICxAB&amp;usg=AOvVaw1cIcQbwtku5wadcHQILACl\"><div class=\"NZWO1b\"><img alt=\"\" class=\"yWs4tf\" src=\"https://encrypted-tbn0.gstatic.com/images?q=tbn:ANd9GcSjDlyc8BuQbeLlq0tmELdAfx2bjOXKN-giJZyCmjjVkYtGauRtq-vQV9n3moQ&amp;s\"/></div></a></td></tr><tr><td><a href=\"/url?q=https://www.outlookindia.com/national/chandrayaan-3-launch-isro-india-mission-to-south-pole-of-the-moon-news-302704&amp;sa=U&amp;ved=2ahUKEwicyOXM1LqAAxXebmwGHc6GARwQr4kDegQICxAC&amp;usg=AOvVaw2LxdLHEnEl7Y58egr0Cw0s\"><div class=\"jB2rPd\"> <span class=\"qXLe6d x3G5ab\"> <span class=\"fYyStc\">Chandrayaan-3 Launch:...</span> </span> <span class=\"qXLe6d F9iS2e\"> <span class=\"fYyStc\">www.outlookindia.com</span> </span> </div></a></td></tr></table></div></div> </div> </div></td><td align=\"center\" class=\"e3goi\"><div class=\"mnTahd\"> <div> <div class=\"lIMUZd\"><div><table class=\"IkMU6e\"><tr><td><a href=\"/url?q=https://www.thehindu.com/sci-tech/science/isro-chandrayaan-3-mission-timeline/article67063771.ece&amp;sa=U&amp;ved=2ahUKEwicyOXM1LqAAxXebmwGHc6GARwQqoUBegQICRAB&amp;usg=AOvVaw30OlzzeaG6D-Bx3azEkbiN\"><div class=\"NZWO1b\"><img alt=\"\" class=\"yWs4tf\" src=\"https://encrypted-tbn0.gstatic.com/images?q=tbn:ANd9GcSsZrwZlorAaeBLqQINH1a-15bM9eHq_XTTdfxqWXL7h5M8PlycepLanVO6AQ&amp;s\"/></div></a></td></tr><tr><td><a href=\"/url?q=https://www.thehindu.com/sci-tech/science/isro-chandrayaan-3-mission-timeline/article67063771.ece&amp;sa=U&amp;ved=2ahUKEwicyOXM1LqAAxXebmwGHc6GARwQr4kDegQICRAC&amp;usg=AOvVaw1rPglWFf75eGTPgPanh8p-\"><div class=\"jB2rPd\"> <span class=\"qXLe6d x3G5ab\"> <span class=\"fYyStc\">What to expect from ISRO's...</span> </span> <span class=\"qXLe6d F9iS2e\"> <span class=\"fYyStc\">www.thehindu.com</span> </span> </div></a></td></tr></table></div></div> </div> </div></td></tr><tr><td align=\"center\" class=\"e3goi\"><div class=\"mnTahd\"> <div> <div class=\"lIMUZd\"><div><table class=\"IkMU6e\"><tr><td><a href=\"/url?q=https://www.thehindu.com/news/national/isro-third-moon-mission-chandrayaan-3-package/article67079189.ece&amp;sa=U&amp;ved=2ahUKEwicyOXM1LqAAxXebmwGHc6GARwQqoUBegQIARAB&amp;usg=AOvVaw0GmWabNFSqy_-pF2VR82VV\"><div class=\"NZWO1b\"><img alt=\"\" class=\"yWs4tf\" src=\"https://encrypted-tbn0.gstatic.com/images?q=tbn:ANd9GcQbNuC2EdRiLYM3ddKITwf-OmHw7RHVIn9HL6-wyczZZSfdM0gtvKvE_HNn&amp;s\"/></div></a></td></tr><tr><td><a href=\"/url?q=https://www.thehindu.com/news/national/isro-third-moon-mission-chandrayaan-3-package/article67079189.ece&amp;sa=U&amp;ved=2ahUKEwicyOXM1LqAAxXebmwGHc6GARwQr4kDegQIARAC&amp;usg=AOvVaw2RM-SEkBRDYzRY3IE6_Szz\"><div class=\"jB2rPd\"> <span class=\"qXLe6d x3G5ab\"> <span class=\"fYyStc\">Chandrayaan-3 | All you...</span> </span> <span class=\"qXLe6d F9iS2e\"> <span class=\"fYyStc\">www.thehindu.com</span> </span> </div></a></td></tr></table></div></div> </div> </div></td><td align=\"center\" class=\"e3goi\"><div class=\"mnTahd\"> <div> <div class=\"lIMUZd\"><div><table class=\"IkMU6e\"><tr><td><a href=\"/url?q=https://www.news18.com/india/chandrayaan-3-nearing-final-phase-isro-prepares-for-lunar-insertion-in-ambitious-mission-8419993.html&amp;sa=U&amp;ved=2ahUKEwicyOXM1LqAAxXebmwGHc6GARwQqoUBegQIAhAB&amp;usg=AOvVaw23H6z0u9HbVpoyxZMQw3NW\"><div class=\"NZWO1b\"><img alt=\"\" class=\"yWs4tf\" src=\"https://encrypted-tbn0.gstatic.com/images?q=tbn:ANd9GcRRzV2BWvo-L6JASJjhj6tP0uc37hr7Oyh_p2gf1ebC3XlD8wcAg7M-SPTK4G8&amp;s\"/></div></a></td></tr><tr><td><a href=\"/url?q=https://www.news18.com/india/chandrayaan-3-nearing-final-phase-isro-prepares-for-lunar-insertion-in-ambitious-mission-8419993.html&amp;sa=U&amp;ved=2ahUKEwicyOXM1LqAAxXebmwGHc6GARwQr4kDegQIAhAC&amp;usg=AOvVaw3mJpDzf3mUDV27ZIguuL8K\"><div class=\"jB2rPd\"> <span class=\"qXLe6d x3G5ab\"> <span class=\"fYyStc\">Chandrayaan-3 Completes 5th...</span> </span> <span class=\"qXLe6d F9iS2e\"> <span class=\"fYyStc\">www.news18.com</span> </span> </div></a></td></tr></table></div></div> </div> </div></td><td align=\"center\" class=\"e3goi\"><div class=\"mnTahd\"> <div> <div class=\"lIMUZd\"><div><table class=\"IkMU6e\"><tr><td><a href=\"/url?q=https://www.bbc.com/news/world-asia-india-66185565&amp;sa=U&amp;ved=2ahUKEwicyOXM1LqAAxXebmwGHc6GARwQqoUBegQIBRAB&amp;usg=AOvVaw3lKoKkMSu4iTKaWPgxKBai\"><div class=\"NZWO1b\"><img alt=\"\" class=\"yWs4tf\" src=\"https://encrypted-tbn0.gstatic.com/images?q=tbn:ANd9GcRGSUNutALz4HX43jjFTsSVZtR_5V-20vpZOYQb8hi6CCTmptyCow7uCyCmhZg&amp;s\"/></div></a></td></tr><tr><td><a href=\"/url?q=https://www.bbc.com/news/world-asia-india-66185565&amp;sa=U&amp;ved=2ahUKEwicyOXM1LqAAxXebmwGHc6GARwQr4kDegQIBRAC&amp;usg=AOvVaw0ibiIcvcHaEqculaBvIxxb\"><div class=\"jB2rPd\"> <span class=\"qXLe6d x3G5ab\"> <span class=\"fYyStc\">Chandrayaan-3: India's...</span> </span> <span class=\"qXLe6d F9iS2e\"> <span class=\"fYyStc\">www.bbc.com</span> </span> </div></a></td></tr></table></div></div> </div> </div></td><td align=\"center\" class=\"e3goi\"><div class=\"mnTahd\"> <div> <div class=\"lIMUZd\"><div><table class=\"IkMU6e\"><tr><td><a href=\"/url?q=https://www.ndtv.com/india-news/chandrayaan-3-isro-explained-chandrayaan-3s-prime-objectives-after-landing-on-the-moon-4209226&amp;sa=U&amp;ved=2ahUKEwicyOXM1LqAAxXebmwGHc6GARwQqoUBegQICBAB&amp;usg=AOvVaw1TgXMUGEdip42X5l39PSE2\"><div class=\"NZWO1b\"><img alt=\"\" class=\"yWs4tf\" src=\"https://encrypted-tbn0.gstatic.com/images?q=tbn:ANd9GcTjBgHU-Rjs6ud63c5IECSiE7r6FPGN10Kf4yfzB3ZIKk6rns6E0AL-QVLIfDI&amp;s\"/></div></a></td></tr><tr><td><a href=\"/url?q=https://www.ndtv.com/india-news/chandrayaan-3-isro-explained-chandrayaan-3s-prime-objectives-after-landing-on-the-moon-4209226&amp;sa=U&amp;ved=2ahUKEwicyOXM1LqAAxXebmwGHc6GARwQr4kDegQICBAC&amp;usg=AOvVaw2iGSLfF-umujCE7CUUajDq\"><div class=\"jB2rPd\"> <span class=\"qXLe6d x3G5ab\"> <span class=\"fYyStc\">Chandrayaan-3, ISRO:...</span> </span> <span class=\"qXLe6d F9iS2e\"> <span class=\"fYyStc\">www.ndtv.com</span> </span> </div></a></td></tr></table></div></div> </div> </div></td></tr><tr><td align=\"center\" class=\"e3goi\"><div class=\"mnTahd\"> <div> <div class=\"lIMUZd\"><div><table class=\"IkMU6e\"><tr><td><a href=\"/url?q=https://www.thehindubusinessline.com/news/science/chandrayaan-3-some-questions-and-answers/article67076727.ece&amp;sa=U&amp;ved=2ahUKEwicyOXM1LqAAxXebmwGHc6GARwQqoUBegQIBxAB&amp;usg=AOvVaw0D2mDyBSHED37s1OQOgL2Z\"><div class=\"NZWO1b\"><img alt=\"\" class=\"yWs4tf\" src=\"https://encrypted-tbn0.gstatic.com/images?q=tbn:ANd9GcSHQU_ZM4WkUhKT5_kqq696A9KJzovnuU3D2EzLoskQEZK6RJnC5tlMDMj-Vw&amp;s\"/></div></a></td></tr><tr><td><a href=\"/url?q=https://www.thehindubusinessline.com/news/science/chandrayaan-3-some-questions-and-answers/article67076727.ece&amp;sa=U&amp;ved=2ahUKEwicyOXM1LqAAxXebmwGHc6GARwQr4kDegQIBxAC&amp;usg=AOvVaw3-gcmHwGW4ekfzEuDwy66Q\"><div class=\"jB2rPd\"> <span class=\"qXLe6d x3G5ab\"> <span class=\"fYyStc\">Chandrayaan-3: Some...</span> </span> <span class=\"qXLe6d F9iS2e\"> <span class=\"fYyStc\">www.thehindubusinessline.co...</span> </span> </div></a></td></tr></table></div></div> </div> </div></td><td align=\"center\" class=\"e3goi\"><div class=\"mnTahd\"> <div> <div class=\"lIMUZd\"><div><table class=\"IkMU6e\"><tr><td><a href=\"/url?q=https://yourstory.com/2023/07/india-space-odyssey-chandrayaan-3-prepares-launch&amp;sa=U&amp;ved=2ahUKEwicyOXM1LqAAxXebmwGHc6GARwQqoUBegQIBBAB&amp;usg=AOvVaw1WHnO-GG-Ko-jYA4pCOigk\"><div class=\"NZWO1b\"><img alt=\"\" class=\"yWs4tf\" src=\"https://encrypted-tbn0.gstatic.com/images?q=tbn:ANd9GcQXt4o6pwEDE0bwmQhrdovXKOHAxbJM81jj_vIK-xWGo8hP5TyfRGZ0w8wiLg&amp;s\"/></div></a></td></tr><tr><td><a href=\"/url?q=https://yourstory.com/2023/07/india-space-odyssey-chandrayaan-3-prepares-launch&amp;sa=U&amp;ved=2ahUKEwicyOXM1LqAAxXebmwGHc6GARwQr4kDegQIBBAC&amp;usg=AOvVaw2ee_po2BrccuFArFArKEXn\"><div class=\"jB2rPd\"> <span class=\"qXLe6d x3G5ab\"> <span class=\"fYyStc\">Chandrayaan-3: ISRO's New...</span> </span> <span class=\"qXLe6d F9iS2e\"> <span class=\"fYyStc\">yourstory.com</span> </span> </div></a></td></tr></table></div></div> </div> </div></td><td align=\"center\" class=\"e3goi\"><div class=\"mnTahd\"> <div> <div class=\"lIMUZd\"><div><table class=\"IkMU6e\"><tr><td><a href=\"/url?q=https://en.janbharattimes.com/india-news/what-is-chandrayaan-3-launch-date-time-location-budget-objective-highlights&amp;sa=U&amp;ved=2ahUKEwicyOXM1LqAAxXebmwGHc6GARwQqoUBegQIABAB&amp;usg=AOvVaw2wnqNAXwhwRhwA0UCyEWc1\"><div class=\"NZWO1b\"><img alt=\"\" class=\"yWs4tf\" src=\"https://encrypted-tbn0.gstatic.com/images?q=tbn:ANd9GcRhOEHOIsjwkZ-tdmtTOPdECHOtGUW9VBOrhgzGyeocSqQWwfX4D7UdDmdUnbA&amp;s\"/></div></a></td></tr><tr><td><a href=\"/url?q=https://en.janbharattimes.com/india-news/what-is-chandrayaan-3-launch-date-time-location-budget-objective-highlights&amp;sa=U&amp;ved=2ahUKEwicyOXM1LqAAxXebmwGHc6GARwQr4kDegQIABAC&amp;usg=AOvVaw1QoVdJZ_sYH7C-BetIPqsC\"><div class=\"jB2rPd\"> <span class=\"qXLe6d x3G5ab\"> <span class=\"fYyStc\">Chandrayaan-3 Landing Date,...</span> </span> <span class=\"qXLe6d F9iS2e\"> <span class=\"fYyStc\">en.janbharattimes.com</span> </span> </div></a></td></tr></table></div></div> </div> </div></td><td align=\"center\" class=\"e3goi\"><div class=\"mnTahd\"> <div> <div class=\"lIMUZd\"><div><table class=\"IkMU6e\"><tr><td><a href=\"/url?q=https://theglobalhues.com/chandrayaan-3-objectives-launch-date-and-challenges/&amp;sa=U&amp;ved=2ahUKEwicyOXM1LqAAxXebmwGHc6GARwQqoUBegQIBhAB&amp;usg=AOvVaw3IISZc5fszz4lOnv9TS-Un\"><div class=\"NZWO1b\"><img alt=\"\" class=\"yWs4tf\" src=\"https://encrypted-tbn0.gstatic.com/images?q=tbn:ANd9GcRgchMGvXtGm67mfD9Lng5cCfhjDva0UeFU1e5Iuld7Ruv4SaPi528lgrqW6r8&amp;s\"/></div></a></td></tr><tr><td><a href=\"/url?q=https://theglobalhues.com/chandrayaan-3-objectives-launch-date-and-challenges/&amp;sa=U&amp;ved=2ahUKEwicyOXM1LqAAxXebmwGHc6GARwQr4kDegQIBhAC&amp;usg=AOvVaw109tBsFd7mrxRJVpdFPRYY\"><div class=\"jB2rPd\"> <span class=\"qXLe6d x3G5ab\"> <span class=\"fYyStc\">Chandrayaan-3: Objectives,...</span> </span> <span class=\"qXLe6d F9iS2e\"> <span class=\"fYyStc\">theglobalhues.com</span> </span> </div></a></td></tr></table></div></div> </div> </div></td></tr></table></div><table class=\"uZgmoc\"><tbody><td><a class=\"frGj1b\" href=\"/search?q=chandrayaan+3&amp;ie=UTF-8&amp;tbm=isch&amp;ei=Go_IZJzTK97dseMPzo2G4AE&amp;start=20&amp;sa=N\">Next &gt;</a></td></tbody></table><br/><div class=\"TuS8Ad\" data-ved=\"0ahUKEwicyOXM1LqAAxXebmwGHc6GARwQpyoIUg\"><style>.VYM29{font-weight:bold}</style><div align=\"center\" class=\"HddGcc\"><span class=\"VYM29\">New Vellanur, Tamil Nadu</span><span> - </span><span>From your IP address</span><span> - </span><a href=\"/url?q=https://support.google.com/websearch%3Fp%3Dws_settings_location%26hl%3Den-IN&amp;sa=U&amp;ved=0ahUKEwicyOXM1LqAAxXebmwGHc6GARwQty4IUw&amp;usg=AOvVaw362IA8Np9UWB1tt9VWv6ce\">Learn more</a></div><div align=\"center\"><a class=\"rEM8G\" href=\"/url?q=https://accounts.google.com/ServiceLogin%3Fcontinue%3Dhttps://www.google.com/search%253Fsxsrf%253DAB5stBgPlHeJQg7R2Dp9hkx0RwfvBnnhbw:1690783474862%2526q%253Dchandrayaan%252B3%2526tbm%253Disch%2526source%253Dlnms%2526sa%253DX%2526ved%253D2ahUKEwiF4qSjo7iAAxUTSGwGHRzNBxQQ0pQJegQICRAB%26hl%3Den&amp;sa=U&amp;ved=0ahUKEwicyOXM1LqAAxXebmwGHc6GARwQxs8CCFQ&amp;usg=AOvVaw0YXHBDYQNecybzPF_UfKCy\">Sign in</a></div><div><table class=\"bookcf\"><tbody class=\"InWNIe\"><tr><td><a class=\"rEM8G\" href=\"https://www.google.com/preferences?hl=en&amp;sa=X&amp;ved=0ahUKEwicyOXM1LqAAxXebmwGHc6GARwQv5YECFU\">Settings</a></td><td><a class=\"rEM8G\" href=\"https://www.google.com/intl/en_in/policies/privacy/\">Privacy</a></td><td><a class=\"rEM8G\" href=\"https://www.google.com/intl/en_in/policies/terms/\">Terms</a></td></tr></tbody></table></div></div><div> </div></body></html>"
      ]
     },
     "execution_count": 13,
     "metadata": {},
     "output_type": "execute_result"
    }
   ],
   "source": [
    "chandrayaan"
   ]
  },
  {
   "cell_type": "code",
   "execution_count": 14,
   "id": "8f221192",
   "metadata": {},
   "outputs": [],
   "source": [
    "chandrayaan_tags = chandrayaan.find_all(\"img\")"
   ]
  },
  {
   "cell_type": "code",
   "execution_count": 26,
   "id": "5e44b3ac",
   "metadata": {},
   "outputs": [
    {
     "data": {
      "text/plain": [
       "[<img alt=\"Google\" class=\"kgJEQe\" src=\"/images/branding/searchlogo/1x/googlelogo_desk_heirloom_color_150x55dp.gif\"/>,\n",
       " <img alt=\"\" class=\"yWs4tf\" src=\"https://encrypted-tbn0.gstatic.com/images?q=tbn:ANd9GcRhUFE-KhL5MlfsNmeqrAEc19lvg9mMzAXd2R0r57mcQqvLyxI3ss_unxUCBls&amp;s\"/>,\n",
       " <img alt=\"\" class=\"yWs4tf\" src=\"https://encrypted-tbn0.gstatic.com/images?q=tbn:ANd9GcS-7xL4WGyF36X3WehyizfdJ4XxadV3D_0ho5jekH71xKMjnmmxDtcKq3xung&amp;s\"/>,\n",
       " <img alt=\"\" class=\"yWs4tf\" src=\"https://encrypted-tbn0.gstatic.com/images?q=tbn:ANd9GcSFprw8t-q16jMvhNp-czp2bJ64OtS2QaelaZkgTM0nE9SaH3SwLUpKtDwJrKw&amp;s\"/>,\n",
       " <img alt=\"\" class=\"yWs4tf\" src=\"https://encrypted-tbn0.gstatic.com/images?q=tbn:ANd9GcTzggI4Va-HBOTd_uk0DkVyu81hnsVd0OpXl59fO-YSy1CXZmWxvVpNh0AS6g&amp;s\"/>,\n",
       " <img alt=\"\" class=\"yWs4tf\" src=\"https://encrypted-tbn0.gstatic.com/images?q=tbn:ANd9GcRRzV2BWvo-L6JASJjhj6tP0uc37hr7Oyh_p2gf1ebC3XlD8wcAg7M-SPTK4G8&amp;s\"/>,\n",
       " <img alt=\"\" class=\"yWs4tf\" src=\"https://encrypted-tbn0.gstatic.com/images?q=tbn:ANd9GcS6Ma3G81mbTrQnHVU28J2Nx4is-d2s3E33xpfp7P8beg_M3SbI7TYRaFn0nRc&amp;s\"/>,\n",
       " <img alt=\"\" class=\"yWs4tf\" src=\"https://encrypted-tbn0.gstatic.com/images?q=tbn:ANd9GcTvLXegWyRhrjAsbQLQ2YQT87MH9hr52a9YsbXbBO9ybBtLG__w42pFu-lauW4&amp;s\"/>,\n",
       " <img alt=\"\" class=\"yWs4tf\" src=\"https://encrypted-tbn0.gstatic.com/images?q=tbn:ANd9GcQsXdaPUm5KoXBhzqifRQn45SG5mEb1Uvp8PZW1I_e4O0GkVi5b0_SSLIvhwg&amp;s\"/>,\n",
       " <img alt=\"\" class=\"yWs4tf\" src=\"https://encrypted-tbn0.gstatic.com/images?q=tbn:ANd9GcSjDlyc8BuQbeLlq0tmELdAfx2bjOXKN-giJZyCmjjVkYtGauRtq-vQV9n3moQ&amp;s\"/>,\n",
       " <img alt=\"\" class=\"yWs4tf\" src=\"https://encrypted-tbn0.gstatic.com/images?q=tbn:ANd9GcSsZrwZlorAaeBLqQINH1a-15bM9eHq_XTTdfxqWXL7h5M8PlycepLanVO6AQ&amp;s\"/>,\n",
       " <img alt=\"\" class=\"yWs4tf\" src=\"https://encrypted-tbn0.gstatic.com/images?q=tbn:ANd9GcQPr0QTJpU3zQyVwI_gS-Cwmku6fCgeQJ__Bd5Ip0HQw5J26rqFo7Q0sAH-3FM&amp;s\"/>,\n",
       " <img alt=\"\" class=\"yWs4tf\" src=\"https://encrypted-tbn0.gstatic.com/images?q=tbn:ANd9GcRGSUNutALz4HX43jjFTsSVZtR_5V-20vpZOYQb8hi6CCTmptyCow7uCyCmhZg&amp;s\"/>,\n",
       " <img alt=\"\" class=\"yWs4tf\" src=\"https://encrypted-tbn0.gstatic.com/images?q=tbn:ANd9GcRgchMGvXtGm67mfD9Lng5cCfhjDva0UeFU1e5Iuld7Ruv4SaPi528lgrqW6r8&amp;s\"/>,\n",
       " <img alt=\"\" class=\"yWs4tf\" src=\"https://encrypted-tbn0.gstatic.com/images?q=tbn:ANd9GcTjBgHU-Rjs6ud63c5IECSiE7r6FPGN10Kf4yfzB3ZIKk6rns6E0AL-QVLIfDI&amp;s\"/>,\n",
       " <img alt=\"\" class=\"yWs4tf\" src=\"https://encrypted-tbn0.gstatic.com/images?q=tbn:ANd9GcQXt4o6pwEDE0bwmQhrdovXKOHAxbJM81jj_vIK-xWGo8hP5TyfRGZ0w8wiLg&amp;s\"/>,\n",
       " <img alt=\"\" class=\"yWs4tf\" src=\"https://encrypted-tbn0.gstatic.com/images?q=tbn:ANd9GcSHQU_ZM4WkUhKT5_kqq696A9KJzovnuU3D2EzLoskQEZK6RJnC5tlMDMj-Vw&amp;s\"/>,\n",
       " <img alt=\"\" class=\"yWs4tf\" src=\"https://encrypted-tbn0.gstatic.com/images?q=tbn:ANd9GcQISCHBiGrxv0G-GT7iGGTGgjsddloYssprXWbQ_uxOs2x6_GmwrBMgA3Q6c8o&amp;s\"/>,\n",
       " <img alt=\"\" class=\"yWs4tf\" src=\"https://encrypted-tbn0.gstatic.com/images?q=tbn:ANd9GcTWRmM8MIBMoID4fYZW6r21U90r3sBy64teX8nEUV9mvaql-2XZOkGPRwX9dWA&amp;s\"/>,\n",
       " <img alt=\"\" class=\"yWs4tf\" src=\"https://encrypted-tbn0.gstatic.com/images?q=tbn:ANd9GcRQQFJCHnTkFE7MULo18OetQpJLTPH_1SpZJe_BOIAfog4liaFsVpl1p20tAhE&amp;s\"/>,\n",
       " <img alt=\"\" class=\"yWs4tf\" src=\"https://encrypted-tbn0.gstatic.com/images?q=tbn:ANd9GcR9QYfLEyfA234nCFA10_hmwATUaHRH1Gqe57nOPmhS3urQNl2sIsNILHZAeE4&amp;s\"/>]"
      ]
     },
     "execution_count": 26,
     "metadata": {},
     "output_type": "execute_result"
    }
   ],
   "source": [
    "chandrayaan_tags"
   ]
  },
  {
   "cell_type": "code",
   "execution_count": 15,
   "id": "f4475b76",
   "metadata": {},
   "outputs": [
    {
     "data": {
      "text/plain": [
       "<img alt=\"Google\" class=\"kgJEQe\" src=\"/images/branding/searchlogo/1x/googlelogo_desk_heirloom_color_150x55dp.gif\"/>"
      ]
     },
     "execution_count": 15,
     "metadata": {},
     "output_type": "execute_result"
    }
   ],
   "source": [
    "chandrayaan_tags[0]"
   ]
  },
  {
   "cell_type": "code",
   "execution_count": 16,
   "id": "54203745",
   "metadata": {},
   "outputs": [],
   "source": [
    "del chandrayaan_tags[0]"
   ]
  },
  {
   "cell_type": "code",
   "execution_count": 17,
   "id": "43719e10",
   "metadata": {},
   "outputs": [
    {
     "data": {
      "text/plain": [
       "[<img alt=\"\" class=\"yWs4tf\" src=\"https://encrypted-tbn0.gstatic.com/images?q=tbn:ANd9GcSXh5_nQGzpa1YciAfTi94oilox64H8Twx3qPvHjoj4icI2BTENeqKXVPa9k1k&amp;s\"/>,\n",
       " <img alt=\"\" class=\"yWs4tf\" src=\"https://encrypted-tbn0.gstatic.com/images?q=tbn:ANd9GcS-7xL4WGyF36X3WehyizfdJ4XxadV3D_0ho5jekH71xKMjnmmxDtcKq3xung&amp;s\"/>,\n",
       " <img alt=\"\" class=\"yWs4tf\" src=\"https://encrypted-tbn0.gstatic.com/images?q=tbn:ANd9GcTzggI4Va-HBOTd_uk0DkVyu81hnsVd0OpXl59fO-YSy1CXZmWxvVpNh0AS6g&amp;s\"/>,\n",
       " <img alt=\"\" class=\"yWs4tf\" src=\"https://encrypted-tbn0.gstatic.com/images?q=tbn:ANd9GcRhUFE-KhL5MlfsNmeqrAEc19lvg9mMzAXd2R0r57mcQqvLyxI3ss_unxUCBls&amp;s\"/>,\n",
       " <img alt=\"\" class=\"yWs4tf\" src=\"https://encrypted-tbn0.gstatic.com/images?q=tbn:ANd9GcQ9bKxTymHDFigFiKC05JBy5nptalaJ4H4uxWYCGj1YgAbePmDaWtjYsTCK7g&amp;s\"/>,\n",
       " <img alt=\"\" class=\"yWs4tf\" src=\"https://encrypted-tbn0.gstatic.com/images?q=tbn:ANd9GcTvD_O8C9ZAT7N58l1ggEeSgOntEe55cSLsRdK210XkId801JTG3Ep06HxZjsM&amp;s\"/>,\n",
       " <img alt=\"\" class=\"yWs4tf\" src=\"https://encrypted-tbn0.gstatic.com/images?q=tbn:ANd9GcQsXdaPUm5KoXBhzqifRQn45SG5mEb1Uvp8PZW1I_e4O0GkVi5b0_SSLIvhwg&amp;s\"/>,\n",
       " <img alt=\"\" class=\"yWs4tf\" src=\"https://encrypted-tbn0.gstatic.com/images?q=tbn:ANd9GcS6Ma3G81mbTrQnHVU28J2Nx4is-d2s3E33xpfp7P8beg_M3SbI7TYRaFn0nRc&amp;s\"/>,\n",
       " <img alt=\"\" class=\"yWs4tf\" src=\"https://encrypted-tbn0.gstatic.com/images?q=tbn:ANd9GcR1Wd2QkX2frLO4-jHnhZuu_ZByX_DJ6-ZizlzhVTIBO2gXEs2NfpMu_oI7XFw&amp;s\"/>,\n",
       " <img alt=\"\" class=\"yWs4tf\" src=\"https://encrypted-tbn0.gstatic.com/images?q=tbn:ANd9GcThsLjoWTJHaIF3YnpvdUI2KpMM1hsIvXX-qJUfF13bXqonc9MruKPHADvcRFk&amp;s\"/>,\n",
       " <img alt=\"\" class=\"yWs4tf\" src=\"https://encrypted-tbn0.gstatic.com/images?q=tbn:ANd9GcSjDlyc8BuQbeLlq0tmELdAfx2bjOXKN-giJZyCmjjVkYtGauRtq-vQV9n3moQ&amp;s\"/>,\n",
       " <img alt=\"\" class=\"yWs4tf\" src=\"https://encrypted-tbn0.gstatic.com/images?q=tbn:ANd9GcSsZrwZlorAaeBLqQINH1a-15bM9eHq_XTTdfxqWXL7h5M8PlycepLanVO6AQ&amp;s\"/>,\n",
       " <img alt=\"\" class=\"yWs4tf\" src=\"https://encrypted-tbn0.gstatic.com/images?q=tbn:ANd9GcQbNuC2EdRiLYM3ddKITwf-OmHw7RHVIn9HL6-wyczZZSfdM0gtvKvE_HNn&amp;s\"/>,\n",
       " <img alt=\"\" class=\"yWs4tf\" src=\"https://encrypted-tbn0.gstatic.com/images?q=tbn:ANd9GcRRzV2BWvo-L6JASJjhj6tP0uc37hr7Oyh_p2gf1ebC3XlD8wcAg7M-SPTK4G8&amp;s\"/>,\n",
       " <img alt=\"\" class=\"yWs4tf\" src=\"https://encrypted-tbn0.gstatic.com/images?q=tbn:ANd9GcRGSUNutALz4HX43jjFTsSVZtR_5V-20vpZOYQb8hi6CCTmptyCow7uCyCmhZg&amp;s\"/>,\n",
       " <img alt=\"\" class=\"yWs4tf\" src=\"https://encrypted-tbn0.gstatic.com/images?q=tbn:ANd9GcTjBgHU-Rjs6ud63c5IECSiE7r6FPGN10Kf4yfzB3ZIKk6rns6E0AL-QVLIfDI&amp;s\"/>,\n",
       " <img alt=\"\" class=\"yWs4tf\" src=\"https://encrypted-tbn0.gstatic.com/images?q=tbn:ANd9GcSHQU_ZM4WkUhKT5_kqq696A9KJzovnuU3D2EzLoskQEZK6RJnC5tlMDMj-Vw&amp;s\"/>,\n",
       " <img alt=\"\" class=\"yWs4tf\" src=\"https://encrypted-tbn0.gstatic.com/images?q=tbn:ANd9GcQXt4o6pwEDE0bwmQhrdovXKOHAxbJM81jj_vIK-xWGo8hP5TyfRGZ0w8wiLg&amp;s\"/>,\n",
       " <img alt=\"\" class=\"yWs4tf\" src=\"https://encrypted-tbn0.gstatic.com/images?q=tbn:ANd9GcRhOEHOIsjwkZ-tdmtTOPdECHOtGUW9VBOrhgzGyeocSqQWwfX4D7UdDmdUnbA&amp;s\"/>,\n",
       " <img alt=\"\" class=\"yWs4tf\" src=\"https://encrypted-tbn0.gstatic.com/images?q=tbn:ANd9GcRgchMGvXtGm67mfD9Lng5cCfhjDva0UeFU1e5Iuld7Ruv4SaPi528lgrqW6r8&amp;s\"/>]"
      ]
     },
     "execution_count": 17,
     "metadata": {},
     "output_type": "execute_result"
    }
   ],
   "source": [
    "chandrayaan_tags"
   ]
  },
  {
   "cell_type": "code",
   "execution_count": 18,
   "id": "a1552622",
   "metadata": {},
   "outputs": [
    {
     "data": {
      "text/plain": [
       "20"
      ]
     },
     "execution_count": 18,
     "metadata": {},
     "output_type": "execute_result"
    }
   ],
   "source": [
    "len(chandrayaan_tags)"
   ]
  },
  {
   "cell_type": "code",
   "execution_count": 21,
   "id": "37e90631",
   "metadata": {},
   "outputs": [
    {
     "name": "stdout",
     "output_type": "stream",
     "text": [
      "https://encrypted-tbn0.gstatic.com/images?q=tbn:ANd9GcSXh5_nQGzpa1YciAfTi94oilox64H8Twx3qPvHjoj4icI2BTENeqKXVPa9k1k&s\n",
      "https://encrypted-tbn0.gstatic.com/images?q=tbn:ANd9GcS-7xL4WGyF36X3WehyizfdJ4XxadV3D_0ho5jekH71xKMjnmmxDtcKq3xung&s\n",
      "https://encrypted-tbn0.gstatic.com/images?q=tbn:ANd9GcTzggI4Va-HBOTd_uk0DkVyu81hnsVd0OpXl59fO-YSy1CXZmWxvVpNh0AS6g&s\n",
      "https://encrypted-tbn0.gstatic.com/images?q=tbn:ANd9GcRhUFE-KhL5MlfsNmeqrAEc19lvg9mMzAXd2R0r57mcQqvLyxI3ss_unxUCBls&s\n",
      "https://encrypted-tbn0.gstatic.com/images?q=tbn:ANd9GcQ9bKxTymHDFigFiKC05JBy5nptalaJ4H4uxWYCGj1YgAbePmDaWtjYsTCK7g&s\n",
      "https://encrypted-tbn0.gstatic.com/images?q=tbn:ANd9GcTvD_O8C9ZAT7N58l1ggEeSgOntEe55cSLsRdK210XkId801JTG3Ep06HxZjsM&s\n",
      "https://encrypted-tbn0.gstatic.com/images?q=tbn:ANd9GcQsXdaPUm5KoXBhzqifRQn45SG5mEb1Uvp8PZW1I_e4O0GkVi5b0_SSLIvhwg&s\n",
      "https://encrypted-tbn0.gstatic.com/images?q=tbn:ANd9GcS6Ma3G81mbTrQnHVU28J2Nx4is-d2s3E33xpfp7P8beg_M3SbI7TYRaFn0nRc&s\n",
      "https://encrypted-tbn0.gstatic.com/images?q=tbn:ANd9GcR1Wd2QkX2frLO4-jHnhZuu_ZByX_DJ6-ZizlzhVTIBO2gXEs2NfpMu_oI7XFw&s\n",
      "https://encrypted-tbn0.gstatic.com/images?q=tbn:ANd9GcThsLjoWTJHaIF3YnpvdUI2KpMM1hsIvXX-qJUfF13bXqonc9MruKPHADvcRFk&s\n",
      "https://encrypted-tbn0.gstatic.com/images?q=tbn:ANd9GcSjDlyc8BuQbeLlq0tmELdAfx2bjOXKN-giJZyCmjjVkYtGauRtq-vQV9n3moQ&s\n",
      "https://encrypted-tbn0.gstatic.com/images?q=tbn:ANd9GcSsZrwZlorAaeBLqQINH1a-15bM9eHq_XTTdfxqWXL7h5M8PlycepLanVO6AQ&s\n",
      "https://encrypted-tbn0.gstatic.com/images?q=tbn:ANd9GcQbNuC2EdRiLYM3ddKITwf-OmHw7RHVIn9HL6-wyczZZSfdM0gtvKvE_HNn&s\n",
      "https://encrypted-tbn0.gstatic.com/images?q=tbn:ANd9GcRRzV2BWvo-L6JASJjhj6tP0uc37hr7Oyh_p2gf1ebC3XlD8wcAg7M-SPTK4G8&s\n",
      "https://encrypted-tbn0.gstatic.com/images?q=tbn:ANd9GcRGSUNutALz4HX43jjFTsSVZtR_5V-20vpZOYQb8hi6CCTmptyCow7uCyCmhZg&s\n",
      "https://encrypted-tbn0.gstatic.com/images?q=tbn:ANd9GcTjBgHU-Rjs6ud63c5IECSiE7r6FPGN10Kf4yfzB3ZIKk6rns6E0AL-QVLIfDI&s\n",
      "https://encrypted-tbn0.gstatic.com/images?q=tbn:ANd9GcSHQU_ZM4WkUhKT5_kqq696A9KJzovnuU3D2EzLoskQEZK6RJnC5tlMDMj-Vw&s\n",
      "https://encrypted-tbn0.gstatic.com/images?q=tbn:ANd9GcQXt4o6pwEDE0bwmQhrdovXKOHAxbJM81jj_vIK-xWGo8hP5TyfRGZ0w8wiLg&s\n",
      "https://encrypted-tbn0.gstatic.com/images?q=tbn:ANd9GcRhOEHOIsjwkZ-tdmtTOPdECHOtGUW9VBOrhgzGyeocSqQWwfX4D7UdDmdUnbA&s\n",
      "https://encrypted-tbn0.gstatic.com/images?q=tbn:ANd9GcRgchMGvXtGm67mfD9Lng5cCfhjDva0UeFU1e5Iuld7Ruv4SaPi528lgrqW6r8&s\n"
     ]
    }
   ],
   "source": [
    "for i in chandrayaan_tags:\n",
    "    print(i['src'])   # 'src' get source link from the chandrayaan_tags"
   ]
  },
  {
   "cell_type": "code",
   "execution_count": 23,
   "id": "19a80399",
   "metadata": {},
   "outputs": [
    {
     "data": {
      "text/plain": [
       "<Response [200]>"
      ]
     },
     "execution_count": 23,
     "metadata": {},
     "output_type": "execute_result"
    }
   ],
   "source": [
    "requests.get(\"https://encrypted-tbn0.gstatic.com/images?q=tbn:ANd9GcRgchMGvXtGm67mfD9Lng5cCfhjDva0UeFU1e5Iuld7Ruv4SaPi528lgrqW6r8&s\")"
   ]
  },
  {
   "cell_type": "code",
   "execution_count": 25,
   "id": "792ffcaf",
   "metadata": {},
   "outputs": [
    {
     "data": {
      "text/plain": [
       "b'\\xff\\xd8\\xff\\xe0\\x00\\x10JFIF\\x00\\x01\\x01\\x00\\x00\\x01\\x00\\x01\\x00\\x00\\xff\\xdb\\x00\\x84\\x00\\t\\x06\\x07\\x08\\x07\\x06\\t\\x08\\x07\\x08\\n\\n\\t\\x0b\\r\\x16\\x0f\\r\\x0c\\x0c\\r\\x1b\\x14\\x15\\x10\\x16 \\x1d\"\" \\x1d\\x1f\\x1f$(4,$&1\\'\\x1f\\x1f-=-157:::#+?D?8C49:7\\x01\\n\\n\\n\\r\\x0c\\r\\x1a\\x0f\\x0f\\x1a7%\\x1f%77777777777777777777777777777777777777777777777777\\xff\\xc0\\x00\\x11\\x08\\x00k\\x00\\xa2\\x03\\x01\\x11\\x00\\x02\\x11\\x01\\x03\\x11\\x01\\xff\\xc4\\x00\\x1b\\x00\\x00\\x01\\x05\\x01\\x01\\x00\\x00\\x00\\x00\\x00\\x00\\x00\\x00\\x00\\x00\\x00\\x03\\x01\\x02\\x04\\x05\\x06\\x07\\x00\\xff\\xc4\\x00:\\x10\\x00\\x02\\x01\\x03\\x03\\x02\\x04\\x02\\x06\\t\\x04\\x03\\x00\\x00\\x00\\x00\\x01\\x02\\x03\\x00\\x04\\x11\\x05\\x12!\\x061\\x13\"AQaq\\x07\\x142\\x81\\x91\\xe1\\x15#$3R\\xa1\\xb1\\xc1\\xf0\\x16b\\xa2\\xd1B\\x82\\x92\\xff\\xc4\\x00\\x1a\\x01\\x01\\x00\\x03\\x01\\x01\\x01\\x00\\x00\\x00\\x00\\x00\\x00\\x00\\x00\\x00\\x00\\x00\\x02\\x03\\x04\\x01\\x05\\x06\\xff\\xc4\\x003\\x11\\x00\\x02\\x01\\x03\\x03\\x02\\x03\\x08\\x01\\x02\\x07\\x00\\x00\\x00\\x00\\x00\\x00\\x01\\x02\\x03\\x04\\x11\\x12!1\\x05Q\\x13\\x14A\"aq\\x81\\x91\\xa1\\xb1\\xc1\\xd1\\xe1\\xf0\\x15#$%23\\xa2\\xff\\xda\\x00\\x0c\\x03\\x01\\x00\\x02\\x11\\x03\\x11\\x00?\\x00\\xe4=?\\xa5\\rb\\xf2Ksp-\\xc2B\\xd2x\\x8c\\x85\\x94c\\xdf\\x1d\\x87=\\xe8\\r&\\xa9\\xd02\\xd8G\\x14\\xcdy1\\x86A\\'\\xda\\xb4\\xda\\xcaUT\\x80F\\xe2\\x14\\xb6N\\x03\\x15\\xce> P\\x13\\xa4\\xfa1\\x95-Rt\\xd6-\\xdf|lA\\xf0\\xbc\\x8f\\'\\x01\\x11[w\\x9bqlg\\xd3\\x04\\xe0\\xd0\\x11-\\xba\\ng\\xd4/mn5(\\xadE\\xb5\\xc9\\x84<\\xf1\\x15\\xf1T#\\xb8u\\x04\\xf2\\x0e\\xcf\\xc0\\xe7<P\\x13\\xec\\xbe\\x8d\\xee%\\xb5\\x8a[\\x8dBH%i\\xa4\\x89\\xa1\\xfa\\x8b3&\\xd2@-\\xe6\\x04n\\x00\\x11\\xc60\\xc3\\x9cs@d\\xafm\\xc5\\x9d\\xf4\\xf6\\xa1\\xcb\\x98\\x1c\\xc6\\xcc@\\x1ee8=\\x89\\x1d\\xc1\\xf5\\xa0\\x1a\\xa6\\x802\\x9a\\x00\\xcah\\x07\\x83@)\\xa0\\x1ah\\x06\\xd0\\t\\x8a\\x02s\\xe9\\x17i\\xa5\\xae\\xa6\\xc8\\xbfVg\\xd9\\x90y\\x04\\xf6${\\x1a\\x02\\x0e1@{\\x14\\x03H\\xe2\\x80n\\xdc\\xd0\\x0c*s\\x83\\xda\\x80]\\xb4\\x05\\x05\\x00\\xe2\\xeeA\\x05\\x98\\x83\\xe8M\\x00\\xe0I\\x00\\x12H\\x1d\\xb9\\xed@I\\x82\\xe6x\\xb3\\xe1O*g\\xbe\\xd7#4\\x04\\x88\\xef.\\xc1\\x04]N\\x0f\\xb8\\x95\\xb3\\xe9\\xf1\\xf8\\x0f\\xc2\\x80\\xf2\\x92I,I\\'\\x92M\\x00E\\xa0\\x0c\\xa6\\x80 4\\x01\\x14\\xd0\\x0b\\x9a\\x03\\xdd\\xe8\\x0f\\x01@.\\xda\\x03y`\\x1eN\\x8d\\xbdI\\x04f\\x03k\\xb8q\\xe6\\xdc3\\xf9\\x1a\\xe80dW\\x00\\x98\\xa0\\x10\\xad\\x00\\xa1~\\x14\\x00$b$\\x0b\\x81\\xc8\\xeeh\\x0fP\\x19\\xea\\x03\\xd4\\x03\\xd6\\x80*P\\x06J\\x00\\xcb@\\x11M\\x00E4\\x03\\xd5\\xa8\\x02\\x06\\xa0\\x1d\\x9c\\xd0\\x0f^h\\x07\\xa8\\xa0\\x1e\\x17\\x8a\\x02\\xf6\\xca\\xd6\\xf5z~\\xe2\\xee;\\xe2#1\\xb6\\xf8LK\\x82\\xb9\\xc67w\\xf5\\xae`\\xeev\\xc1DG\\xbdt\\xe0\\xf5\\x8dYx<\\xd0\\t\\xb3\\x1d\\xfb\\xd0\\x0c~;P\\x10\\xa7\\xfd\\xe8\\xf9P\\x0f\\xa03\\x94\\x07\\xa8\\x07\\xad\\x00T\\xa0\\x0c\\xbd\\xa8\\x02\\xad\\x00@h\\x07g\\x03$\\xf0=\\xe8\\r6\\x9d\\xd1\\x9a\\xa5\\xdc\\x11\\xcd+Cl\\x8e3\\x89[\\xcc\\xa3\\xdc\\x8fO\\x95yu\\xba\\xbd\\xbd98\\xac\\xb6\\xbb\\x1e\\x8d.\\x99Z\\xa4u=\\x88\\xda\\xd7N\\xdf\\xe8\\xc8\\xb2\\xce\\x12Kv8\\x12\\xc7\\x9c\\x03\\xf1\\x07\\xb5]i\\xd4(\\xdd=1\\xd9\\xf6)\\xb9\\xb2\\xabo\\xbc\\xb8\\xef\\xfc\\x95\\x8akq\\x902\\n\\x00\\xca\\xb4\\x05\\xc7Nh\\xff\\x00\\xa6\\xb5\\x01ld1F\\x14\\xb3\\xc80H\\xfb\\xa8\\x0b\\x1d1.?\\xd3r\\xc6\\xca\\xc2\\x06\\x8fn\\xff\\x00\\x0f\\x1d\\xd8v4\\x18*5\\xdd)\\xf4\\x9b\\xf3n[|l\\xa1\\xe2\\x93\\x18\\xdc\\xa7\\xfb\\x8eG\\xdd@@\\\\\\xa9\\xe2\\x80F4\\x00\\xdb\\xb5\\x01\\x12pL\\xa3\\x1d\\xf1@;\\x9fj\\x037@.1@9h\\x02\\xa5\\x00a\\xe9@\\x11h\\x02\\n\\x02~\\x82\\x89.\\xb7b\\x92\\xe0\\xa7\\x8c\\t\\xc9\\xc0\\xe3\\x9f\\xedY\\xee\\xe4\\xe3Bms\\x83E\\xa4c+\\x88)q\\x93o\\xd6Z\\xf5\\xe6\\x97\\x15\\xa2i\\xb71\\xc7$\\xa5\\xcc\\x8e\\xa1\\\\\\x806\\xe0s\\x91\\xce\\x7f\\x95x=.\\xca\\x9dg7V9\\xc66\\x7f3\\xd9\\xea\\x97R\\x86\\x95I\\x93.ne\\xd5\\xfa]e\\x92<\\xf8\\xb6e\\xe4\\xc2\\xe0\\x06\\xc7qT\\xc6\\n\\xda\\xf7L_\\x12\\xd8\\xd7OMk\\x17*\\x9c\\xb5\\xfa9\\xcc|\\xd7\\xd6\\x1f&I\\x8dh\\t*\\x84\\xf6\\x14\\x06\\xbb\\xe8\\xe7\\x0b\\xac\\xcd\\x90I\\xd8\\xa3\\x00\\xf6\\xe6\\x87R\\xc9g\\xa6\\xf8\\x9f\\xa0&\\x90\\xabxm\\x12\\xa68\\xfe!\\xe9C\\xa9\\x15\\x9fH*\\x0b\\xe9,\\x15\\x970H\\xb8n\\xfc0\\xa0\\x91\\x90\\xc6(Da\\x14\\x03M\\x002\\x84\\xba\\x91\\x8e\\xc4r>\\x14\\x03\\t\\x00\\xf7?\\x85\\x00\\xce\\x81\\xb5\\xb7\\xb9\\xd6\\xe5k\\x9bh\\xee\\x16\\xde\\xd2Y\\xd69\\x06P\\xb2\\x8e2=Eb\\xbf\\xa9(RZ^2\\xd24[F.~\\xd7fh\\xac\\xf4M\\x1f\\xacc\\xfa\\xfe\\x9di=\\xbc\\xab-\\xa4\\x170\\xc0\\x8b\\x1c{\\x9b>+\\xaa\\x8c\\xe1p\\x05d\\xadsV\\xcd\\xf8ry^\\xd3M\\xf3\\xee^\\x84\\xe3\\x08\\xd5y\\xc68\\xc9\\x16\\x0e\\x8d\\xb2m2\\x1b\\x93,\\xa6V\\xd5\\x16\\xdd\\x900\\xc0\\x80\\xcab\\xcfn\\xf9\\x15g\\x9e\\x9f\\x88\\xe3\\x8d\\xb4\\xe7\\xe7\\x8c\\x9c\\xf0#\\xa3)\\xfa\\xfd\\xb3\\x82\\xc6\\xf3\\xa1\\xf4}:k\\xc9.\\xa4\\xbdk[x\\xa7\\x99v:\\x83\"\\'\\x86@\\x07\\x1d\\xfc\\xe7\\xf0\\xaai\\xf5\\x1a\\xd5\"\\x94p\\x9b\\xd2\\xbeo9\\xfc\\x12\\x95\\x08Eg\\xe3\\xfa\\x1fw\\xd0Z}\\xa5\\x95\\xf34\\xf7\\x85\\xa13\\x14\\x9f\\xcb\\xe1\\xc6\\x11\\x15\\x86\\xfe1\\xce\\xecw\\x15\\xca}N\\xa4\\xe7\\x15\\x85\\xbe6\\xf5\\xdd\\xb4\\xf0q\\xd0\\x82Or\\xbct\\xa5\\xabG\\xa7\\xc1\\x1c\\x93\\x8b\\xdb\\xcb7eV`\\x14\\\\\\x84G\\t\\xdb\\xb1\\x0c\\x7f\\n\\xb9\\xdf\\xcd9\\xb6\\x96\\x98\\xbf\\xfc\\xe5\\xac\\xfd\\x8e;t\\x92\\xdfv\\xbe\\xe4}W\\xa7\\xed-\\xf4[\\xdb\\xeb9fw\\x82\\xe8\\xc4\\x88\\xe4y\\x902\\xa1=\\xbb\\xef\\'\\xee\\xc5YF\\xeer\\xad\\x1arK\\rg\\xe7\\xbb\\xfc\\x15N\\x11I\\xb4\\xc9p\\xe8v6\\x1a\\xe7\\x85\"\\x8b\\x8bcb\\xee\\xe2`\\x0e\\x1d\\\\+c\\xe5T\\xce\\xe6\\xadJ9[<\\xae;c(\\x94c\\x14\\xf7\\x07k\\xd2\\xf1\\xde]\\xad\\xb1\\x99mZ\\x1bH\\xb7\\x15\\x8c\\x1f\\x11\\xc9pI\\xff\\x00\\xe7\\xbdv\\xafRt\\xa1\\xad\\xadYo\\xd7\\x8e\\r\\xb6\\x9d=\\\\\\xe7|a/N\\xf9\\xfe\\r\\x06\\xb7p\\xba\\x0fMGk\\x04R\\x96x\\xcc\\nG+\\x1ex$\\x9f\\x8f<{\\xd7\\x9dgM\\xdd\\xdd\\xba\\x92|o\\xf1\\xf8\\x1e\\x95\\xf5Eko\\xe1Azc&\\n,\\xf1_N|\\xc9!\\xe7\\x10(%Kg\\x8a\\x01\\x03\\xde\\\\\\xf1\\x122\\xaf\\xb8\\xe3\\xf9\\xd7\\tlm\\xfe\\x8b\\xe16\\xfa\\xa5\\xc2\\xc8\\xdb\\x9f\\x0b\\x9e8\\x04\\x9a\"X4Z|\\x80\\xe8\\x0c\\xa65\\xd8#B\\x14|\\xc1\\xcfo\\x85W\\x96Z\\xb4\\xfa\"\\x97\\xe9\\x01U\\xbfD\\x95\\x18\\x02)\\x86>;\\x97\\xf3\\xab\\x17\\x053\\xe4\\xc7\\x94\\xae\\x90\\x18\\xcb@\\r\\x85\\x01\\x16i\\x15$\\x19\\x19\"\\x80\\xf0\\xb8\\\\p\\x94\\x01>\\x8d.^\\xdf\\xa9\\x82-\\x94\\x97\\x89qm,\\x12\\xc7\\x13\\xaa\\xb8F^YKq\\x91\\xf1\\xac\\xd7V\\xee\\xbc4\\xa7\\x86\\x9a\\x7fBQ\\x96\\x96o%\\x96kE\\xf0m\\xb4\\x8b\\xd8,\\xed\\x1a\\xc8\\xa3\\xb5\\xc4*\\xd2E\\x19`C\\x10\\xc0of%B\\x8c\\xf21\\xf0\\xac?\\xe1\\xd5$\\xdc\\xa5$\\xdb\\xd5\\xf7\\xe3\\xe8\\\\\\xab\\xe3\\x85\\xdb\\xec>6\\xbe\\x8f\\xf6\\x7f\\xf4\\xef\\x89l\\x02\\xbe\\xe8\\xe5\\x84\\xcd\\xe2,\\xe2S\\xdaLm\\xc1\\x18\\xe394}:\\xa3\\xf6\\xb5\\xef\\xf6\\xc6\\x9d\\'|\\xc6\\xd8\\xc7\\xf7\\x90\\x1a\\x9e\\xb4\\xe3M\\xd9\\xae\\xd8]\\x9bV\\x17V\\x85\\xe0\\x9a\\x07u\\xf1\\x99\\x19\\x17\\x1b\\xbe\\xd2\\xa6\\xdc\\xf1\\xc6W\\xde\\xb8\\xbal\\xe1=pk\\x98\\xbf\\xa2i\\x9c\\xf1\\x960\\xd7p\\xd7:\\xde\\xa3\\xa9\\xfdd&\\x89z\\x91\\x99\\xef!t\\xf1# \\xf9R,\\x1eFH8\\xcf\\xa7\\'\\x19\\xc5ut\\xda\\x8b\\x1e\\xd2\\xdb\\x1fg\\x96EUK\\x95\\xdc\\x05\\xdc\\xda\\x9bjV\\xed.\\x83<+i\\xa9\\x07A\\x1b\\xc6\\x1d\\x94\\'\\x87\\x86\\xf3\\xfd\\xaf\\xb3\\xc8\\xe3\\x02\\x91\\xe9\\xb3T\\xe5\\x1d_\\xf2\\x8e\\x1f\\xc79\\xdb\\xdcX\\xeb\\xc7)\\xe3\\x87\\xfa)\\xf4\\xd9.\\x7fEZ[>\\x95\\xe2X\\xc9l\\xa5\\xa5\\xdf\\x1e\\xe2\\xed:\\xb0\\xee\\xd8\\x00\\xeeN\\x0e\\x0eH5|\\xec\\xa7*\\x8e\\xa2\\x96\\xf9\\xf9c\\x18\\xfa\\x95\\xaa\\x8bN0\\x06\\xe6\\xf9\\xf5\\x1b\\xc3b\\xb6j\\xb7\\xb7p\\xdc\\xc7\\nC\"\\x15+.\\x1dK\\x1d\\xc7\\x07\\x00\\x93\\xf3\\xe2\\xa2\\xed\\xfc\\xbcu\\xca[GK\\x7f-\\xbf{\\x08\\xea\\xa9-1[\\xb2?U6\\xada\\xa8\\xc1<\\xa2k7\\x9a\\xddT\\xf8r\\x8f3)9>S\\xfe\\xefZ\\x8d\\x8a\\xb7\\xab\\tE{X}\\xbb\\xfc~\\x06\\x8a\\x8e\\xe2\\xd9\\xad\\xdcs\\xd9\\xf65\\x96P\\xb6\\xad\\xd1\\xcb-\\xeb\\x86\\x92x\\x19\\xc9\\xc7$\\xfa\\x7f1\\x9a\\xf1j\\xcb\\xcb\\xdfi\\xa7\\xc2h\\xf7c[\\xccZ{k\\x98\\xef\\xfc\\x9c\\xea\\xdf\\x90\\r}s>M<\\xa2\\xc2\\x15\\xce(t\\x9f\\x12\\xd1 k:\\n\\xdbn\\xa3%\\xc1+\\xb6L\\x14\\x03\\xbeP\\x90j\\xa6\\xf1\\xc9\\xa1-I`\\xbb\\xb1\\x8cG\\xa7\\xc9\\x11H|\\xb1\\xa4|7\\xae\\xec\\x83\\xda\\xa8\\xf1\\xe2\\xe1\\xa9\\x1a|\\xbbU42\\x9f\\xaem\\xd9\\xad4\\xeb\\x81\\xb0*4\\x88@\\xf7o0?\\xf15\\xa6\\x9b\\xca1\\xd6\\x8b\\x8c\\x8c{%X\\xca\\x812\\xd7\\x00\\x17_z\\x02\\r\\xc8\\xfdgn\\xc0P\\t\\xfew\\xa0\\x19\\xf4x\\xda\\x80\\xea\\xabe\\xd2E\\xb1\\xb9ep\\xbfZ\\x0cc\\xfb$\\xf3\\xb4\\x83\\xe8>\\xfa\\x03\\xa6jrul6\\xa5\\xa4\\xfd\\x08^\\xe1m\\xe2\\xc2\\x1b\\x85f\\r\"\\xaa\\x1c\\xee\\xf4g\\x19\\x1d\\xb0H\\xc6\\x06(\\x06XG\\xd4\\xea\\xc6\\xefO\\xff\\x00O\\x08\\x1f\\xc5\\x99\\x19\"\\x98#r\\x03c\\'\\xb9\\xdb\\x93\\x9er\\xc74\\x04\\x01i\\xack\\xf0\\xcdcy\\x1e\\x95\\xda\\x19\\x12O\\xda\\tY\\x03I\\x02\\x1c\\x92B\\x81\\xe1\\x12x\\x03\\x9f\\x89\\x14\\x05\\x9bG\\xd4\\xf6\\x88\\xfb\\xd7A\\xb7YnH`!\\xb8!e\\x92V$\\x96\\xcf\\x00\\xb7<\\x9c\\x0f(\\xf5\\xc1\\x03\\'}\\xd7\\xba\\xd4Z\\xa3\\x99m\\xf4\\xc7\\xb9\\xb6\\x91\\xa3\\x13,2\\x03\\x81\\x80W\\x96\\x04\\x03\\xb0g<\\xfb\\xd0\\x15\\xf6\\x9d_\\xa8\\xda\\xd8\\xdb\\xd9\\xc7mbb\\x84 \\xcb\\xc6\\xc5\\x9bf0I\\xdd\\xfe\\xd5\\xed\\x8e\\xd4\\x00\\xec5\\x95:\\xbe\\x9buy\\x1aF-JFeB\\xdcF\\x17gbH\\xecs\\xc6*\\x8b\\xaaN\\xad\\t\\xc2<\\xb4_mQS\\xad\\x19\\xbfFn\\xba\\xbf\\xa7_Z\\x86\\xd6Hn\\xd1Z\\x12\\xdc\\x95\\xdc\\x19[\\x1e\\xdf*\\xf9\\x8e\\x9b~\\xade(\\xca<\\xfeQ\\xee\\xdd\\xda;\\xb7\\x17\\x07\\x86\\xbe\\x84\\x8b\\xb8a\\xd0zL\\xa4\\xd3\\xee\\x16\\xf0\\x14C\\xdb{\\x90@\\xe3\\xe2MWI\\xca\\xf2\\xfbTW/\\xe8\\x91)IZZ\\xb8{\\xb0s\\x08\\x8a\\xa6\\x03\\x1cb\\xbe\\xc9\\xb3\\xe6I\\xf6\\xae\\xb26\\xd8\\x87\\x88\\xd8\\'\\x02\\xa3)(\\xac\\xb2\\xcat\\xe57\\x84\\\\i\\x96wS\\x07\\x92h\\xe2P\\x07\\x11\\x92w|\\xf8\\xedYj\\xdd\\xc6<\\x1b(\\xd9\\xeaY\\x99\\xaf\\xe9\\x0bi\\xe1\\x86\\'[{\\x8d\\xc0\\xb1;b2\\x01\\x96\\xcf;r\\x07\\x7f\\xebY\\xdd\\xce\\xac\\xe9Y\\xc1\\x7f\\x97T\\xd2\\xcbH\\xb4\\x99?Y\\x10\\x0e\\x8a\\x8f2\\x82\\xa2<\\x1e2\\xc0\\xf3\\xe9\\xd8`\\x0c\\xd7\\x9f\\n\\xf9N9\\xf5\\xe3\\xdcjp\\xc4\\x94\\xb1\\xe9\\xc9\\x03\\xa9\"\\x96{kkim\\xe6\\xf2\\xce\\x1f2\\xc4\\xd1\\x0c\\x00}\\xc0>\\xbe\\x95\\xe8y\\xc5M$\\xd3FUi\\xe2\\xc9\\xe1\\xed\\xf11\\xd3\\xda\\xcf\\x14\\xe67Ee\\xf4h\\xce\\xe1\\xf9V\\xaawP\\x94r\\xcc\\xd5,f\\xa5\\x88\\x95\\xf2M\\x0f\\xf1\\x8c\\xfbc\\x91Z\\x8c \\x9cP\\x11.abKn\\xda\\x0f#\\x8c\\xe7\\xfc\\xc5\\x01\\xe3\\x14\\x8aHV\\x18\\x1c\\x0e+\\x99\\x06{H\\xd5otk\\xc1y\\xa6\\\\5\\xbd\\xca\\xa9U\\x91@$\\x03\\xdf\\x19\\xae\\x82\\xd6~\\xb6\\xea+\\x88DR\\xealQY]\\x7fS\\x18 \\xab\\xef\\x1c\\x85\\xce7`\\xfd\\xc3\\xda\\x80,}w\\xd4\\xc8IMU\\x93#\\x1eXc\\x03\\x1c\\x9cconO\\x1d\\xbf\\n\\x03\\xc3\\xac\\xf5\\xf3\\x9f\\xdb!R}R\\xca\\x15#\\x96n\\x08N9f?\\xfb\\x1fz\\x00\\xb2\\xf5\\x8fP\\\\ Y\\xef\\xd6P$\\xf1@\\x92\\xda&\\xc3\\xe4\\x9d\\xc3)\\xdf\\x92>G\\x1d\\xa8\\n\\xbb\\x8b\\x89\\xae\\xeee\\xb9\\xb9\\x90\\xc9<\\xce^G?\\xf919&\\x80A@8\\n\\x02\\xce\\xcb\\\\\\xd5l\\xad\\xfe\\xafk\\x7f2B\\x06\\x04y\\x04\\x01\\xf0\\xceq\\xf7Vj\\x96V\\xf5e\\xaepM\\x97\\xd3\\xba\\xafMb\\x12\\xfd\\xfeD\\xb9\\xbf\\xbd\\xd4]~\\xbbu,\\xdb~\\xc8c\\xc2\\xfc\\x80\\xe2\\xa7J\\x85*)\\xf8q\\xc1\\x1a\\xb5\\xaaUy\\x9b\\xc8\\xd3\\x12+\\x03\\xb8\\xe3\\xd1\\x94\\xe3\\x15fS!\\x89&XZY<\\xb2F\\xc6+\\x897\\x11\\x97 \\xb6\\x06}~\\x15\\x07*q[\\x96\\xc65g,$h,\\xf4\\xdf\\x19\\x84m\\xe3\\xaa\\x91\\xeb\\x1eF\\x07\\xdfX\\xe7yJ+e\\x93|z}w\\xcb\\xc1\\xd7>\\x8f 0hN\\xcc\\xaa\\xbb\\xe6?g\\xb6\\x02\\xa8\\x1f\\xd0\\xd4\\xec^a)wl\\xcd}\\x955\\x1e\\xc9\\x10\\x16\\x10z\\xba(\\xd8\\x12\\x16\\xe8\\x91\\xc7l\\x02Ex\\xb4\\xe3\\xfe\\xe4\\xd3\\xeez._\\xe82\\xbb\\x12\\xfe\\x91\\xed|}.\\xd9\\x94\\x1d\\xcb6\\xd0@\\xc9\\x19S\\xff\\x00U\\xed\\xdeN0Q\\x9c\\x96w<\\xeb\\x18Jr\\x94b\\xfd?g%\\xbe\\xb0\\xf1c\\x7f<\\xce@\\xdd\\xb3f3\\x83\\xf3\\xe7\\xd6\\xa1\\n\\xf6\\xf2\\xc6\\xd84N\\xd2\\xe6+\\xb9F\\xf0\\xa6\\x06\\xf9Y\\x87p\\x08\\x00\\xf7\\xf5 f\\xb6\\xa8G\\x94`\\x93\\xa9\\xc3\\x0c\\x96\\xe2X\\x0c\\x82T\\xf5\\xc2\\xfa\\xf1\\xefR\\xf1\\x12\\x96\\x92>\\x14\\xb4\\xeae|\\xee\\xa6H\\xd3\\xd0\\x8f6s\\xc7\\xb5\\x1f\\'\\x11-!\\x05\\x14\\xe7\\xb8\\x15\\xc1\\x83\\x07R z\\x80z\\xd0\\x05J\\x00\\xc9@\\x19h\\x02-\\x00@(\\x02(\\xa0\\x0b\\x18 \\xe4P\\x13\\xed\\xeefV\\x04;c\\x18\\xc0$Ur\\xa5\\t,4[\\x1a\\xd2\\x8b\\xc9e\\x06\\xa3v\\x83\\x11\\xc9\\xb7\\x9c\\x92\\x06I\\xf9\\xd4\\x1d\\xa5\\'\\xca,\\xf3\\x95}\\x1e\\x0b]:\\xf2\\xfey\\x04J\\xcc\\xdb\\xf8\\xed\\xc7\\xe5Yn-\\xe8S\\x86\\xa7\\xb6\\r6\\xf75\\xe7$\\xb9;_I\\xdb\\xb5\\xb7O\\xd9\\xabm\\xde\\xd1\\xefns\\x92y\\xfe\\xf5u\\x94R\\xa0\\x9c}w\\xfa\\x99\\xae\\xe4\\xe5ZY\\xf4\\xdb\\xe83\\xea\\xa8\\xbdPn\\x1bh\\xfd\\x9fw#\\xd7;r?\\xcfZ\\xc8\\xa8\\xa5\\xd4u\\xfb\\xbf\\xa1g\\x8a\\xfc\\xa6\\x8fy\\xee\\xb1\\xb7\\x92\\xe3\\xa7\\xee\\xbc\\x12|H\\x87\\x8a\\xa4\\x0f\\xe1\\xfc\\xb3[n\\xe9\\xf8\\x94\\xb0Wi=\\x15Q\\xc5\\'\\xd6\\xaf\\x95\\xfc\\xb3\\x0c\\x0cq\\xb6\\xab\\x8d\\x8d\\x0cp];\\xea\\xe9\\xe3$I5\\x8b\\x86m\\xc4.\\xfccp$\\x13\\xf3\\xa9+8\">zmn\\x91\\x02K\\xeb\\x82\\x9b^V<}\\xa2Io\\xc4\\xd5\\xd1\\xa1\\x08<\\xa2\\x89\\xdcNk\\x0c\\x82\\xd2\\xaclN>\\xcfsV\\x95\\xa69o]T\\x05D\\xc0\\x1cf\\xa3\\xb9\\xdc\\x98\\xda\\x91\\x03\\xd4\\x03\\xd6\\x80*P\\x06J\\x00\\xc9@\\x19h\\x02\\xa8\\xe2\\x80\"\\x8a\\x00\\xaa1@\\x1e>(\\x03\"\\xcad\\xfd\\xf6\\xc5\\xcf`9\\xfet\\xdc\\xeeR4\\xdd \\xf2\\xc3xc\\xfdkC\"0\\xdeF@o\\x9foC\\xc5x\\x9db\\x11t\\xb2\\x9e\\xe7\\xb1\\xd3e-Xkc\\xb1O\\xd4\\xbaf\\x93\\nC!b\"@\\x1f`\\xf2\\xa60>\\xff\\x00\\xba\\xb4B\\xf6\\x9d(\\xc6\\x9c\\x13x\\xdboC\\'\\x93\\xabS5\\x1e\\xcb\\x9d\\xca\\x89\\xba\\xd6\\x07g\\x9e\\xce\\xcaO\\x10\\xae\\xd5i\\x18\\x11\\x8c\\xf7\\xc0\\xab\\\\\\xe4\\xe5\\xae+~7\\n\\x82\\x8a\\xc4\\x9e\\xc5L\\xbdQ\\xa9\\xcc\\nO7\\x8b\\x1b\\xa9S\\x1e\\xd0\\x03\\x03\\xdc\\x1csRq\\x9c\\x96$\\xce\\xff\\x00\\x95\\x17\\x98\\xc4\\xcc_\\xf4\\xd5\\xc6\\xa5z\\xd3\\xd9\\xdd*G\"\\x96+3\\x02Q\\xbd\\x80\\x03\\x91\\xf1\\xaaa7m\\r2-\\x9c\\x15\\xcc\\xb2\\x8c\\x8d\\xc2\\xc9o<\\xb0N\\xbbe\\x89\\xb6\\xba\\xfck\\xd0\\x8c\\x94\\xa2\\x9a<\\xe9\\xc1\\xc2M?@\\x0eFjD\\x08r\\xe4\\x86\\xef\\x8a\\x01\\x83\\xb7\\xe7BFj\\x84OP\\x0fZ\\x00\\xa9@\\x19(\\x03%\\x00d\\xa0\\x0c\\xb4\\x01TP\\x05\\x14\\x04\\xa5\\x85]\\x17k\\xa2\\xb7s\\xbd\\xb1Ps\\xc3\\xe0\\xb1S\\xd4\\xb6e\\xefM\\xe8\\x8d\\x7fp%\\x9eD\\xf0Q\\xbf\\x88\\xe5\\x88\\xe7\\xdb\\xb5c\\xbb\\xbbT\\xe1\\x88\\xf2l\\xb4\\xb4s\\x96\\xa9p\\x8e\\x93,)km\\x13\\xb8\\x04\\x1c\\x80\\xab\\x91\\xc8\\xaf\\x9f\\xaf\\x15\\x1cJ{\\x9e\\xc59\\xb9I\\xc6;`\\xc4\\xf5]\\xe3\\xdb\\x18-7H\\xd1I\\x97~{\\xf21\\xf8W\\xa1\\xd2\\xe3\\x19\\xa9M\\xad\\xcc\\x97\\xf3p\\xd3\\x14WY_\\xa4v\\xdb\\xa22n\\xc9\\x04\\xbf*+\\xd9P<\\xc7P\\xb2\\xb5\\xbc\\x1fU\\x02\\xe5\\xf2\\xd8\\xf2\\xb2\\xf3\\x83\\xff\\x00u2\\x1c\\x8f\\x87Q\\x9e\\xde\\xe05\\xbc\\x81\\x8a\\x1c\\x15\\x03\\x1d\\xfe\\x06\\xa18Fk\\x12\\'\\x19\\xbao1-\\x86\\xa7o{o5\\xa5\\xd9O\\x02\\xe5\\n\\xc8\\xca\\xab\\x91\\x91\\xc7\\xa5C\\xc1PY\\x89?0\\xe7\\xb4\\xcem}\\x18\\xb7\\xb9\\x92\\x00FQ\\x8a\\xe79\\xcd_\\x17\\x95\\xb9\\x96i\\'\\x84@e\\x93\\x81\\xc6A\\xcf\\x7fZ\\xeeH\\xe0C\\x80p{\\x8f\\x852t\\xcdWH\\x9e\\xa0\\x1e\\xb4\\x01R\\x802P\\x07J\\x00\\xcb@\\x19h\\x02\\xad\\x00J\\x02~\\x8fn\\x97w\\x9e\\x0c\\x80\\x1c\\xaf\\x97\\'\\x1c\\xe4s\\xf9Uug\\xa29.\\xa1O\\xc4\\x96\\r\\xe6\\x90\\xe2;\\x93o\\xb5\\x81RrH\\xaf\\x9b\\xbc\\x93\\x96\\xec\\xfa\\x1bx\\xa8\\xac#h\\xf6\\'Q\\xd2\\xa42\\xa3\\x95\\x8d|\\xbe\\x19%\\xd8\\x81\\x8c\\x81ENUa\\x9fE\\xf52\\xba\\xbe\\x15\\\\\\'\\xcf~\\x0eA\\xd4WF\\xe3Y\\x91\\'\\xca,\\x00\\xa0VS\\xcbz\\x9c\\x7f\\x9d\\xab\\xd6\\xe9\\xf4U:^\\xf6e\\xbe\\xa8\\xe7S\\xdc\\x8a\\xe8\\xee@\\x8c\\xc4\\xd2\\x90\\xaey\\x04`\\n\\xf4\\x0c\\x03\\xed/\\xd5B\\xacd\\xb3)\\xe5A\\xe0\\x0e\\xd4d\\x93%j\\x97\\xb3Y\\xce\\xa7|xp\\x08\\xf2\\xf9\\xbd\\xb1\\xfd*(Hf\\x99xn\\xa4\\x99d\\x01\\x11O\\x9b\\x1e\\xa4{\\xd0r\\x13^\\xb5-h\\x97J<\\xd1\\r\\x8c\\x07\\xa8\\xf7\\xfcMu\\x11\\x92\\xf5(n\\xdc\\x0b\\x86\\x0b\\x8f\\xb4}{T\\x97\\x07\\x1f\"x\\xde\\xf1)>\\xf8\\xef]\\x192\\xf4 z\\x80z\\xd0\\x05J\\x00\\xc9@\\x1d(\\x03-\\x00e\\xa0\\n\\xb4\\x01(\\t\\xda$1\\xcf\\xa8\\xa2J\\xbb\\x97k63\\xea\\x07\\x15E\\xc3j\\x9bh\\xd1k\\x15*\\x8b\\'E\\xd1$il\\xa2\\x9aB\\x1aF\\xce[\\x03\\'\\x9a\\xf9\\xab\\xad\\x9b\\xc1\\xf4T7\\x8a\\xc9\\xb9\\xe9y]\\xd0\\x87l\\xe1\\x94\\x0f\\x95j\\xe9\\xd3\\x93\\x9a<\\xde\\xa3\\x14\\x9e\\xc79\\xfaiU\\x1dCh\\xc0\\x00\\xcdl\\x0b\\x11\\xeaw\\x1a\\xf70\\x95Fy\\xeb\\xfe\\xa4sI\\x98\\x90\\x01<U\\x85@\\xa1%%\\xf2\\x9cq@\\xb9&\\xea24\\xf6\\xd0\\xc9)\\xdc\\xf8\\x03\\'\\xdb\\x14D\\x80\\xda\\xbbxD\\xe4\\xe5\\x9cd\\xfb\\xd7\\x19\\x14Z\\xea\\x92?\\xe8\\xc8\\xfc\\xc7\\xccp~ f\\x88\\x94\\x9e\\xc5\\\\\\xbf\\xbfs\\xeb\\xe2\\x1a\\x9f\\xa1\\x00l\\xc41\\x03\\xb0>\\xd5\\x10\\x7f\\xff\\xd9'"
      ]
     },
     "execution_count": 25,
     "metadata": {},
     "output_type": "execute_result"
    }
   ],
   "source": [
    "requests.get(\"https://encrypted-tbn0.gstatic.com/images?q=tbn:ANd9GcRgchMGvXtGm67mfD9Lng5cCfhjDva0UeFU1e5Iuld7Ruv4SaPi528lgrqW6r8&s\").content\n",
    "# binary form of an image"
   ]
  },
  {
   "cell_type": "code",
   "execution_count": 26,
   "id": "48e2f71c",
   "metadata": {},
   "outputs": [
    {
     "name": "stdout",
     "output_type": "stream",
     "text": [
      "0\n",
      "1\n",
      "2\n",
      "3\n",
      "4\n",
      "5\n",
      "6\n",
      "7\n",
      "8\n",
      "9\n",
      "10\n",
      "11\n",
      "12\n",
      "13\n",
      "14\n",
      "15\n",
      "16\n",
      "17\n",
      "18\n",
      "19\n"
     ]
    }
   ],
   "source": [
    "for i in chandrayaan_tags:\n",
    "    print(chandrayaan_tags.index(i))"
   ]
  },
  {
   "cell_type": "code",
   "execution_count": 28,
   "id": "7b6eef39",
   "metadata": {},
   "outputs": [
    {
     "name": "stdout",
     "output_type": "stream",
     "text": [
      "\\images\n",
      "chandrayaan 3\n"
     ]
    }
   ],
   "source": [
    "print(save_dir)\n",
    "print(query)"
   ]
  },
  {
   "cell_type": "code",
   "execution_count": 32,
   "id": "f86bbc94",
   "metadata": {},
   "outputs": [],
   "source": [
    "\n",
    "for i in chandrayaan_tags:\n",
    "    img_data = requests.get(i['src']).content    # binary data saved in a variable 'img_data'\n",
    "    with open(os.path.join(save_dir,f\"{query}_{chandrayaan_tags.index(i)}.jpg\"),\"wb\") as f:       \n",
    "        # open 'images' dir and join images in jpg format and save in f\n",
    "        f.write(img_data)"
   ]
  },
  {
   "cell_type": "code",
   "execution_count": 33,
   "id": "3371b944",
   "metadata": {},
   "outputs": [
    {
     "data": {
      "text/plain": [
       "'e:\\\\iNeuronIntelligence\\\\Python'"
      ]
     },
     "execution_count": 33,
     "metadata": {},
     "output_type": "execute_result"
    }
   ],
   "source": [
    "pwd\n"
   ]
  },
  {
   "cell_type": "code",
   "execution_count": null,
   "id": "7a746847",
   "metadata": {},
   "outputs": [],
   "source": []
  }
 ],
 "metadata": {
  "kernelspec": {
   "display_name": "Python 3 (ipykernel)",
   "language": "python",
   "name": "python3"
  },
  "language_info": {
   "codemirror_mode": {
    "name": "ipython",
    "version": 3
   },
   "file_extension": ".py",
   "mimetype": "text/x-python",
   "name": "python",
   "nbconvert_exporter": "python",
   "pygments_lexer": "ipython3",
   "version": "3.9.0"
  }
 },
 "nbformat": 4,
 "nbformat_minor": 5
}
